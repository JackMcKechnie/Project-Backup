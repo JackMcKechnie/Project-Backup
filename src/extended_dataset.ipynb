{
 "cells": [
  {
   "cell_type": "code",
   "execution_count": 32,
   "source": [
    "#Imports\r\n",
    "import pandas as pd\r\n",
    "import textstat\r\n",
    "from adjective_density import adjective_density\r\n",
    "import language_tool_python"
   ],
   "outputs": [],
   "metadata": {}
  },
  {
   "cell_type": "code",
   "execution_count": 33,
   "source": [
    "data = pd.read_csv(\"data\\mturk_experiment_2.csv\",encoding = 'unicode_escape')"
   ],
   "outputs": [],
   "metadata": {}
  },
  {
   "cell_type": "code",
   "execution_count": 34,
   "source": [
    "#Add readability level\r\n",
    "\r\n",
    "readability = []\r\n",
    "\r\n",
    "for sentence in data[\"Sentence\"]:\r\n",
    "    readability.append(textstat.text_standard(sentence,float_output=True))\r\n",
    "\r\n",
    "data[\"Readability\"] = readability"
   ],
   "outputs": [],
   "metadata": {}
  },
  {
   "cell_type": "code",
   "execution_count": 35,
   "source": [
    "#Add Flesch-Kincaid grade level \r\n",
    "\r\n",
    "fk_level = []\r\n",
    "\r\n",
    "for sentence in data[\"Sentence\"]:\r\n",
    "    fk_level.append(textstat.flesch_kincaid_grade(sentence))\r\n",
    "\r\n",
    "data[\"Flesch-Kincaid\"] = fk_level"
   ],
   "outputs": [],
   "metadata": {}
  },
  {
   "cell_type": "code",
   "execution_count": 36,
   "source": [
    "#Add adjective density\r\n",
    "\r\n",
    "adjective_densitites = []\r\n",
    "\r\n",
    "for sentence in data[\"Sentence\"]:\r\n",
    "    adjective_densitites.append(adjective_density(sentence))\r\n",
    "\r\n",
    "\r\n",
    "data[\"ADF Score\"] = adjective_densitites"
   ],
   "outputs": [],
   "metadata": {}
  },
  {
   "cell_type": "code",
   "execution_count": 37,
   "source": [
    "#Add Spelling and Grammar errors percentage\r\n",
    "tool = language_tool_python.LanguageTool('en-US')\r\n",
    "\r\n",
    "s_g_errors = []\r\n",
    "\r\n",
    "for sentence in data[\"Sentence\"]:\r\n",
    "    errors = tool.check(sentence)\r\n",
    "    s_g_errors.append(len(errors))\r\n",
    "\r\n",
    "data[\"S+G Percent\"] = s_g_errors\r\n",
    "data[\"S+G Percent\"] = (data[\"S+G Percent\"] / data[\"Length in Words\"]) * 100"
   ],
   "outputs": [],
   "metadata": {}
  },
  {
   "cell_type": "code",
   "execution_count": 38,
   "source": [
    "#Rearrange and save data\r\n",
    "data = data[[\"Sentence ID\",\"HIT ID\",\"Formality\",\"Informativeness\",\"Implicature\",\"Length in Words\",\"Length in Characters\",\"F-score\",\"I-score\",\"Lexical Density\",\"Readability\",\"Flesch-Kincaid\",\"ADF Score\",\"S+G Percent\",\"Sentence\"]]\r\n",
    "data.to_csv(\"data\\extended_mturk.csv\",index=False)"
   ],
   "outputs": [],
   "metadata": {}
  }
 ],
 "metadata": {
  "orig_nbformat": 4,
  "language_info": {
   "name": "python",
   "version": "3.9.7",
   "mimetype": "text/x-python",
   "codemirror_mode": {
    "name": "ipython",
    "version": 3
   },
   "pygments_lexer": "ipython3",
   "nbconvert_exporter": "python",
   "file_extension": ".py"
  },
  "kernelspec": {
   "name": "python3",
   "display_name": "Python 3.9.7 64-bit (windows store)"
  },
  "interpreter": {
   "hash": "a2292f7dadeec0b36dafabb7d1d8dd7b9b8b8f0665c515bec64e67bf9650aaf0"
  }
 },
 "nbformat": 4,
 "nbformat_minor": 2
}