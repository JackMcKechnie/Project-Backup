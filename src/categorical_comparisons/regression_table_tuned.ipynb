{
 "cells": [
  {
   "cell_type": "code",
   "execution_count": 1,
   "metadata": {},
   "outputs": [],
   "source": [
    "# Imports\n",
    "import pandas as pd\n",
    "from sklearn.model_selection import KFold\n",
    "from sklearn.model_selection import train_test_split\n",
    "from sklearn import linear_model\n",
    "from sklearn.model_selection import cross_validate\n",
    "from sklearn.preprocessing import scale\n",
    "from make_scores import make_scores\n",
    "from sklearn.model_selection import GridSearchCV\n",
    "import numpy as np"
   ]
  },
  {
   "cell_type": "code",
   "execution_count": 2,
   "metadata": {},
   "outputs": [],
   "source": [
    "# Data setup\n",
    "data = pd.read_csv(\"../../data/mturk_experiment_2.csv\",\n",
    "                   encoding='unicode_escape')\n",
    "feature_names = [\"Informativeness\", \"Implicature\", \"Length in Words\",\n",
    "                 \"Length in Characters\", \"F-score\", \"I-score\", \"Lexical Density\"]\n",
    "features = data[feature_names]\n",
    "target = data[\"Formality\"]\n"
   ]
  },
  {
   "cell_type": "code",
   "execution_count": 3,
   "metadata": {},
   "outputs": [],
   "source": [
    "# Regression setup\n",
    "X_train, X_test, y_train, y_test = train_test_split(\n",
    "    features, target, test_size=0.2, random_state=1)\n",
    "cv = KFold(n_splits=10, random_state=1, shuffle=True)\n",
    "scoring = [\"r2\", \"neg_mean_squared_error\",\n",
    "           \"neg_median_absolute_error\", \"max_error\"]\n"
   ]
  },
  {
   "cell_type": "code",
   "execution_count": 4,
   "metadata": {},
   "outputs": [
    {
     "name": "stdout",
     "output_type": "stream",
     "text": [
      "Linear regression...\n",
      "Done\n"
     ]
    }
   ],
   "source": [
    "# Linear regression\n",
    "print(\"Linear regression...\")\n",
    "lin_reg = linear_model.LinearRegression()\n",
    "lin_reg_scores = cross_validate(\n",
    "    lin_reg, X_train, y_train, cv=cv, scoring=scoring)\n",
    "print(\"Done\")"
   ]
  },
  {
   "cell_type": "code",
   "execution_count": 5,
   "metadata": {},
   "outputs": [
    {
     "name": "stdout",
     "output_type": "stream",
     "text": [
      "Ridge regression...\n",
      "Done\n"
     ]
    }
   ],
   "source": [
    "# Ridge regression\n",
    "print(\"Ridge regression...\")\n",
    "ridge_reg = linear_model.Ridge()\n",
    "ridge_params = {'alpha': [1,0.1,0.01,0.001,0.0001,0] , \"fit_intercept\": [True, False], \"solver\": ['svd', 'cholesky', 'lsqr', 'sparse_cg', 'sag', 'saga']}\n",
    "ridge_tuned = GridSearchCV(estimator=ridge_reg, param_grid=ridge_params,n_jobs=-1)\n",
    "ridge_reg_scores = cross_validate(ridge_tuned, X_train, y_train, cv=cv, scoring=scoring,n_jobs=-1)\n",
    "print(\"Done\")"
   ]
  },
  {
   "cell_type": "code",
   "execution_count": 6,
   "metadata": {},
   "outputs": [
    {
     "name": "stdout",
     "output_type": "stream",
     "text": [
      "Lasso regression...\n",
      "Done\n"
     ]
    }
   ],
   "source": [
    "# Lasso regression\n",
    "print(\"Lasso regression...\")\n",
    "lasso_reg = linear_model.Lasso()\n",
    "\n",
    "lasso_params = {'alpha': list(np.linspace(0.1,1,10)),\n",
    " 'fit_intercept': [True,False],\n",
    " 'selection': ['cyclic','random'],\n",
    " 'warm_start': [False,True]}\n",
    "\n",
    "lasso_reg_tuned = GridSearchCV(estimator=lasso_reg, param_grid=lasso_params,n_jobs=-1)\n",
    "lasso_reg_scores = cross_validate(lasso_reg_tuned, X_train, y_train, cv=cv, scoring=scoring,n_jobs=-1)\n",
    "print(\"Done\")"
   ]
  },
  {
   "cell_type": "code",
   "execution_count": 7,
   "metadata": {},
   "outputs": [
    {
     "name": "stdout",
     "output_type": "stream",
     "text": [
      "LARS Lasso regression...\n",
      "Done\n"
     ]
    }
   ],
   "source": [
    "# LARS Lasso\n",
    "print(\"LARS Lasso regression...\")\n",
    "lars_lasso_reg = linear_model.LassoLars(normalize=False)\n",
    "\n",
    "lars_lasso_params = {'alpha': list(np.linspace(0.1,5,10)),\n",
    " 'fit_intercept': [True,False]}\n",
    "\n",
    "lars_lasso_reg_tuned = GridSearchCV(estimator=lars_lasso_reg, param_grid=lars_lasso_params,n_jobs=-1)\n",
    "lars_lasso_reg_scores = cross_validate(lars_lasso_reg_tuned, X_train, y_train, cv=cv, scoring=scoring,n_jobs=-1)\n",
    "print(\"Done\")"
   ]
  },
  {
   "cell_type": "code",
   "execution_count": 8,
   "metadata": {},
   "outputs": [
    {
     "name": "stdout",
     "output_type": "stream",
     "text": [
      "Bayesian Ridge regression...\n",
      "Done\n"
     ]
    }
   ],
   "source": [
    "# Bayesian Ridge Regression\n",
    "print(\"Bayesian Ridge regression...\")\n",
    "bayesian_ridge_reg = linear_model.BayesianRidge()\n",
    "\n",
    "bayesian_ridge_params = {\n",
    "    'alpha_1' : list(np.linspace(1e-7,2,10)),\n",
    "    #'alpha_2' : list(np.linspace(1e-7,2,10)),\n",
    "    'lambda_1' : list(np.linspace(1e-7,2,10)),\n",
    "    #'lambda_2' : list(np.linspace(1e-7,2,10))\n",
    "}\n",
    "\n",
    "bayesian_ridge_reg_tuned = GridSearchCV(estimator=bayesian_ridge_reg, param_grid=bayesian_ridge_params,n_jobs=-1)\n",
    "\n",
    "bayesian_ridge_reg_scores = cross_validate(bayesian_ridge_reg_tuned, X_train, y_train, cv=cv, scoring=scoring)\n",
    "\n",
    "print(\"Done\")"
   ]
  },
  {
   "cell_type": "code",
   "execution_count": 9,
   "metadata": {},
   "outputs": [
    {
     "name": "stdout",
     "output_type": "stream",
     "text": [
      "Stochastic Gradient Descent regression...\n",
      "Done\n"
     ]
    }
   ],
   "source": [
    "# Stochastic Gradient Descent Regression\n",
    "print(\"Stochastic Gradient Descent regression...\")\n",
    "sgd_reg = linear_model.SGDRegressor()\n",
    "\n",
    "sgd_params = {\n",
    "    'loss' : ['squared_error','huber','epsilon_insensitive','squared_epsilon_insensitive'],\n",
    "    'penalty' : ['l2','l1','elasticnet'],\n",
    "    'alpha' : [0.000001,0.00001,0.0001,0.001,0.01,0.1],\n",
    "    'fit_intercept' : [True,False],\n",
    "    'learning_rate' : ['constant','optimal','invscaling','adaptive']\n",
    "    }\n",
    "\n",
    "sgd_reg_tuned = GridSearchCV(estimator=sgd_reg, param_grid=sgd_params,n_jobs=-1)\n",
    "sgd_reg_scores = cross_validate(sgd_reg_tuned, scale(X_train), scale(y_train), cv=cv, scoring=scoring,n_jobs=-1)\n",
    "print(\"Done\")"
   ]
  },
  {
   "cell_type": "code",
   "execution_count": 10,
   "metadata": {},
   "outputs": [
    {
     "data": {
      "text/html": [
       "<div>\n",
       "<style scoped>\n",
       "    .dataframe tbody tr th:only-of-type {\n",
       "        vertical-align: middle;\n",
       "    }\n",
       "\n",
       "    .dataframe tbody tr th {\n",
       "        vertical-align: top;\n",
       "    }\n",
       "\n",
       "    .dataframe thead th {\n",
       "        text-align: right;\n",
       "    }\n",
       "</style>\n",
       "<table border=\"1\" class=\"dataframe\">\n",
       "  <thead>\n",
       "    <tr style=\"text-align: right;\">\n",
       "      <th></th>\n",
       "      <th>R Squared</th>\n",
       "      <th>Negative Mean Squared Error</th>\n",
       "      <th>Negative Mean Absolute Error</th>\n",
       "      <th>Max Error</th>\n",
       "    </tr>\n",
       "  </thead>\n",
       "  <tbody>\n",
       "    <tr>\n",
       "      <th>Linear Regression Tuned + Nothing</th>\n",
       "      <td>0.565145</td>\n",
       "      <td>-0.549488</td>\n",
       "      <td>-0.504211</td>\n",
       "      <td>-2.818254</td>\n",
       "    </tr>\n",
       "    <tr>\n",
       "      <th>Ridge Regression Tuned + Nothing</th>\n",
       "      <td>0.565143</td>\n",
       "      <td>-0.549491</td>\n",
       "      <td>-0.504240</td>\n",
       "      <td>-2.818436</td>\n",
       "    </tr>\n",
       "    <tr>\n",
       "      <th>Lasso Regression Tuned + Nothing</th>\n",
       "      <td>0.551924</td>\n",
       "      <td>-0.566213</td>\n",
       "      <td>-0.517293</td>\n",
       "      <td>-2.837245</td>\n",
       "    </tr>\n",
       "    <tr>\n",
       "      <th>LARS Lasso Regression Tuned + Nothing</th>\n",
       "      <td>0.551915</td>\n",
       "      <td>-0.566224</td>\n",
       "      <td>-0.517290</td>\n",
       "      <td>-2.836936</td>\n",
       "    </tr>\n",
       "    <tr>\n",
       "      <th>Bayesian Ridge Regression Tuned + Nothing</th>\n",
       "      <td>0.565142</td>\n",
       "      <td>-0.549493</td>\n",
       "      <td>-0.504274</td>\n",
       "      <td>-2.820237</td>\n",
       "    </tr>\n",
       "    <tr>\n",
       "      <th>Stochastic Gradient Descent Regression Tuned + Nothing</th>\n",
       "      <td>0.565318</td>\n",
       "      <td>-0.433685</td>\n",
       "      <td>-0.447119</td>\n",
       "      <td>-2.500917</td>\n",
       "    </tr>\n",
       "  </tbody>\n",
       "</table>\n",
       "</div>"
      ],
      "text/plain": [
       "                                                    R Squared  \\\n",
       "Linear Regression Tuned + Nothing                    0.565145   \n",
       "Ridge Regression Tuned + Nothing                     0.565143   \n",
       "Lasso Regression Tuned + Nothing                     0.551924   \n",
       "LARS Lasso Regression Tuned + Nothing                0.551915   \n",
       "Bayesian Ridge Regression Tuned + Nothing            0.565142   \n",
       "Stochastic Gradient Descent Regression Tuned + ...   0.565318   \n",
       "\n",
       "                                                    Negative Mean Squared Error  \\\n",
       "Linear Regression Tuned + Nothing                                     -0.549488   \n",
       "Ridge Regression Tuned + Nothing                                      -0.549491   \n",
       "Lasso Regression Tuned + Nothing                                      -0.566213   \n",
       "LARS Lasso Regression Tuned + Nothing                                 -0.566224   \n",
       "Bayesian Ridge Regression Tuned + Nothing                             -0.549493   \n",
       "Stochastic Gradient Descent Regression Tuned + ...                    -0.433685   \n",
       "\n",
       "                                                    Negative Mean Absolute Error  \\\n",
       "Linear Regression Tuned + Nothing                                      -0.504211   \n",
       "Ridge Regression Tuned + Nothing                                       -0.504240   \n",
       "Lasso Regression Tuned + Nothing                                       -0.517293   \n",
       "LARS Lasso Regression Tuned + Nothing                                  -0.517290   \n",
       "Bayesian Ridge Regression Tuned + Nothing                              -0.504274   \n",
       "Stochastic Gradient Descent Regression Tuned + ...                     -0.447119   \n",
       "\n",
       "                                                    Max Error  \n",
       "Linear Regression Tuned + Nothing                   -2.818254  \n",
       "Ridge Regression Tuned + Nothing                    -2.818436  \n",
       "Lasso Regression Tuned + Nothing                    -2.837245  \n",
       "LARS Lasso Regression Tuned + Nothing               -2.836936  \n",
       "Bayesian Ridge Regression Tuned + Nothing           -2.820237  \n",
       "Stochastic Gradient Descent Regression Tuned + ...  -2.500917  "
      ]
     },
     "execution_count": 10,
     "metadata": {},
     "output_type": "execute_result"
    }
   ],
   "source": [
    "# Generate table\n",
    "\n",
    "table = pd.DataFrame()\n",
    "\n",
    "type = \"Nothing\"\n",
    "\n",
    "table[\"Linear Regression Tuned + \" + type] = make_scores(lin_reg_scores)\n",
    "table[\"Ridge Regression Tuned + \" + type] = make_scores(ridge_reg_scores)\n",
    "table[\"Lasso Regression Tuned + \" + type] = make_scores(lasso_reg_scores)\n",
    "table[\"LARS Lasso Regression Tuned + \" + type] = make_scores(lars_lasso_reg_scores)\n",
    "table[\"Bayesian Ridge Regression Tuned + \" +\n",
    "      type] = make_scores(bayesian_ridge_reg_scores)\n",
    "table[\"Stochastic Gradient Descent Regression Tuned + \" +\n",
    "      type] = make_scores(sgd_reg_scores)\n",
    "\n",
    "\n",
    "table = table.T\n",
    "column_names = [\"R Squared\", \"Negative Mean Squared Error\",\n",
    "                \"Negative Mean Absolute Error\", \"Max Error\"]\n",
    "table.columns = column_names\n",
    "\n",
    "table"
   ]
  }
 ],
 "metadata": {
  "interpreter": {
   "hash": "a2292f7dadeec0b36dafabb7d1d8dd7b9b8b8f0665c515bec64e67bf9650aaf0"
  },
  "kernelspec": {
   "display_name": "Python 3.9.7 64-bit (windows store)",
   "name": "python3"
  },
  "language_info": {
   "codemirror_mode": {
    "name": "ipython",
    "version": 3
   },
   "file_extension": ".py",
   "mimetype": "text/x-python",
   "name": "python",
   "nbconvert_exporter": "python",
   "pygments_lexer": "ipython3",
   "version": "3.9.8"
  },
  "orig_nbformat": 4
 },
 "nbformat": 4,
 "nbformat_minor": 2
}
