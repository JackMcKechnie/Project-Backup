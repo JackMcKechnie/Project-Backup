{
 "cells": [
  {
   "cell_type": "code",
   "execution_count": 25,
   "metadata": {},
   "outputs": [],
   "source": [
    "# Imports\n",
    "from tensorflow.keras.layers import TextVectorization\n",
    "import pandas as pd\n",
    "from sklearn.model_selection import train_test_split\n",
    "import numpy as np\n",
    "import tensorflow as tf\n",
    "from tensorflow.keras.layers import Embedding\n",
    "from tensorflow import keras\n",
    "from tensorflow.keras.models import Sequential\n",
    "from tensorflow.keras.layers import Activation, Dense\n",
    "from tensorflow.keras.optimizers import Adam, SGD\n",
    "from sklearn.model_selection import train_test_split\n",
    "from tensorflow.keras import layers\n",
    "from sklearn.model_selection import RepeatedKFold, cross_val_score\n",
    "from tensorflow.keras.models import * \n",
    "from tensorflow.keras.layers import * \n",
    "from tensorflow.keras.wrappers.scikit_learn import KerasRegressor\n",
    "from sklearn.model_selection import KFold"
   ]
  },
  {
   "cell_type": "code",
   "execution_count": 26,
   "metadata": {},
   "outputs": [],
   "source": [
    "# Import data\n",
    "data = pd.read_csv(\"../../data/mturk_experiment_2.csv\",encoding='unicode_escape')\n",
    "labels = data[\"Formality\"]\n",
    "samples = data[\"Sentence\"]\n",
    "\n",
    "\n",
    "train_samples, test_samples, train_labels,test_labels = train_test_split(samples, labels, test_size=0.2)\n",
    "\n",
    "train_samples = np.array(train_samples)\n",
    "test_samples = np.array(test_samples)\n",
    "train_labels = np.array(train_labels)\n",
    "test_labels = np.array(test_labels)"
   ]
  },
  {
   "cell_type": "code",
   "execution_count": 27,
   "metadata": {},
   "outputs": [],
   "source": [
    "vectoriser = TextVectorization(max_tokens=20000, output_sequence_length=200)\n",
    "text_ds = tf.data.Dataset.from_tensor_slices(train_samples).batch(128)\n",
    "vectoriser.adapt(text_ds)\n",
    "\n",
    "voc = vectoriser.get_vocabulary()\n",
    "word_index = dict(zip(voc, range(len(voc))))\n",
    "\n",
    "glove_path = \"glove.6B.300d.txt\"\n",
    "embeddings_index = {}\n",
    "with open(glove_path,encoding=\"utf8\") as f:\n",
    "    for line in f:\n",
    "        word, coefs = line.split(maxsplit=1)\n",
    "        coefs = np.fromstring(coefs,\"f\",sep= \" \")\n",
    "        embeddings_index[word] = coefs\n",
    "\n",
    "num_tokens = len(voc) + 2\n",
    "embedding_dim = 300\n",
    "hits = 0\n",
    "misses = 0\n",
    "\n",
    "embedding_matrix = np.zeros((num_tokens,embedding_dim))\n",
    "\n",
    "for word, i in word_index.items():\n",
    "    embedding_vector = embeddings_index.get(word)\n",
    "    if embedding_vector is not None:\n",
    "        embedding_matrix[i] = embedding_vector\n",
    "        hits += 1\n",
    "    else:\n",
    "        misses += 1\n",
    "\n",
    "        \n",
    "embedding_layer = Embedding(num_tokens,embedding_dim,embeddings_initializer=keras.initializers.Constant(embedding_matrix),trainable=False)"
   ]
  },
  {
   "cell_type": "code",
   "execution_count": 28,
   "metadata": {},
   "outputs": [],
   "source": [
    "def buildmodel():\n",
    "\n",
    "    int_sequences_input = keras.Input(shape=(None,), dtype=\"int64\")\n",
    "    embedded_sequences = embedding_layer(int_sequences_input)\n",
    "    x = layers.Conv1D(128, 1, activation=\"relu\")(embedded_sequences)\n",
    "    x = layers.MaxPooling1D(1)(x)\n",
    "    x = layers.Conv1D(128, 1, activation=\"relu\")(x)\n",
    "    x = layers.MaxPooling1D(1)(x)\n",
    "    x = layers.Conv1D(128, 1, activation=\"relu\")(x)\n",
    "    x = layers.GlobalMaxPooling1D()(x)\n",
    "    x = layers.Dense(128, activation=\"relu\")(x)\n",
    "    x = layers.Dropout(0.5)(x)\n",
    "    preds = layers.Dense(units=1)(x)\n",
    "    model = keras.Model(int_sequences_input, preds)\n",
    "    model.compile(optimizer=Adam(learning_rate=0.001),loss='mean_squared_error',metrics=[tf.keras.metrics.MeanSquaredError(),tf.keras.losses.MeanAbsoluteError(),tf.keras.losses.MeanAbsolutePercentageError()])     \n",
    "    return model"
   ]
  },
  {
   "cell_type": "code",
   "execution_count": 29,
   "metadata": {},
   "outputs": [],
   "source": [
    "x_train = vectoriser(np.array([[s] for s in train_samples])).numpy()\n",
    "x_val = vectoriser(np.array([[s] for s in test_samples])).numpy()\n",
    "\n",
    "y_train = np.array(train_labels)\n",
    "y_val = np.array(test_labels)"
   ]
  },
  {
   "cell_type": "code",
   "execution_count": 39,
   "metadata": {},
   "outputs": [
    {
     "name": "stdout",
     "output_type": "stream",
     "text": [
      "Epoch 1/15\n",
      "5625/5625 [==============================] - 23s 4ms/step - loss: 1.3028 - mean_squared_error: 1.3028 - mean_absolute_error: 0.9021 - mean_absolute_percentage_error: 23.9512\n",
      "Epoch 2/15\n",
      "5625/5625 [==============================] - 19s 3ms/step - loss: 0.9888 - mean_squared_error: 0.9888 - mean_absolute_error: 0.7955 - mean_absolute_percentage_error: 21.3779\n",
      "Epoch 3/15\n",
      "5625/5625 [==============================] - 20s 4ms/step - loss: 0.8670 - mean_squared_error: 0.8670 - mean_absolute_error: 0.7449 - mean_absolute_percentage_error: 20.2457\n",
      "Epoch 4/15\n",
      "5625/5625 [==============================] - 19s 3ms/step - loss: 0.7610 - mean_squared_error: 0.7610 - mean_absolute_error: 0.7011 - mean_absolute_percentage_error: 19.1100\n",
      "Epoch 5/15\n",
      "5625/5625 [==============================] - 20s 3ms/step - loss: 0.6804 - mean_squared_error: 0.6804 - mean_absolute_error: 0.6636 - mean_absolute_percentage_error: 18.1109\n",
      "Epoch 6/15\n",
      "5625/5625 [==============================] - 19s 3ms/step - loss: 0.6145 - mean_squared_error: 0.6145 - mean_absolute_error: 0.6257 - mean_absolute_percentage_error: 17.1504\n",
      "Epoch 7/15\n",
      "5625/5625 [==============================] - 19s 3ms/step - loss: 0.5769 - mean_squared_error: 0.5769 - mean_absolute_error: 0.6040 - mean_absolute_percentage_error: 16.6522\n",
      "Epoch 8/15\n",
      "5625/5625 [==============================] - 19s 3ms/step - loss: 0.5398 - mean_squared_error: 0.5398 - mean_absolute_error: 0.5868 - mean_absolute_percentage_error: 16.2345\n",
      "Epoch 9/15\n",
      "5625/5625 [==============================] - 19s 3ms/step - loss: 0.5128 - mean_squared_error: 0.5128 - mean_absolute_error: 0.5722 - mean_absolute_percentage_error: 15.8276\n",
      "Epoch 10/15\n",
      "5625/5625 [==============================] - 20s 3ms/step - loss: 0.4900 - mean_squared_error: 0.4900 - mean_absolute_error: 0.5582 - mean_absolute_percentage_error: 15.4966\n",
      "Epoch 11/15\n",
      "5625/5625 [==============================] - 20s 4ms/step - loss: 0.4616 - mean_squared_error: 0.4616 - mean_absolute_error: 0.5396 - mean_absolute_percentage_error: 14.9300\n",
      "Epoch 12/15\n",
      "5625/5625 [==============================] - 20s 4ms/step - loss: 0.4365 - mean_squared_error: 0.4365 - mean_absolute_error: 0.5278 - mean_absolute_percentage_error: 14.7301\n",
      "Epoch 13/15\n",
      "5625/5625 [==============================] - 20s 4ms/step - loss: 0.4210 - mean_squared_error: 0.4210 - mean_absolute_error: 0.5136 - mean_absolute_percentage_error: 14.3183\n",
      "Epoch 14/15\n",
      "5625/5625 [==============================] - 20s 4ms/step - loss: 0.3963 - mean_squared_error: 0.3963 - mean_absolute_error: 0.5013 - mean_absolute_percentage_error: 13.9926\n",
      "Epoch 15/15\n",
      "5625/5625 [==============================] - 21s 4ms/step - loss: 0.3951 - mean_squared_error: 0.3951 - mean_absolute_error: 0.4957 - mean_absolute_percentage_error: 13.8601\n"
     ]
    },
    {
     "data": {
      "text/plain": [
       "<keras.callbacks.History at 0x23f21e7bc40>"
      ]
     },
     "execution_count": 39,
     "metadata": {},
     "output_type": "execute_result"
    }
   ],
   "source": [
    "model = buildmodel()\n",
    "model.fit(x=x_train,y=y_train,batch_size=1,epochs=15)"
   ]
  },
  {
   "cell_type": "code",
   "execution_count": 40,
   "metadata": {},
   "outputs": [
    {
     "name": "stdout",
     "output_type": "stream",
     "text": [
      "44/44 [==============================] - 0s 7ms/step - loss: 0.6757 - mean_squared_error: 0.6757 - mean_absolute_error: 0.6653 - mean_absolute_percentage_error: 18.4747\n"
     ]
    },
    {
     "data": {
      "text/plain": [
       "[0.6756930351257324, 0.6652719974517822, 18.47465705871582]"
      ]
     },
     "execution_count": 40,
     "metadata": {},
     "output_type": "execute_result"
    }
   ],
   "source": [
    "scores = model.evaluate(x=x_val,y=y_val)\n",
    "scores[1:]"
   ]
  },
  {
   "cell_type": "code",
   "execution_count": 32,
   "metadata": {},
   "outputs": [
    {
     "data": {
      "text/plain": [
       "'\\nestimator= KerasRegressor(build_fn=buildmodel, epochs=20, batch_size=32, verbose=1)\\ncv = KFold(n_splits=10, random_state=1, shuffle=True)\\nkfold= RepeatedKFold(n_splits=5, n_repeats=100)\\nresults= cross_val_score(estimator, x_train, y_train, cv=cv, n_jobs=-1)  # 2 cpus\\nresults.mean()  # Mean MSE\\n'"
      ]
     },
     "execution_count": 32,
     "metadata": {},
     "output_type": "execute_result"
    }
   ],
   "source": [
    "'''\n",
    "estimator= KerasRegressor(build_fn=buildmodel, epochs=20, batch_size=32, verbose=1)\n",
    "cv = KFold(n_splits=10, random_state=1, shuffle=True)\n",
    "kfold= RepeatedKFold(n_splits=5, n_repeats=100)\n",
    "results= cross_val_score(estimator, x_train, y_train, cv=cv, n_jobs=-1)  # 2 cpus\n",
    "results.mean()  # Mean MSE\n",
    "'''"
   ]
  }
 ],
 "metadata": {
  "interpreter": {
   "hash": "a2292f7dadeec0b36dafabb7d1d8dd7b9b8b8f0665c515bec64e67bf9650aaf0"
  },
  "kernelspec": {
   "display_name": "Python 3.9.7 64-bit (windows store)",
   "name": "python3"
  },
  "language_info": {
   "codemirror_mode": {
    "name": "ipython",
    "version": 3
   },
   "file_extension": ".py",
   "mimetype": "text/x-python",
   "name": "python",
   "nbconvert_exporter": "python",
   "pygments_lexer": "ipython3",
   "version": "3.9.9"
  },
  "orig_nbformat": 4
 },
 "nbformat": 4,
 "nbformat_minor": 2
}
