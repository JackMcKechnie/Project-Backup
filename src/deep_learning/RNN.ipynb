{
 "cells": [
  {
   "cell_type": "code",
   "execution_count": 1,
   "metadata": {},
   "outputs": [],
   "source": [
    "# Imports\n",
    "from tensorflow.keras.layers import TextVectorization\n",
    "import pandas as pd\n",
    "from sklearn.model_selection import train_test_split\n",
    "import numpy as np\n",
    "import tensorflow as tf\n",
    "from tensorflow.keras.layers import Embedding\n",
    "from tensorflow import keras\n",
    "from tensorflow.keras.models import Sequential\n",
    "from tensorflow.keras.layers import Activation, Dense \n",
    "from tensorflow.keras.optimizers import Adam\n",
    "from sklearn.model_selection import train_test_split\n",
    "from tensorflow.keras import layers\n"
   ]
  },
  {
   "cell_type": "code",
   "execution_count": 2,
   "metadata": {},
   "outputs": [],
   "source": [
    "# Import data\n",
    "data = pd.read_csv(\"../../data/mturk_experiment_2.csv\",encoding='unicode_escape')\n",
    "labels = data[\"Formality\"]\n",
    "samples = data[\"Sentence\"]\n",
    "\n",
    "train_samples, test_samples, train_labels,test_labels = train_test_split(samples, labels, test_size=0.2)\n",
    "\n",
    "train_samples = np.array(train_samples)\n",
    "test_samples = np.array(test_samples)\n",
    "train_labels = np.array(train_labels)\n",
    "test_labels = np.array(test_labels)"
   ]
  },
  {
   "cell_type": "code",
   "execution_count": 3,
   "metadata": {},
   "outputs": [],
   "source": [
    "vectoriser = TextVectorization(max_tokens=20000, output_sequence_length=200)\n",
    "text_ds = tf.data.Dataset.from_tensor_slices(train_samples).batch(128)\n",
    "vectoriser.adapt(text_ds)"
   ]
  },
  {
   "cell_type": "code",
   "execution_count": 4,
   "metadata": {},
   "outputs": [],
   "source": [
    "voc = vectoriser.get_vocabulary()\n",
    "word_index = dict(zip(voc, range(len(voc))))"
   ]
  },
  {
   "cell_type": "code",
   "execution_count": 5,
   "metadata": {},
   "outputs": [],
   "source": [
    "glove_path = \"glove.6B.300d.txt\"\n",
    "embeddings_index = {}\n",
    "with open(glove_path,encoding=\"utf8\") as f:\n",
    "    for line in f:\n",
    "        word, coefs = line.split(maxsplit=1)\n",
    "        coefs = np.fromstring(coefs,\"f\",sep= \" \")\n",
    "        embeddings_index[word] = coefs"
   ]
  },
  {
   "cell_type": "code",
   "execution_count": 6,
   "metadata": {},
   "outputs": [],
   "source": [
    "num_tokens = len(voc) + 2\n",
    "embedding_dim = 300\n",
    "hits = 0\n",
    "misses = 0\n",
    "\n",
    "embedding_matrix = np.zeros((num_tokens,embedding_dim))\n",
    "\n",
    "for word, i in word_index.items():\n",
    "    embedding_vector = embeddings_index.get(word)\n",
    "    if embedding_vector is not None:\n",
    "        embedding_matrix[i] = embedding_vector\n",
    "        hits += 1\n",
    "    else:\n",
    "        misses += 1"
   ]
  },
  {
   "cell_type": "code",
   "execution_count": 7,
   "metadata": {},
   "outputs": [],
   "source": [
    "embedding_layer = Embedding(num_tokens,embedding_dim,embeddings_initializer=keras.initializers.Constant(embedding_matrix),trainable=False)"
   ]
  },
  {
   "cell_type": "code",
   "execution_count": 8,
   "metadata": {},
   "outputs": [
    {
     "name": "stdout",
     "output_type": "stream",
     "text": [
      "Model: \"model\"\n",
      "_________________________________________________________________\n",
      "Layer (type)                 Output Shape              Param #   \n",
      "=================================================================\n",
      "input_1 (InputLayer)         [(None, None)]            0         \n",
      "_________________________________________________________________\n",
      "embedding (Embedding)        (None, None, 300)         4125300   \n",
      "_________________________________________________________________\n",
      "gru (GRU)                    (None, None, 300)         541800    \n",
      "_________________________________________________________________\n",
      "simple_rnn (SimpleRNN)       (None, 300)               180300    \n",
      "_________________________________________________________________\n",
      "dense (Dense)                (None, 1)                 301       \n",
      "=================================================================\n",
      "Total params: 4,847,701\n",
      "Trainable params: 722,401\n",
      "Non-trainable params: 4,125,300\n",
      "_________________________________________________________________\n"
     ]
    }
   ],
   "source": [
    "int_sequences_input = keras.Input(shape=(None,), dtype=\"int64\")\n",
    "embedded_sequences = embedding_layer(int_sequences_input)\n",
    "x = layers.GRU(300,return_sequences=True)(embedded_sequences)\n",
    "x = layers.SimpleRNN(300)(x)\n",
    "out = layers.Dense(1,activation='relu')(x)\n",
    "\n",
    "model = keras.Model(int_sequences_input,out)\n",
    "model.summary()"
   ]
  },
  {
   "cell_type": "code",
   "execution_count": 9,
   "metadata": {},
   "outputs": [],
   "source": [
    "x_train = vectoriser(np.array([[s] for s in train_samples])).numpy()\n",
    "x_val = vectoriser(np.array([[s] for s in test_samples])).numpy()\n",
    "\n",
    "y_train = np.array(train_labels)\n",
    "y_val = np.array(test_labels)"
   ]
  },
  {
   "cell_type": "code",
   "execution_count": 10,
   "metadata": {},
   "outputs": [],
   "source": [
    "model.compile(optimizer=Adam(learning_rate=0.0001),loss='mean_squared_error',metrics=[tf.keras.metrics.MeanSquaredError(),tf.keras.losses.MeanAbsoluteError(),tf.keras.losses.MeanAbsolutePercentageError()])"
   ]
  },
  {
   "cell_type": "code",
   "execution_count": 11,
   "metadata": {},
   "outputs": [
    {
     "name": "stdout",
     "output_type": "stream",
     "text": [
      "Epoch 1/20\n",
      "176/176 [==============================] - 124s 681ms/step - loss: 2.2039 - mean_squared_error: 2.2039 - mean_absolute_error: 1.1504 - mean_absolute_percentage_error: 32.6196\n",
      "Epoch 2/20\n",
      "176/176 [==============================] - 121s 686ms/step - loss: 1.4139 - mean_squared_error: 1.4139 - mean_absolute_error: 0.9773 - mean_absolute_percentage_error: 29.1464\n",
      "Epoch 3/20\n",
      "176/176 [==============================] - 122s 691ms/step - loss: 1.4015 - mean_squared_error: 1.4015 - mean_absolute_error: 0.9740 - mean_absolute_percentage_error: 29.0200\n",
      "Epoch 4/20\n",
      "176/176 [==============================] - 122s 691ms/step - loss: 1.4009 - mean_squared_error: 1.4009 - mean_absolute_error: 0.9726 - mean_absolute_percentage_error: 28.9974\n",
      "Epoch 5/20\n",
      "176/176 [==============================] - 122s 690ms/step - loss: 1.3985 - mean_squared_error: 1.3985 - mean_absolute_error: 0.9729 - mean_absolute_percentage_error: 29.0189\n",
      "Epoch 6/20\n",
      "176/176 [==============================] - 121s 690ms/step - loss: 1.3876 - mean_squared_error: 1.3876 - mean_absolute_error: 0.9713 - mean_absolute_percentage_error: 28.9730\n",
      "Epoch 7/20\n",
      "176/176 [==============================] - 124s 705ms/step - loss: 1.4006 - mean_squared_error: 1.4006 - mean_absolute_error: 0.9730 - mean_absolute_percentage_error: 29.0149\n",
      "Epoch 8/20\n",
      "176/176 [==============================] - 139s 791ms/step - loss: 1.4025 - mean_squared_error: 1.4025 - mean_absolute_error: 0.9740 - mean_absolute_percentage_error: 29.0639\n",
      "Epoch 9/20\n",
      "176/176 [==============================] - 139s 788ms/step - loss: 1.3966 - mean_squared_error: 1.3966 - mean_absolute_error: 0.9741 - mean_absolute_percentage_error: 29.0736\n",
      "Epoch 10/20\n",
      "176/176 [==============================] - 141s 798ms/step - loss: 1.4029 - mean_squared_error: 1.4029 - mean_absolute_error: 0.9743 - mean_absolute_percentage_error: 28.9808\n",
      "Epoch 11/20\n",
      "176/176 [==============================] - 140s 795ms/step - loss: 1.4016 - mean_squared_error: 1.4016 - mean_absolute_error: 0.9720 - mean_absolute_percentage_error: 29.0238\n",
      "Epoch 12/20\n",
      "176/176 [==============================] - 140s 793ms/step - loss: 1.4217 - mean_squared_error: 1.4217 - mean_absolute_error: 0.9758 - mean_absolute_percentage_error: 29.0782\n",
      "Epoch 13/20\n",
      "176/176 [==============================] - 139s 791ms/step - loss: 1.4129 - mean_squared_error: 1.4129 - mean_absolute_error: 0.9755 - mean_absolute_percentage_error: 29.1012\n",
      "Epoch 14/20\n",
      "176/176 [==============================] - 140s 795ms/step - loss: 1.4188 - mean_squared_error: 1.4188 - mean_absolute_error: 0.9751 - mean_absolute_percentage_error: 29.0593\n",
      "Epoch 15/20\n",
      "176/176 [==============================] - 139s 789ms/step - loss: 1.4303 - mean_squared_error: 1.4303 - mean_absolute_error: 0.9799 - mean_absolute_percentage_error: 29.1931\n",
      "Epoch 16/20\n",
      "176/176 [==============================] - 213s 1s/step - loss: 1.4394 - mean_squared_error: 1.4394 - mean_absolute_error: 0.9790 - mean_absolute_percentage_error: 29.1544\n",
      "Epoch 17/20\n",
      "176/176 [==============================] - 224s 1s/step - loss: 1.4414 - mean_squared_error: 1.4414 - mean_absolute_error: 0.9793 - mean_absolute_percentage_error: 29.1603\n",
      "Epoch 18/20\n",
      "176/176 [==============================] - 224s 1s/step - loss: 1.4259 - mean_squared_error: 1.4259 - mean_absolute_error: 0.9765 - mean_absolute_percentage_error: 29.1068\n",
      "Epoch 19/20\n",
      "176/176 [==============================] - 226s 1s/step - loss: 1.4404 - mean_squared_error: 1.4404 - mean_absolute_error: 0.9811 - mean_absolute_percentage_error: 29.1785\n",
      "Epoch 20/20\n",
      "176/176 [==============================] - 225s 1s/step - loss: 1.4391 - mean_squared_error: 1.4391 - mean_absolute_error: 0.9801 - mean_absolute_percentage_error: 29.1647\n"
     ]
    }
   ],
   "source": [
    "history = model.fit(x=x_train,y=y_train,batch_size=32,epochs=20)"
   ]
  },
  {
   "cell_type": "code",
   "execution_count": 12,
   "metadata": {},
   "outputs": [
    {
     "data": {
      "text/html": [
       "<div>\n",
       "<style scoped>\n",
       "    .dataframe tbody tr th:only-of-type {\n",
       "        vertical-align: middle;\n",
       "    }\n",
       "\n",
       "    .dataframe tbody tr th {\n",
       "        vertical-align: top;\n",
       "    }\n",
       "\n",
       "    .dataframe thead th {\n",
       "        text-align: right;\n",
       "    }\n",
       "</style>\n",
       "<table border=\"1\" class=\"dataframe\">\n",
       "  <thead>\n",
       "    <tr style=\"text-align: right;\">\n",
       "      <th></th>\n",
       "      <th>MSE</th>\n",
       "      <th>MAE</th>\n",
       "      <th>% Error</th>\n",
       "    </tr>\n",
       "  </thead>\n",
       "  <tbody>\n",
       "    <tr>\n",
       "      <th>0</th>\n",
       "      <td>2.203917</td>\n",
       "      <td>1.150421</td>\n",
       "      <td>32.619602</td>\n",
       "    </tr>\n",
       "    <tr>\n",
       "      <th>1</th>\n",
       "      <td>1.413933</td>\n",
       "      <td>0.977252</td>\n",
       "      <td>29.146376</td>\n",
       "    </tr>\n",
       "    <tr>\n",
       "      <th>2</th>\n",
       "      <td>1.401496</td>\n",
       "      <td>0.973975</td>\n",
       "      <td>29.020006</td>\n",
       "    </tr>\n",
       "    <tr>\n",
       "      <th>3</th>\n",
       "      <td>1.400865</td>\n",
       "      <td>0.972558</td>\n",
       "      <td>28.997356</td>\n",
       "    </tr>\n",
       "    <tr>\n",
       "      <th>4</th>\n",
       "      <td>1.398536</td>\n",
       "      <td>0.972866</td>\n",
       "      <td>29.018929</td>\n",
       "    </tr>\n",
       "    <tr>\n",
       "      <th>5</th>\n",
       "      <td>1.387576</td>\n",
       "      <td>0.971273</td>\n",
       "      <td>28.973028</td>\n",
       "    </tr>\n",
       "    <tr>\n",
       "      <th>6</th>\n",
       "      <td>1.400633</td>\n",
       "      <td>0.972999</td>\n",
       "      <td>29.014864</td>\n",
       "    </tr>\n",
       "    <tr>\n",
       "      <th>7</th>\n",
       "      <td>1.402478</td>\n",
       "      <td>0.973969</td>\n",
       "      <td>29.063896</td>\n",
       "    </tr>\n",
       "    <tr>\n",
       "      <th>8</th>\n",
       "      <td>1.396552</td>\n",
       "      <td>0.974140</td>\n",
       "      <td>29.073610</td>\n",
       "    </tr>\n",
       "    <tr>\n",
       "      <th>9</th>\n",
       "      <td>1.402896</td>\n",
       "      <td>0.974347</td>\n",
       "      <td>28.980837</td>\n",
       "    </tr>\n",
       "    <tr>\n",
       "      <th>10</th>\n",
       "      <td>1.401639</td>\n",
       "      <td>0.971979</td>\n",
       "      <td>29.023787</td>\n",
       "    </tr>\n",
       "    <tr>\n",
       "      <th>11</th>\n",
       "      <td>1.421674</td>\n",
       "      <td>0.975850</td>\n",
       "      <td>29.078192</td>\n",
       "    </tr>\n",
       "    <tr>\n",
       "      <th>12</th>\n",
       "      <td>1.412908</td>\n",
       "      <td>0.975513</td>\n",
       "      <td>29.101196</td>\n",
       "    </tr>\n",
       "    <tr>\n",
       "      <th>13</th>\n",
       "      <td>1.418773</td>\n",
       "      <td>0.975082</td>\n",
       "      <td>29.059301</td>\n",
       "    </tr>\n",
       "    <tr>\n",
       "      <th>14</th>\n",
       "      <td>1.430260</td>\n",
       "      <td>0.979935</td>\n",
       "      <td>29.193115</td>\n",
       "    </tr>\n",
       "    <tr>\n",
       "      <th>15</th>\n",
       "      <td>1.439424</td>\n",
       "      <td>0.979028</td>\n",
       "      <td>29.154425</td>\n",
       "    </tr>\n",
       "    <tr>\n",
       "      <th>16</th>\n",
       "      <td>1.441427</td>\n",
       "      <td>0.979254</td>\n",
       "      <td>29.160261</td>\n",
       "    </tr>\n",
       "    <tr>\n",
       "      <th>17</th>\n",
       "      <td>1.425883</td>\n",
       "      <td>0.976550</td>\n",
       "      <td>29.106834</td>\n",
       "    </tr>\n",
       "    <tr>\n",
       "      <th>18</th>\n",
       "      <td>1.440420</td>\n",
       "      <td>0.981126</td>\n",
       "      <td>29.178467</td>\n",
       "    </tr>\n",
       "    <tr>\n",
       "      <th>19</th>\n",
       "      <td>1.439116</td>\n",
       "      <td>0.980053</td>\n",
       "      <td>29.164747</td>\n",
       "    </tr>\n",
       "  </tbody>\n",
       "</table>\n",
       "</div>"
      ],
      "text/plain": [
       "         MSE       MAE    % Error\n",
       "0   2.203917  1.150421  32.619602\n",
       "1   1.413933  0.977252  29.146376\n",
       "2   1.401496  0.973975  29.020006\n",
       "3   1.400865  0.972558  28.997356\n",
       "4   1.398536  0.972866  29.018929\n",
       "5   1.387576  0.971273  28.973028\n",
       "6   1.400633  0.972999  29.014864\n",
       "7   1.402478  0.973969  29.063896\n",
       "8   1.396552  0.974140  29.073610\n",
       "9   1.402896  0.974347  28.980837\n",
       "10  1.401639  0.971979  29.023787\n",
       "11  1.421674  0.975850  29.078192\n",
       "12  1.412908  0.975513  29.101196\n",
       "13  1.418773  0.975082  29.059301\n",
       "14  1.430260  0.979935  29.193115\n",
       "15  1.439424  0.979028  29.154425\n",
       "16  1.441427  0.979254  29.160261\n",
       "17  1.425883  0.976550  29.106834\n",
       "18  1.440420  0.981126  29.178467\n",
       "19  1.439116  0.980053  29.164747"
      ]
     },
     "execution_count": 12,
     "metadata": {},
     "output_type": "execute_result"
    }
   ],
   "source": [
    "mse = history.history['mean_squared_error']\n",
    "mae = history.history['mean_absolute_error']\n",
    "mpe = history.history['mean_absolute_percentage_error']\n",
    "\n",
    "scores = pd.DataFrame()\n",
    "scores[\"MSE\"] = mse\n",
    "scores[\"MAE\"] = mae\n",
    "scores[\"% Error\"] = mpe\n",
    "\n",
    "scores"
   ]
  },
  {
   "cell_type": "code",
   "execution_count": 13,
   "metadata": {},
   "outputs": [
    {
     "name": "stdout",
     "output_type": "stream",
     "text": [
      "44/44 [==============================] - 18s 386ms/step - loss: 1.3219 - mean_squared_error: 1.3219 - mean_absolute_error: 0.9412 - mean_absolute_percentage_error: 28.0158\n"
     ]
    },
    {
     "data": {
      "text/plain": [
       "[1.321852684020996, 0.9411579370498657, 28.015836715698242]"
      ]
     },
     "execution_count": 13,
     "metadata": {},
     "output_type": "execute_result"
    }
   ],
   "source": [
    "scores = model.evaluate(x=x_val,y=y_val)\n",
    "scores[1:]"
   ]
  }
 ],
 "metadata": {
  "interpreter": {
   "hash": "a2292f7dadeec0b36dafabb7d1d8dd7b9b8b8f0665c515bec64e67bf9650aaf0"
  },
  "kernelspec": {
   "display_name": "Python 3.9.7 64-bit (windows store)",
   "name": "python3"
  },
  "language_info": {
   "codemirror_mode": {
    "name": "ipython",
    "version": 3
   },
   "file_extension": ".py",
   "mimetype": "text/x-python",
   "name": "python",
   "nbconvert_exporter": "python",
   "pygments_lexer": "ipython3",
   "version": "3.9.7"
  },
  "orig_nbformat": 4
 },
 "nbformat": 4,
 "nbformat_minor": 2
}
