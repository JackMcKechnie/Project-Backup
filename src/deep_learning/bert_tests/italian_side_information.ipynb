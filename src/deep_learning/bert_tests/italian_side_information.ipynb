{
 "cells": [
  {
   "cell_type": "code",
   "execution_count": 2,
   "metadata": {},
   "outputs": [],
   "source": [
    "# Imports \n",
    "import pandas as pd\n",
    "import numpy as np\n",
    "from sklearn.model_selection import train_test_split\n",
    "import tensorflow as tf\n",
    "import tensorflow_hub as hub\n",
    "import tensorflow_text as text\n",
    "from keras import backend as K\n",
    "import matplotlib.pyplot as plt \n",
    "from tensorflow.keras.optimizers import Adam\n",
    "from tensorflow.keras.callbacks import ModelCheckpoint\n",
    "from tensorflow.keras.callbacks import LearningRateScheduler"
   ]
  },
  {
   "cell_type": "code",
   "execution_count": 4,
   "metadata": {},
   "outputs": [],
   "source": [
    "# Import data\n",
    "data = pd.read_csv(\"../../../data/side_information.csv\",encoding='unicode_escape')\n",
    "checkpoint_path = \"C:/Users/jack-/Documents/University/Project/src/deep_learning/bert_tests/checkpoints\"\n",
    "feature_names = ['Sentence',\n",
    "                 'Length in Words', 'Length in Characters', 'F-score', 'I-score',\n",
    "                 'Lexical Density','FK Reading Ease', 'FOG Scale', 'SMOG Index', 'ARI',\n",
    "                 'CL Index', 'LW Formula', 'DC Score', 'Readability Consensus',\n",
    "                 'Spache Formula']\n",
    "\n",
    "samples = data[feature_names]\n",
    "labels = data[\"Formality\"]\n",
    "train_samples, test_samples, train_labels,test_labels = train_test_split(samples, labels, test_size=0.2,random_state=5)\n",
    "\n",
    "bert_train_samples = np.array(train_samples[\"Sentence\"])\n",
    "bert_test_samples = np.array(test_samples[\"Sentence\"])\n",
    "side_train_samples = np.array(train_samples[feature_names[1:]])\n",
    "side_test_samples = np.array(test_samples[feature_names[1:]])\n",
    "\n",
    "train_samples = np.array(train_samples)\n",
    "test_samples = np.array(test_samples)\n",
    "train_labels = np.array(train_labels)\n",
    "test_labels = np.array(test_labels)"
   ]
  },
  {
   "cell_type": "code",
   "execution_count": 11,
   "metadata": {},
   "outputs": [],
   "source": [
    "# Model setup\n",
    "\n",
    "# Attention layer\n",
    "class peel_the_layer(tf.keras.layers.Layer): \n",
    "\n",
    "    def __init__(self):    \n",
    "        ##Nothing special to be done here\n",
    "        super(peel_the_layer, self).__init__()\n",
    "\n",
    "    def build(self, input_shape):\n",
    "        ##Define the shape of the weights and bias in this layer\n",
    "        ##This is a 1 unit layer. \n",
    "        units=1\n",
    "        ##last index of the input_shape is the number of dimensions of the prev\n",
    "        ##RNN layer. last but 1 index is the num of timesteps\n",
    "        self.w=self.add_weight(name=\"att_weights\", shape=(input_shape[-1], units), initializer=\"normal\") #name property is useful for avoiding RuntimeError: Unable to create link.\n",
    "        self.b=self.add_weight(name=\"att_bias\", shape=(input_shape[-2], units), initializer=\"zeros\")\n",
    "        super(peel_the_layer,self).build(input_shape)\n",
    "\n",
    "    def call(self, x):\n",
    "        ##x is the input tensor..each word that needs to be attended to\n",
    "        ##Below is the main processing done during training\n",
    "        ##K is the Keras Backend import\n",
    "        e = K.tanh(K.dot(x,self.w)+self.b)\n",
    "        a = K.softmax(e, axis=1)\n",
    "        output = x*a\n",
    "\n",
    "        ##return the ouputs. 'a' is the set of attention weights\n",
    "        ##the second variable is the 'attention adjusted o/p state' or context\n",
    "        return a, K.sum(output, axis=1)\n",
    "\n",
    "bert_model_name = 'small_bert/bert_en_uncased_L-4_H-512_A-8' \n",
    "\n",
    "\n",
    "\n",
    "tfhub_handle_encoder = 'https://tfhub.dev/tensorflow/bert_en_cased_L-12_H-768_A-12/4'\n",
    "tfhub_handle_preprocess = 'https://tfhub.dev/tensorflow/bert_en_cased_preprocess/3'\n",
    "bert_preprocess_model = hub.KerasLayer(tfhub_handle_preprocess)\n",
    "bert_model = hub.KerasLayer(tfhub_handle_encoder)"
   ]
  },
  {
   "cell_type": "code",
   "execution_count": 12,
   "metadata": {},
   "outputs": [
    {
     "name": "stdout",
     "output_type": "stream",
     "text": [
      "Model: \"model_3\"\n",
      "__________________________________________________________________________________________________\n",
      "Layer (type)                    Output Shape         Param #     Connected to                     \n",
      "==================================================================================================\n",
      "text (InputLayer)               [(None,)]            0                                            \n",
      "__________________________________________________________________________________________________\n",
      "preprocessing (KerasLayer)      {'input_word_ids': ( 0           text[0][0]                       \n",
      "__________________________________________________________________________________________________\n",
      "BERT_encoder (KerasLayer)       {'encoder_outputs':  108310273   preprocessing[0][0]              \n",
      "                                                                 preprocessing[0][1]              \n",
      "                                                                 preprocessing[0][2]              \n",
      "__________________________________________________________________________________________________\n",
      "tf.reshape_2 (TFOpLambda)       (None, 768, 1)       0           BERT_encoder[0][13]              \n",
      "__________________________________________________________________________________________________\n",
      "lstm_3 (LSTM)                   (None, 768, 512)     1052672     tf.reshape_2[0][0]               \n",
      "==================================================================================================\n",
      "Total params: 109,362,945\n",
      "Trainable params: 109,362,944\n",
      "Non-trainable params: 1\n",
      "__________________________________________________________________________________________________\n"
     ]
    }
   ],
   "source": [
    "# Bert model\n",
    "\n",
    "text_input = tf.keras.layers.Input(shape=(), dtype=tf.string, name='text')\n",
    "preprocessing_layer = hub.KerasLayer(tfhub_handle_preprocess, name='preprocessing')\n",
    "encoder_inputs = preprocessing_layer(text_input)\n",
    "encoder = hub.KerasLayer(tfhub_handle_encoder, trainable=True, name='BERT_encoder')\n",
    "outputs = encoder(encoder_inputs)\n",
    "net = outputs['pooled_output']\n",
    "reshaped = tf.reshape(net,[-1, 768, 1])\n",
    "lstm = tf.keras.layers.LSTM(512,return_sequences=True)(reshaped)\n",
    "#a, context = peel_the_layer()(lstm)\n",
    "\n",
    "#dense = tf.keras.layers.Dense(1)(context)\n",
    "final_bert_model = tf.keras.Model(text_input, lstm)\n",
    "\n",
    "final_bert_model.summary()"
   ]
  },
  {
   "cell_type": "code",
   "execution_count": 13,
   "metadata": {},
   "outputs": [
    {
     "name": "stdout",
     "output_type": "stream",
     "text": [
      "Model: \"model_4\"\n",
      "_________________________________________________________________\n",
      "Layer (type)                 Output Shape              Param #   \n",
      "=================================================================\n",
      "input_2 (InputLayer)         [(None, 14)]              0         \n",
      "_________________________________________________________________\n",
      "tf.reshape_3 (TFOpLambda)    (None, 1, 14)             0         \n",
      "_________________________________________________________________\n",
      "lstm_4 (LSTM)                (None, 1, 512)            1079296   \n",
      "_________________________________________________________________\n",
      "lstm_5 (LSTM)                (None, 1, 512)            2099200   \n",
      "=================================================================\n",
      "Total params: 3,178,496\n",
      "Trainable params: 3,178,496\n",
      "Non-trainable params: 0\n",
      "_________________________________________________________________\n"
     ]
    }
   ],
   "source": [
    "# Side information model\n",
    "\n",
    "side_input = tf.keras.layers.Input(shape=(14))\n",
    "reshaped = tf.reshape(side_input,[-1, 1, 14])\n",
    "lstm_1 = tf.keras.layers.LSTM(512,return_sequences=True)(reshaped)\n",
    "lstm_2 = tf.keras.layers.LSTM(512,return_sequences=True)(lstm_1)\n",
    "side_model = tf.keras.Model(side_input, lstm_2)\n",
    "side_model.summary()"
   ]
  },
  {
   "cell_type": "code",
   "execution_count": 14,
   "metadata": {},
   "outputs": [
    {
     "name": "stdout",
     "output_type": "stream",
     "text": [
      "Model: \"model_5\"\n",
      "__________________________________________________________________________________________________\n",
      "Layer (type)                    Output Shape         Param #     Connected to                     \n",
      "==================================================================================================\n",
      "text (InputLayer)               [(None,)]            0                                            \n",
      "__________________________________________________________________________________________________\n",
      "preprocessing (KerasLayer)      {'input_word_ids': ( 0           text[0][0]                       \n",
      "__________________________________________________________________________________________________\n",
      "input_2 (InputLayer)            [(None, 14)]         0                                            \n",
      "__________________________________________________________________________________________________\n",
      "BERT_encoder (KerasLayer)       {'encoder_outputs':  108310273   preprocessing[0][0]              \n",
      "                                                                 preprocessing[0][1]              \n",
      "                                                                 preprocessing[0][2]              \n",
      "__________________________________________________________________________________________________\n",
      "tf.reshape_3 (TFOpLambda)       (None, 1, 14)        0           input_2[0][0]                    \n",
      "__________________________________________________________________________________________________\n",
      "tf.reshape_2 (TFOpLambda)       (None, 768, 1)       0           BERT_encoder[0][13]              \n",
      "__________________________________________________________________________________________________\n",
      "lstm_4 (LSTM)                   (None, 1, 512)       1079296     tf.reshape_3[0][0]               \n",
      "__________________________________________________________________________________________________\n",
      "lstm_3 (LSTM)                   (None, 768, 512)     1052672     tf.reshape_2[0][0]               \n",
      "__________________________________________________________________________________________________\n",
      "lstm_5 (LSTM)                   (None, 1, 512)       2099200     lstm_4[0][0]                     \n",
      "__________________________________________________________________________________________________\n",
      "concatenate_1 (Concatenate)     (None, 769, 512)     0           lstm_3[0][0]                     \n",
      "                                                                 lstm_5[0][0]                     \n",
      "__________________________________________________________________________________________________\n",
      "peel_the_layer_1 (peel_the_laye ((None, 769, 1), (No 1281        concatenate_1[0][0]              \n",
      "__________________________________________________________________________________________________\n",
      "dense_1 (Dense)                 (None, 1)            513         peel_the_layer_1[0][1]           \n",
      "==================================================================================================\n",
      "Total params: 112,543,235\n",
      "Trainable params: 112,543,234\n",
      "Non-trainable params: 1\n",
      "__________________________________________________________________________________________________\n"
     ]
    }
   ],
   "source": [
    "# Combine models and predict\n",
    "combined = tf.keras.layers.concatenate([final_bert_model.output, side_model.output],axis=1)\n",
    "a, context = peel_the_layer()(combined)\n",
    "dense = tf.keras.layers.Dense(1)(context)\n",
    "model = tf.keras.Model(inputs=[final_bert_model.input, side_model.input], outputs=dense)\n",
    "model.compile(optimizer=Adam(learning_rate=0.0001),loss='mean_squared_error',metrics=[tf.keras.losses.MeanAbsoluteError(),tf.keras.losses.MeanAbsolutePercentageError()])\n",
    "\n",
    "model.summary()"
   ]
  },
  {
   "cell_type": "code",
   "execution_count": null,
   "metadata": {},
   "outputs": [],
   "source": [
    "callback = tf.keras.callbacks.EarlyStopping(monitor='loss', patience=1,min_delta=0.01)"
   ]
  },
  {
   "cell_type": "code",
   "execution_count": null,
   "metadata": {},
   "outputs": [],
   "source": [
    "history = model.fit(x=[bert_train_samples,side_train_samples],y=train_labels,batch_size=32,epochs=8,verbose=2,callbacks=[callback])"
   ]
  },
  {
   "cell_type": "code",
   "execution_count": null,
   "metadata": {},
   "outputs": [],
   "source": [
    "results = pd.DataFrame()\n",
    "scores = model.evaluate(x=[bert_test_samples,side_test_samples],y=test_labels)\n",
    "results[\"E8 B32\"] = scores\n",
    "results"
   ]
  },
  {
   "cell_type": "code",
   "execution_count": null,
   "metadata": {},
   "outputs": [],
   "source": [
    "mse = history.history['loss']\n",
    "\n",
    "plt.plot(mse)\n",
    "plt.title(\"Model: Italian Sentences + Side Information\")\n",
    "plt.ylabel('MSE')\n",
    "plt.xlabel('Epoch')\n",
    "plt.ylim(bottom=0)\n",
    "plt.savefig(\"Italian Sentences and Side Information E8 B32\" + \".jpeg\",dpi=100,bbox_inches='tight')"
   ]
  },
  {
   "cell_type": "code",
   "execution_count": null,
   "metadata": {},
   "outputs": [],
   "source": [
    "model = tf.keras.Model(inputs=[final_bert_model.input, side_model.input], outputs=dense)\n",
    "model.compile(optimizer=Adam(learning_rate=0.0001),loss='mean_squared_error',metrics=[tf.keras.losses.MeanAbsoluteError(),tf.keras.losses.MeanAbsolutePercentageError()])\n",
    "history = model.fit(x=[bert_train_samples,side_train_samples],y=train_labels,batch_size=32,epochs=20,verbose=2,callbacks=[callback])"
   ]
  },
  {
   "cell_type": "code",
   "execution_count": null,
   "metadata": {},
   "outputs": [],
   "source": [
    "scores = model.evaluate(x=[bert_test_samples,side_test_samples],y=test_labels)\n",
    "results[\"E20 B32\"] = scores\n",
    "results"
   ]
  },
  {
   "cell_type": "code",
   "execution_count": null,
   "metadata": {},
   "outputs": [],
   "source": [
    "mse = history.history['loss']\n",
    "\n",
    "plt.plot(mse)\n",
    "plt.title(\"Model: Italian Sentences + Side Information\")\n",
    "plt.ylabel('MSE')\n",
    "plt.xlabel('Epoch')\n",
    "plt.ylim(bottom=0)\n",
    "plt.savefig(\"Italian Sentences and Side Information\" + \".jpeg\",dpi=100,bbox_inches='tight')"
   ]
  },
  {
   "cell_type": "code",
   "execution_count": null,
   "metadata": {},
   "outputs": [],
   "source": [
    "results.to_csv(\"Side_information_8_and_20_epochs.csv\")"
   ]
  }
 ],
 "metadata": {
  "interpreter": {
   "hash": "398e6eae58e6d4656a743cb168d0751de636ca5ff86262c603eb7cbbad789ea4"
  },
  "kernelspec": {
   "display_name": "Python 3.7.9 64-bit (windows store)",
   "language": "python",
   "name": "python3"
  },
  "language_info": {
   "codemirror_mode": {
    "name": "ipython",
    "version": 3
   },
   "file_extension": ".py",
   "mimetype": "text/x-python",
   "name": "python",
   "nbconvert_exporter": "python",
   "pygments_lexer": "ipython3",
   "version": "3.9.9"
  },
  "orig_nbformat": 4
 },
 "nbformat": 4,
 "nbformat_minor": 2
}
