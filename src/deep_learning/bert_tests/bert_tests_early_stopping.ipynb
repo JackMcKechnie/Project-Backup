{
 "cells": [
  {
   "cell_type": "code",
   "execution_count": 1,
   "metadata": {},
   "outputs": [],
   "source": [
    "# Imports \n",
    "import pandas as pd\n",
    "import numpy as np\n",
    "from sklearn.model_selection import train_test_split\n",
    "import tensorflow as tf\n",
    "import tensorflow_hub as hub\n",
    "import tensorflow_text as text\n",
    "from keras import backend as K\n",
    "import matplotlib.pyplot as plt "
   ]
  },
  {
   "cell_type": "code",
   "execution_count": 2,
   "metadata": {},
   "outputs": [],
   "source": [
    "# Import data\n",
    "data = pd.read_csv(\"../../../data/mturk_experiment_2.csv\",encoding='unicode_escape')\n",
    "labels = data[\"Formality\"]\n",
    "samples = data[\"Sentence\"]\n",
    "\n",
    "# Testing with 90% training data\n",
    "train_samples, test_samples, train_labels,test_labels = train_test_split(samples, labels, test_size=0.2,random_state=5)\n",
    "\n",
    "train_samples = np.array(train_samples)\n",
    "test_samples = np.array(test_samples)\n",
    "train_labels = np.array(train_labels)\n",
    "test_labels = np.array(test_labels)"
   ]
  },
  {
   "cell_type": "code",
   "execution_count": 3,
   "metadata": {},
   "outputs": [
    {
     "name": "stdout",
     "output_type": "stream",
     "text": [
      "Model: \"model\"\n",
      "__________________________________________________________________________________________________\n",
      "Layer (type)                    Output Shape         Param #     Connected to                     \n",
      "==================================================================================================\n",
      "text (InputLayer)               [(None,)]            0                                            \n",
      "__________________________________________________________________________________________________\n",
      "preprocessing (KerasLayer)      {'input_mask': (None 0           text[0][0]                       \n",
      "__________________________________________________________________________________________________\n",
      "BERT_encoder (KerasLayer)       {'pooled_output': (N 108310273   preprocessing[0][0]              \n",
      "                                                                 preprocessing[0][1]              \n",
      "                                                                 preprocessing[0][2]              \n",
      "__________________________________________________________________________________________________\n",
      "tf.reshape (TFOpLambda)         (None, 768, 1)       0           BERT_encoder[0][13]              \n",
      "__________________________________________________________________________________________________\n",
      "lstm (LSTM)                     (None, 768, 512)     1052672     tf.reshape[0][0]                 \n",
      "__________________________________________________________________________________________________\n",
      "peel_the_layer (peel_the_layer) ((None, 768, 1), (No 1280        lstm[0][0]                       \n",
      "__________________________________________________________________________________________________\n",
      "dense (Dense)                   (None, 1)            513         peel_the_layer[0][1]             \n",
      "==================================================================================================\n",
      "Total params: 109,364,738\n",
      "Trainable params: 109,364,737\n",
      "Non-trainable params: 1\n",
      "__________________________________________________________________________________________________\n"
     ]
    }
   ],
   "source": [
    "# Model setup\n",
    "\n",
    "# Attention layer\n",
    "class peel_the_layer(tf.keras.layers.Layer): \n",
    "\n",
    "    def __init__(self):    \n",
    "        ##Nothing special to be done here\n",
    "        super(peel_the_layer, self).__init__()\n",
    "\n",
    "    def build(self, input_shape):\n",
    "        ##Define the shape of the weights and bias in this layer\n",
    "        ##This is a 1 unit layer. \n",
    "        units=1\n",
    "        ##last index of the input_shape is the number of dimensions of the prev\n",
    "        ##RNN layer. last but 1 index is the num of timesteps\n",
    "        self.w=self.add_weight(name=\"att_weights\", shape=(input_shape[-1], units), initializer=\"normal\") #name property is useful for avoiding RuntimeError: Unable to create link.\n",
    "        self.b=self.add_weight(name=\"att_bias\", shape=(input_shape[-2], units), initializer=\"zeros\")\n",
    "        super(peel_the_layer,self).build(input_shape)\n",
    "\n",
    "    def call(self, x):\n",
    "        ##x is the input tensor..each word that needs to be attended to\n",
    "        ##Below is the main processing done during training\n",
    "        ##K is the Keras Backend import\n",
    "        e = K.tanh(K.dot(x,self.w)+self.b)\n",
    "        a = K.softmax(e, axis=1)\n",
    "        output = x*a\n",
    "\n",
    "        ##return the ouputs. 'a' is the set of attention weights\n",
    "        ##the second variable is the 'attention adjusted o/p state' or context\n",
    "        return a, K.sum(output, axis=1)\n",
    "\n",
    "bert_model_name = 'small_bert/bert_en_uncased_L-4_H-512_A-8' \n",
    "\n",
    "tfhub_handle_encoder = 'https://tfhub.dev/tensorflow/bert_en_cased_L-12_H-768_A-12/3'\n",
    "tfhub_handle_preprocess =   'https://tfhub.dev/tensorflow/bert_en_cased_preprocess/3'\n",
    "bert_preprocess_model = hub.KerasLayer(tfhub_handle_preprocess)\n",
    "bert_model = hub.KerasLayer(tfhub_handle_encoder)\n",
    "\n",
    "text_input = tf.keras.layers.Input(shape=(), dtype=tf.string, name='text')\n",
    "preprocessing_layer = hub.KerasLayer(tfhub_handle_preprocess, name='preprocessing')\n",
    "encoder_inputs = preprocessing_layer(text_input)\n",
    "encoder = hub.KerasLayer(tfhub_handle_encoder, trainable=True, name='BERT_encoder')\n",
    "outputs = encoder(encoder_inputs)\n",
    "net = outputs['pooled_output']\n",
    "reshaped = tf.reshape(net,[-1, 768, 1])\n",
    "lstm = tf.keras.layers.LSTM(512,return_sequences=True)(reshaped)\n",
    "a, context = peel_the_layer()(lstm)\n",
    "\n",
    "dense = tf.keras.layers.Dense(1)(context)\n",
    "model = tf.keras.Model(text_input, dense)\n",
    "model.summary()\n",
    "\n",
    "loss = 'mse'\n",
    "metrics = [tf.keras.metrics.MeanSquaredError(),tf.keras.losses.MeanAbsoluteError(),tf.keras.losses.MeanAbsolutePercentageError()]\n",
    "optimiser = tf.optimizers.Adam(learning_rate= 5e-5)\n",
    "\n",
    "model.compile(optimizer=optimiser, loss=loss, metrics=metrics)"
   ]
  },
  {
   "cell_type": "code",
   "execution_count": 4,
   "metadata": {},
   "outputs": [],
   "source": [
    "# Results setup\n",
    "\n",
    "results = pd.DataFrame()"
   ]
  },
  {
   "cell_type": "code",
   "execution_count": 5,
   "metadata": {},
   "outputs": [],
   "source": [
    "def train_test(model, epochs, batch_size, results):\n",
    "    callback = tf.keras.callbacks.EarlyStopping(monitor='loss', patience=2,min_delta=0.001)\n",
    "    history = model.fit(x=train_samples,y=train_labels,batch_size=batch_size,epochs=epochs,verbose=2,callbacks=[callback])\n",
    "\n",
    "    scores = model.evaluate(x=test_samples,y=test_labels)\n",
    "    model_label = \"Epochs - \" + str(epochs) + \" Batch Size - \" + str(batch_size)\n",
    "\n",
    "    results[model_label] = scores[1:]\n",
    "\n",
    "    mse = history.history['mean_squared_error']\n",
    "\n",
    "    plt.plot(mse)\n",
    "    plt.title(\"Model: \" + model_label)\n",
    "    plt.ylabel('MSE')\n",
    "    plt.xlabel('Epoch')\n",
    "    plt.ylim(bottom=0)\n",
    "    plt.savefig(model_label + \".jpeg\",dpi=100,bbox_inches='tight')\n",
    "\n",
    "    return results"
   ]
  },
  {
   "cell_type": "code",
   "execution_count": null,
   "metadata": {},
   "outputs": [],
   "source": [
    "results = train_test(model,20,32,results)\n",
    "results = train_test(model,20,64,results)\n",
    "results.T"
   ]
  },
  {
   "cell_type": "code",
   "execution_count": null,
   "metadata": {},
   "outputs": [],
   "source": [
    "results = train_test(model,8,32,results)\n",
    "results = train_test(model,8,64,results)\n",
    "results.T"
   ]
  },
  {
   "cell_type": "code",
   "execution_count": 6,
   "metadata": {},
   "outputs": [
    {
     "name": "stdout",
     "output_type": "stream",
     "text": [
      "Epoch 1/4\n",
      "88/88 - 3793s - loss: 6.5702 - mean_squared_error: 6.5702 - mean_absolute_error: 1.9321 - mean_absolute_percentage_error: 49.3468\n",
      "Epoch 2/4\n",
      "88/88 - 3855s - loss: 0.5006 - mean_squared_error: 0.5006 - mean_absolute_error: 0.5678 - mean_absolute_percentage_error: 15.9706\n",
      "Epoch 3/4\n",
      "88/88 - 3967s - loss: 0.3645 - mean_squared_error: 0.3645 - mean_absolute_error: 0.4821 - mean_absolute_percentage_error: 13.2452\n",
      "Epoch 4/4\n",
      "88/88 - 3948s - loss: 0.2272 - mean_squared_error: 0.2272 - mean_absolute_error: 0.3739 - mean_absolute_percentage_error: 10.1180\n",
      "44/44 [==============================] - 236s 5s/step - loss: 0.5888 - mean_squared_error: 0.5888 - mean_absolute_error: 0.6039 - mean_absolute_percentage_error: 17.7375\n"
     ]
    },
    {
     "data": {
      "text/html": [
       "<div>\n",
       "<style scoped>\n",
       "    .dataframe tbody tr th:only-of-type {\n",
       "        vertical-align: middle;\n",
       "    }\n",
       "\n",
       "    .dataframe tbody tr th {\n",
       "        vertical-align: top;\n",
       "    }\n",
       "\n",
       "    .dataframe thead th {\n",
       "        text-align: right;\n",
       "    }\n",
       "</style>\n",
       "<table border=\"1\" class=\"dataframe\">\n",
       "  <thead>\n",
       "    <tr style=\"text-align: right;\">\n",
       "      <th></th>\n",
       "      <th>0</th>\n",
       "      <th>1</th>\n",
       "      <th>2</th>\n",
       "    </tr>\n",
       "  </thead>\n",
       "  <tbody>\n",
       "    <tr>\n",
       "      <th>Epochs - 4 Batch Size - 64</th>\n",
       "      <td>0.588828</td>\n",
       "      <td>0.603943</td>\n",
       "      <td>17.737452</td>\n",
       "    </tr>\n",
       "  </tbody>\n",
       "</table>\n",
       "</div>"
      ],
      "text/plain": [
       "                                   0         1          2\n",
       "Epochs - 4 Batch Size - 64  0.588828  0.603943  17.737452"
      ]
     },
     "execution_count": 6,
     "metadata": {},
     "output_type": "execute_result"
    },
    {
     "data": {
      "image/png": "[encoded data removed]",
      "text/plain": [
       "<Figure size 432x288 with 1 Axes>"
      ]
     },
     "metadata": {
      "needs_background": "light"
     },
     "output_type": "display_data"
    }
   ],
   "source": [
    "#results = train_test(model,4,32,results)\n",
    "results = train_test(model,4,64,results)\n",
    "results.T"
   ]
  },
  {
   "cell_type": "code",
   "execution_count": 7,
   "metadata": {},
   "outputs": [
    {
     "name": "stdout",
     "output_type": "stream",
     "text": [
      "Epoch 1/3\n",
      "176/176 - 3102s - loss: 0.1778 - mean_squared_error: 0.1778 - mean_absolute_error: 0.3269 - mean_absolute_percentage_error: 8.8015\n",
      "Epoch 2/3\n",
      "176/176 - 3075s - loss: 0.1368 - mean_squared_error: 0.1368 - mean_absolute_error: 0.2910 - mean_absolute_percentage_error: 7.9458\n",
      "Epoch 3/3\n",
      "176/176 - 3081s - loss: 0.0852 - mean_squared_error: 0.0852 - mean_absolute_error: 0.2267 - mean_absolute_percentage_error: 6.1219\n",
      "44/44 [==============================] - 231s 5s/step - loss: 0.5189 - mean_squared_error: 0.5189 - mean_absolute_error: 0.5780 - mean_absolute_percentage_error: 15.6377\n",
      "Epoch 1/3\n",
      "88/88 - 3974s - loss: 0.0533 - mean_squared_error: 0.0533 - mean_absolute_error: 0.1775 - mean_absolute_percentage_error: 4.8248\n",
      "Epoch 2/3\n",
      "88/88 - 4030s - loss: 0.0293 - mean_squared_error: 0.0293 - mean_absolute_error: 0.1326 - mean_absolute_percentage_error: 3.6142\n",
      "Epoch 3/3\n",
      "88/88 - 4045s - loss: 0.0239 - mean_squared_error: 0.0239 - mean_absolute_error: 0.1199 - mean_absolute_percentage_error: 3.2459\n",
      "44/44 [==============================] - 233s 5s/step - loss: 0.5389 - mean_squared_error: 0.5389 - mean_absolute_error: 0.5833 - mean_absolute_percentage_error: 16.6163\n"
     ]
    },
    {
     "data": {
      "text/html": [
       "<div>\n",
       "<style scoped>\n",
       "    .dataframe tbody tr th:only-of-type {\n",
       "        vertical-align: middle;\n",
       "    }\n",
       "\n",
       "    .dataframe tbody tr th {\n",
       "        vertical-align: top;\n",
       "    }\n",
       "\n",
       "    .dataframe thead th {\n",
       "        text-align: right;\n",
       "    }\n",
       "</style>\n",
       "<table border=\"1\" class=\"dataframe\">\n",
       "  <thead>\n",
       "    <tr style=\"text-align: right;\">\n",
       "      <th></th>\n",
       "      <th>0</th>\n",
       "      <th>1</th>\n",
       "      <th>2</th>\n",
       "    </tr>\n",
       "  </thead>\n",
       "  <tbody>\n",
       "    <tr>\n",
       "      <th>Epochs - 4 Batch Size - 64</th>\n",
       "      <td>0.588828</td>\n",
       "      <td>0.603943</td>\n",
       "      <td>17.737452</td>\n",
       "    </tr>\n",
       "    <tr>\n",
       "      <th>Epochs - 3 Batch Size - 32</th>\n",
       "      <td>0.518949</td>\n",
       "      <td>0.577952</td>\n",
       "      <td>15.637679</td>\n",
       "    </tr>\n",
       "    <tr>\n",
       "      <th>Epochs - 3 Batch Size - 64</th>\n",
       "      <td>0.538889</td>\n",
       "      <td>0.583302</td>\n",
       "      <td>16.616337</td>\n",
       "    </tr>\n",
       "  </tbody>\n",
       "</table>\n",
       "</div>"
      ],
      "text/plain": [
       "                                   0         1          2\n",
       "Epochs - 4 Batch Size - 64  0.588828  0.603943  17.737452\n",
       "Epochs - 3 Batch Size - 32  0.518949  0.577952  15.637679\n",
       "Epochs - 3 Batch Size - 64  0.538889  0.583302  16.616337"
      ]
     },
     "execution_count": 7,
     "metadata": {},
     "output_type": "execute_result"
    },
    {
     "data": {
      "image/png": "[encoded data removed]",
      "text/plain": [
       "<Figure size 432x288 with 1 Axes>"
      ]
     },
     "metadata": {
      "needs_background": "light"
     },
     "output_type": "display_data"
    }
   ],
   "source": [
    "results = train_test(model,3,32,results)\n",
    "results = train_test(model,3,64,results)\n",
    "results.T"
   ]
  },
  {
   "cell_type": "code",
   "execution_count": 8,
   "metadata": {},
   "outputs": [
    {
     "name": "stdout",
     "output_type": "stream",
     "text": [
      "Epoch 1/2\n",
      "176/176 - 2824s - loss: 0.0263 - mean_squared_error: 0.0263 - mean_absolute_error: 0.1273 - mean_absolute_percentage_error: 3.4700\n",
      "Epoch 2/2\n",
      "176/176 - 2782s - loss: 0.0407 - mean_squared_error: 0.0407 - mean_absolute_error: 0.1589 - mean_absolute_percentage_error: 4.3468\n",
      "44/44 [==============================] - 210s 5s/step - loss: 0.5393 - mean_squared_error: 0.5393 - mean_absolute_error: 0.5863 - mean_absolute_percentage_error: 16.5070\n",
      "Epoch 1/2\n",
      "88/88 - 3519s - loss: 0.0337 - mean_squared_error: 0.0337 - mean_absolute_error: 0.1437 - mean_absolute_percentage_error: 3.9256\n",
      "Epoch 2/2\n",
      "88/88 - 3542s - loss: 0.0203 - mean_squared_error: 0.0203 - mean_absolute_error: 0.1125 - mean_absolute_percentage_error: 3.0820\n",
      "44/44 [==============================] - 211s 5s/step - loss: 0.5420 - mean_squared_error: 0.5420 - mean_absolute_error: 0.5866 - mean_absolute_percentage_error: 16.5969\n"
     ]
    },
    {
     "data": {
      "text/html": [
       "<div>\n",
       "<style scoped>\n",
       "    .dataframe tbody tr th:only-of-type {\n",
       "        vertical-align: middle;\n",
       "    }\n",
       "\n",
       "    .dataframe tbody tr th {\n",
       "        vertical-align: top;\n",
       "    }\n",
       "\n",
       "    .dataframe thead th {\n",
       "        text-align: right;\n",
       "    }\n",
       "</style>\n",
       "<table border=\"1\" class=\"dataframe\">\n",
       "  <thead>\n",
       "    <tr style=\"text-align: right;\">\n",
       "      <th></th>\n",
       "      <th>0</th>\n",
       "      <th>1</th>\n",
       "      <th>2</th>\n",
       "    </tr>\n",
       "  </thead>\n",
       "  <tbody>\n",
       "    <tr>\n",
       "      <th>Epochs - 4 Batch Size - 64</th>\n",
       "      <td>0.588828</td>\n",
       "      <td>0.603943</td>\n",
       "      <td>17.737452</td>\n",
       "    </tr>\n",
       "    <tr>\n",
       "      <th>Epochs - 3 Batch Size - 32</th>\n",
       "      <td>0.518949</td>\n",
       "      <td>0.577952</td>\n",
       "      <td>15.637679</td>\n",
       "    </tr>\n",
       "    <tr>\n",
       "      <th>Epochs - 3 Batch Size - 64</th>\n",
       "      <td>0.538889</td>\n",
       "      <td>0.583302</td>\n",
       "      <td>16.616337</td>\n",
       "    </tr>\n",
       "    <tr>\n",
       "      <th>Epochs - 2 Batch Size - 32</th>\n",
       "      <td>0.539272</td>\n",
       "      <td>0.586305</td>\n",
       "      <td>16.506973</td>\n",
       "    </tr>\n",
       "    <tr>\n",
       "      <th>Epochs - 2 Batch Size - 64</th>\n",
       "      <td>0.542049</td>\n",
       "      <td>0.586643</td>\n",
       "      <td>16.596861</td>\n",
       "    </tr>\n",
       "  </tbody>\n",
       "</table>\n",
       "</div>"
      ],
      "text/plain": [
       "                                   0         1          2\n",
       "Epochs - 4 Batch Size - 64  0.588828  0.603943  17.737452\n",
       "Epochs - 3 Batch Size - 32  0.518949  0.577952  15.637679\n",
       "Epochs - 3 Batch Size - 64  0.538889  0.583302  16.616337\n",
       "Epochs - 2 Batch Size - 32  0.539272  0.586305  16.506973\n",
       "Epochs - 2 Batch Size - 64  0.542049  0.586643  16.596861"
      ]
     },
     "execution_count": 8,
     "metadata": {},
     "output_type": "execute_result"
    },
    {
     "data": {
      "image/png": "[encoded data removed]",
      "text/plain": [
       "<Figure size 432x288 with 1 Axes>"
      ]
     },
     "metadata": {
      "needs_background": "light"
     },
     "output_type": "display_data"
    }
   ],
   "source": [
    "results = train_test(model,2,32,results)\n",
    "results = train_test(model,2,64,results)\n",
    "results.T"
   ]
  },
  {
   "cell_type": "code",
   "execution_count": 9,
   "metadata": {},
   "outputs": [
    {
     "name": "stdout",
     "output_type": "stream",
     "text": [
      "176/176 - 2869s - loss: 0.0195 - mean_squared_error: 0.0195 - mean_absolute_error: 0.1096 - mean_absolute_percentage_error: 3.0161\n",
      "44/44 [==============================] - 231s 5s/step - loss: 0.5413 - mean_squared_error: 0.5413 - mean_absolute_error: 0.5860 - mean_absolute_percentage_error: 16.7649\n",
      "88/88 - 4029s - loss: 0.0220 - mean_squared_error: 0.0220 - mean_absolute_error: 0.1168 - mean_absolute_percentage_error: 3.1691\n",
      "44/44 [==============================] - 348s 8s/step - loss: 0.5570 - mean_squared_error: 0.5570 - mean_absolute_error: 0.5962 - mean_absolute_percentage_error: 17.3562\n"
     ]
    },
    {
     "data": {
      "text/html": [
       "<div>\n",
       "<style scoped>\n",
       "    .dataframe tbody tr th:only-of-type {\n",
       "        vertical-align: middle;\n",
       "    }\n",
       "\n",
       "    .dataframe tbody tr th {\n",
       "        vertical-align: top;\n",
       "    }\n",
       "\n",
       "    .dataframe thead th {\n",
       "        text-align: right;\n",
       "    }\n",
       "</style>\n",
       "<table border=\"1\" class=\"dataframe\">\n",
       "  <thead>\n",
       "    <tr style=\"text-align: right;\">\n",
       "      <th></th>\n",
       "      <th>0</th>\n",
       "      <th>1</th>\n",
       "      <th>2</th>\n",
       "    </tr>\n",
       "  </thead>\n",
       "  <tbody>\n",
       "    <tr>\n",
       "      <th>Epochs - 4 Batch Size - 64</th>\n",
       "      <td>0.588828</td>\n",
       "      <td>0.603943</td>\n",
       "      <td>17.737452</td>\n",
       "    </tr>\n",
       "    <tr>\n",
       "      <th>Epochs - 3 Batch Size - 32</th>\n",
       "      <td>0.518949</td>\n",
       "      <td>0.577952</td>\n",
       "      <td>15.637679</td>\n",
       "    </tr>\n",
       "    <tr>\n",
       "      <th>Epochs - 3 Batch Size - 64</th>\n",
       "      <td>0.538889</td>\n",
       "      <td>0.583302</td>\n",
       "      <td>16.616337</td>\n",
       "    </tr>\n",
       "    <tr>\n",
       "      <th>Epochs - 2 Batch Size - 32</th>\n",
       "      <td>0.539272</td>\n",
       "      <td>0.586305</td>\n",
       "      <td>16.506973</td>\n",
       "    </tr>\n",
       "    <tr>\n",
       "      <th>Epochs - 2 Batch Size - 64</th>\n",
       "      <td>0.542049</td>\n",
       "      <td>0.586643</td>\n",
       "      <td>16.596861</td>\n",
       "    </tr>\n",
       "    <tr>\n",
       "      <th>Epochs - 1 Batch Size - 32</th>\n",
       "      <td>0.541327</td>\n",
       "      <td>0.586028</td>\n",
       "      <td>16.764856</td>\n",
       "    </tr>\n",
       "    <tr>\n",
       "      <th>Epochs - 1 Batch Size - 64</th>\n",
       "      <td>0.557036</td>\n",
       "      <td>0.596244</td>\n",
       "      <td>17.356215</td>\n",
       "    </tr>\n",
       "  </tbody>\n",
       "</table>\n",
       "</div>"
      ],
      "text/plain": [
       "                                   0         1          2\n",
       "Epochs - 4 Batch Size - 64  0.588828  0.603943  17.737452\n",
       "Epochs - 3 Batch Size - 32  0.518949  0.577952  15.637679\n",
       "Epochs - 3 Batch Size - 64  0.538889  0.583302  16.616337\n",
       "Epochs - 2 Batch Size - 32  0.539272  0.586305  16.506973\n",
       "Epochs - 2 Batch Size - 64  0.542049  0.586643  16.596861\n",
       "Epochs - 1 Batch Size - 32  0.541327  0.586028  16.764856\n",
       "Epochs - 1 Batch Size - 64  0.557036  0.596244  17.356215"
      ]
     },
     "execution_count": 9,
     "metadata": {},
     "output_type": "execute_result"
    },
    {
     "data": {
      "image/png": "[encoded data removed]",
      "text/plain": [
       "<Figure size 432x288 with 1 Axes>"
      ]
     },
     "metadata": {
      "needs_background": "light"
     },
     "output_type": "display_data"
    }
   ],
   "source": [
    "results = train_test(model,1,32,results)\n",
    "results = train_test(model,1,64,results)\n",
    "results.T"
   ]
  },
  {
   "cell_type": "code",
   "execution_count": 11,
   "metadata": {},
   "outputs": [
    {
     "data": {
      "text/html": [
       "<div>\n",
       "<style scoped>\n",
       "    .dataframe tbody tr th:only-of-type {\n",
       "        vertical-align: middle;\n",
       "    }\n",
       "\n",
       "    .dataframe tbody tr th {\n",
       "        vertical-align: top;\n",
       "    }\n",
       "\n",
       "    .dataframe thead th {\n",
       "        text-align: right;\n",
       "    }\n",
       "</style>\n",
       "<table border=\"1\" class=\"dataframe\">\n",
       "  <thead>\n",
       "    <tr style=\"text-align: right;\">\n",
       "      <th></th>\n",
       "      <th>Epochs - 4 Batch Size - 64</th>\n",
       "      <th>Epochs - 3 Batch Size - 32</th>\n",
       "      <th>Epochs - 3 Batch Size - 64</th>\n",
       "      <th>Epochs - 2 Batch Size - 32</th>\n",
       "      <th>Epochs - 2 Batch Size - 64</th>\n",
       "      <th>Epochs - 1 Batch Size - 32</th>\n",
       "      <th>Epochs - 1 Batch Size - 64</th>\n",
       "    </tr>\n",
       "  </thead>\n",
       "  <tbody>\n",
       "    <tr>\n",
       "      <th>0</th>\n",
       "      <td>0.588828</td>\n",
       "      <td>0.518949</td>\n",
       "      <td>0.538889</td>\n",
       "      <td>0.539272</td>\n",
       "      <td>0.542049</td>\n",
       "      <td>0.541327</td>\n",
       "      <td>0.557036</td>\n",
       "    </tr>\n",
       "    <tr>\n",
       "      <th>1</th>\n",
       "      <td>0.603943</td>\n",
       "      <td>0.577952</td>\n",
       "      <td>0.583302</td>\n",
       "      <td>0.586305</td>\n",
       "      <td>0.586643</td>\n",
       "      <td>0.586028</td>\n",
       "      <td>0.596244</td>\n",
       "    </tr>\n",
       "    <tr>\n",
       "      <th>2</th>\n",
       "      <td>17.737452</td>\n",
       "      <td>15.637679</td>\n",
       "      <td>16.616337</td>\n",
       "      <td>16.506973</td>\n",
       "      <td>16.596861</td>\n",
       "      <td>16.764856</td>\n",
       "      <td>17.356215</td>\n",
       "    </tr>\n",
       "  </tbody>\n",
       "</table>\n",
       "</div>"
      ],
      "text/plain": [
       "   Epochs - 4 Batch Size - 64  Epochs - 3 Batch Size - 32  \\\n",
       "0                    0.588828                    0.518949   \n",
       "1                    0.603943                    0.577952   \n",
       "2                   17.737452                   15.637679   \n",
       "\n",
       "   Epochs - 3 Batch Size - 64  Epochs - 2 Batch Size - 32  \\\n",
       "0                    0.538889                    0.539272   \n",
       "1                    0.583302                    0.586305   \n",
       "2                   16.616337                   16.506973   \n",
       "\n",
       "   Epochs - 2 Batch Size - 64  Epochs - 1 Batch Size - 32  \\\n",
       "0                    0.542049                    0.541327   \n",
       "1                    0.586643                    0.586028   \n",
       "2                   16.596861                   16.764856   \n",
       "\n",
       "   Epochs - 1 Batch Size - 64  \n",
       "0                    0.557036  \n",
       "1                    0.596244  \n",
       "2                   17.356215  "
      ]
     },
     "execution_count": 11,
     "metadata": {},
     "output_type": "execute_result"
    }
   ],
   "source": [
    "results = results.T\n",
    "results.to_csv(\"../../../data/random_state_five/bert_italian_sentences_scores.csv\")\n",
    "results"
   ]
  },
  {
   "cell_type": "code",
   "execution_count": null,
   "metadata": {},
   "outputs": [],
   "source": []
  }
 ],
 "metadata": {
  "interpreter": {
   "hash": "398e6eae58e6d4656a743cb168d0751de636ca5ff86262c603eb7cbbad789ea4"
  },
  "kernelspec": {
   "display_name": "Python 3.7.9 64-bit (windows store)",
   "language": "python",
   "name": "python3"
  },
  "language_info": {
   "codemirror_mode": {
    "name": "ipython",
    "version": 3
   },
   "file_extension": ".py",
   "mimetype": "text/x-python",
   "name": "python",
   "nbconvert_exporter": "python",
   "pygments_lexer": "ipython3",
   "version": "3.9.9"
  },
  "orig_nbformat": 4
 },
 "nbformat": 4,
 "nbformat_minor": 2
}
