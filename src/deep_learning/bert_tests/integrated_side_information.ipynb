{
 "cells": [
  {
   "cell_type": "code",
   "execution_count": 1,
   "metadata": {},
   "outputs": [],
   "source": [
    "# Imports \n",
    "import pandas as pd\n",
    "import numpy as np\n",
    "from sklearn.model_selection import train_test_split\n",
    "import tensorflow as tf\n",
    "import tensorflow_hub as hub\n",
    "import tensorflow_text as text\n",
    "from keras import backend as K\n",
    "import matplotlib.pyplot as plt \n",
    "from tensorflow.keras.optimizers import Adam"
   ]
  },
  {
   "cell_type": "code",
   "execution_count": 2,
   "metadata": {},
   "outputs": [],
   "source": [
    "# Import data\n",
    "data = pd.read_csv(\"../../../data/side_information.csv\",encoding='unicode_escape')\n",
    "checkpoint_path = \"C:/Users/jack-/Documents/University/Project/src/deep_learning/bert_tests/checkpoints\"\n",
    "feature_names = ['Sentence',\n",
    "                 'Length in Words', 'Length in Characters', 'F-score', 'I-score',\n",
    "                 'Lexical Density','FK Reading Ease', 'FOG Scale', 'SMOG Index', 'ARI',\n",
    "                 'CL Index', 'LW Formula', 'DC Score', 'Readability Consensus',\n",
    "                 'Spache Formula']\n",
    "\n",
    "samples = data[feature_names]\n",
    "labels = data[\"Formality\"]\n",
    "train_samples, test_samples, train_labels,test_labels = train_test_split(samples, labels, test_size=0.2,random_state=5)\n",
    "\n",
    "bert_train_samples = np.array(train_samples[\"Sentence\"])\n",
    "bert_test_samples = np.array(test_samples[\"Sentence\"])\n",
    "side_train_samples = np.array(train_samples[feature_names[1:]])\n",
    "side_test_samples = np.array(test_samples[feature_names[1:]])\n",
    "\n",
    "train_samples = np.array(train_samples)\n",
    "test_samples = np.array(test_samples)\n",
    "train_labels = np.array(train_labels)\n",
    "test_labels = np.array(test_labels)"
   ]
  },
  {
   "cell_type": "code",
   "execution_count": 3,
   "metadata": {},
   "outputs": [],
   "source": [
    "# Model setup\n",
    "\n",
    "# Attention layer\n",
    "class peel_the_layer(tf.keras.layers.Layer): \n",
    "\n",
    "    def __init__(self):    \n",
    "        ##Nothing special to be done here\n",
    "        super(peel_the_layer, self).__init__()\n",
    "\n",
    "    def build(self, input_shape):\n",
    "        ##Define the shape of the weights and bias in this layer\n",
    "        ##This is a 1 unit layer. \n",
    "        units=1\n",
    "        ##last index of the input_shape is the number of dimensions of the prev\n",
    "        ##RNN layer. last but 1 index is the num of timesteps\n",
    "        self.w=self.add_weight(name=\"att_weights\", shape=(input_shape[-1], units), initializer=\"normal\") #name property is useful for avoiding RuntimeError: Unable to create link.\n",
    "        self.b=self.add_weight(name=\"att_bias\", shape=(input_shape[-2], units), initializer=\"zeros\")\n",
    "        super(peel_the_layer,self).build(input_shape)\n",
    "\n",
    "    def call(self, x):\n",
    "        ##x is the input tensor..each word that needs to be attended to\n",
    "        ##Below is the main processing done during training\n",
    "        ##K is the Keras Backend import\n",
    "        e = K.tanh(K.dot(x,self.w)+self.b)\n",
    "        a = K.softmax(e, axis=1)\n",
    "        output = x*a\n",
    "\n",
    "        ##return the ouputs. 'a' is the set of attention weights\n",
    "        ##the second variable is the 'attention adjusted o/p state' or context\n",
    "        return a, K.sum(output, axis=1)\n",
    "\n",
    "bert_model_name = 'small_bert/bert_en_uncased_L-4_H-512_A-8' \n",
    "\n",
    "\n",
    "\n",
    "tfhub_handle_encoder = 'https://tfhub.dev/tensorflow/bert_en_cased_L-12_H-768_A-12/4'\n",
    "tfhub_handle_preprocess = 'https://tfhub.dev/tensorflow/bert_en_cased_preprocess/3'\n",
    "bert_preprocess_model = hub.KerasLayer(tfhub_handle_preprocess)\n",
    "bert_model = hub.KerasLayer(tfhub_handle_encoder)"
   ]
  },
  {
   "cell_type": "code",
   "execution_count": 4,
   "metadata": {},
   "outputs": [
    {
     "name": "stdout",
     "output_type": "stream",
     "text": [
      "Model: \"model\"\n",
      "__________________________________________________________________________________________________\n",
      "Layer (type)                    Output Shape         Param #     Connected to                     \n",
      "==================================================================================================\n",
      "text (InputLayer)               [(None,)]            0                                            \n",
      "__________________________________________________________________________________________________\n",
      "preprocessing (KerasLayer)      {'input_word_ids': ( 0           text[0][0]                       \n",
      "__________________________________________________________________________________________________\n",
      "BERT_encoder (KerasLayer)       {'pooled_output': (N 108310273   preprocessing[0][0]              \n",
      "                                                                 preprocessing[0][1]              \n",
      "                                                                 preprocessing[0][2]              \n",
      "__________________________________________________________________________________________________\n",
      "tf.reshape (TFOpLambda)         (None, 768, 1)       0           BERT_encoder[0][13]              \n",
      "__________________________________________________________________________________________________\n",
      "lstm (LSTM)                     (None, 768, 512)     1052672     tf.reshape[0][0]                 \n",
      "__________________________________________________________________________________________________\n",
      "peel_the_layer (peel_the_layer) ((None, 768, 1), (No 1280        lstm[0][0]                       \n",
      "__________________________________________________________________________________________________\n",
      "input_1 (InputLayer)            [(None, 14)]         0                                            \n",
      "__________________________________________________________________________________________________\n",
      "concatenate (Concatenate)       (None, 526)          0           peel_the_layer[0][1]             \n",
      "                                                                 input_1[0][0]                    \n",
      "__________________________________________________________________________________________________\n",
      "dense (Dense)                   (None, 1)            527         concatenate[0][0]                \n",
      "==================================================================================================\n",
      "Total params: 109,364,752\n",
      "Trainable params: 109,364,751\n",
      "Non-trainable params: 1\n",
      "__________________________________________________________________________________________________\n"
     ]
    }
   ],
   "source": [
    "# Bert model\n",
    "\n",
    "text_input = tf.keras.layers.Input(shape=(), dtype=tf.string, name='text')\n",
    "preprocessing_layer = hub.KerasLayer(tfhub_handle_preprocess, name='preprocessing')\n",
    "encoder_inputs = preprocessing_layer(text_input)\n",
    "encoder = hub.KerasLayer(tfhub_handle_encoder, trainable=True, name='BERT_encoder')\n",
    "outputs = encoder(encoder_inputs)\n",
    "net = outputs['pooled_output']\n",
    "reshaped = tf.reshape(net,[-1, 768, 1])\n",
    "lstm = tf.keras.layers.LSTM(512,return_sequences=True)(reshaped)\n",
    "a, context = peel_the_layer()(lstm)\n",
    "\n",
    "side_input = tf.keras.layers.Input(shape=(14,))\n",
    "concat = tf.keras.layers.concatenate([context, side_input]) \n",
    "\n",
    "dense = tf.keras.layers.Dense(1)(concat)\n",
    "integrated_model = tf.keras.Model([text_input,side_input], dense)\n",
    "\n",
    "integrated_model.summary()"
   ]
  },
  {
   "cell_type": "code",
   "execution_count": null,
   "metadata": {},
   "outputs": [],
   "source": [
    "integrated_model.compile(optimizer=Adam(learning_rate=0.0001),loss='mean_squared_error',metrics=[tf.keras.losses.MeanAbsoluteError(),tf.keras.losses.MeanAbsolutePercentageError()])\n",
    "callback = tf.keras.callbacks.EarlyStopping(monitor='loss', patience=1,min_delta=0.01)\n",
    "history = integrated_model.fit(x=[bert_train_samples,side_train_samples],y=train_labels,batch_size=32,epochs=8,verbose=2,callbacks=[callback])"
   ]
  },
  {
   "cell_type": "code",
   "execution_count": null,
   "metadata": {},
   "outputs": [],
   "source": [
    "results = pd.DataFrame()\n",
    "scores = integrated_model.evaluate(x=[bert_test_samples,side_test_samples],y=test_labels)\n",
    "results[\"E8 B32\"] = scores\n",
    "results"
   ]
  },
  {
   "cell_type": "code",
   "execution_count": null,
   "metadata": {},
   "outputs": [],
   "source": [
    "mse = history.history['loss']\n",
    "\n",
    "plt.plot(mse)\n",
    "plt.title(\"Model: Italian Sentences + Side Information\")\n",
    "plt.ylabel('MSE')\n",
    "plt.xlabel('Epoch')\n",
    "plt.ylim(bottom=0)\n",
    "plt.savefig(\"Italian Sentences With Integrated Side Information E8 B32\" + \".jpeg\",dpi=100,bbox_inches='tight')"
   ]
  },
  {
   "cell_type": "code",
   "execution_count": 5,
   "metadata": {},
   "outputs": [
    {
     "name": "stdout",
     "output_type": "stream",
     "text": [
      "Epoch 1/20\n",
      "176/176 - 3289s - loss: 25.5264 - mean_absolute_error: 3.3339 - mean_absolute_percentage_error: 91.4433\n",
      "Epoch 2/20\n",
      "176/176 - 2812s - loss: 7.8867 - mean_absolute_error: 1.9884 - mean_absolute_percentage_error: 56.3727\n",
      "Epoch 3/20\n",
      "176/176 - 2832s - loss: 6.1488 - mean_absolute_error: 1.7838 - mean_absolute_percentage_error: 51.1291\n",
      "Epoch 4/20\n",
      "176/176 - 2959s - loss: 5.7494 - mean_absolute_error: 1.7041 - mean_absolute_percentage_error: 49.3081\n",
      "Epoch 5/20\n",
      "176/176 - 3005s - loss: 4.8403 - mean_absolute_error: 1.5980 - mean_absolute_percentage_error: 46.5224\n",
      "Epoch 6/20\n",
      "176/176 - 3115s - loss: 4.2813 - mean_absolute_error: 1.5093 - mean_absolute_percentage_error: 44.0596\n",
      "Epoch 7/20\n",
      "176/176 - 3067s - loss: 3.7790 - mean_absolute_error: 1.4256 - mean_absolute_percentage_error: 41.7835\n",
      "Epoch 8/20\n",
      "176/176 - 3226s - loss: 3.3417 - mean_absolute_error: 1.3443 - mean_absolute_percentage_error: 39.4621\n",
      "Epoch 9/20\n",
      "176/176 - 3091s - loss: 2.9196 - mean_absolute_error: 1.2617 - mean_absolute_percentage_error: 37.1372\n",
      "Epoch 10/20\n",
      "176/176 - 2987s - loss: 2.5535 - mean_absolute_error: 1.1868 - mean_absolute_percentage_error: 34.9793\n",
      "Epoch 11/20\n",
      "176/176 - 2810s - loss: 2.2577 - mean_absolute_error: 1.1236 - mean_absolute_percentage_error: 33.1473\n",
      "Epoch 12/20\n",
      "176/176 - 2743s - loss: 2.0304 - mean_absolute_error: 1.0733 - mean_absolute_percentage_error: 31.6016\n",
      "Epoch 13/20\n",
      "176/176 - 2736s - loss: 1.8032 - mean_absolute_error: 1.0196 - mean_absolute_percentage_error: 30.0204\n",
      "Epoch 14/20\n",
      "176/176 - 2732s - loss: 1.6195 - mean_absolute_error: 0.9712 - mean_absolute_percentage_error: 28.5589\n",
      "Epoch 15/20\n",
      "176/176 - 2734s - loss: 1.4739 - mean_absolute_error: 0.9327 - mean_absolute_percentage_error: 27.3829\n",
      "Epoch 16/20\n",
      "176/176 - 2730s - loss: 1.3404 - mean_absolute_error: 0.8939 - mean_absolute_percentage_error: 26.2220\n",
      "Epoch 17/20\n",
      "176/176 - 2724s - loss: 1.2378 - mean_absolute_error: 0.8640 - mean_absolute_percentage_error: 25.2527\n",
      "Epoch 18/20\n",
      "176/176 - 2722s - loss: 1.1618 - mean_absolute_error: 0.8421 - mean_absolute_percentage_error: 24.6045\n",
      "Epoch 19/20\n",
      "176/176 - 2723s - loss: 1.0947 - mean_absolute_error: 0.8205 - mean_absolute_percentage_error: 23.9206\n",
      "Epoch 20/20\n",
      "176/176 - 2725s - loss: 1.0382 - mean_absolute_error: 0.8027 - mean_absolute_percentage_error: 23.3246\n"
     ]
    }
   ],
   "source": [
    "results = pd.DataFrame()\n",
    "integrated_model = tf.keras.Model([text_input,side_input], dense)\n",
    "integrated_model.compile(optimizer=Adam(learning_rate=0.0001),loss='mean_squared_error',metrics=[tf.keras.losses.MeanAbsoluteError(),tf.keras.losses.MeanAbsolutePercentageError()])\n",
    "callback = tf.keras.callbacks.EarlyStopping(monitor='loss', patience=3,min_delta=0.01)\n",
    "history = integrated_model.fit(x=[bert_train_samples,side_train_samples],y=train_labels,batch_size=32,epochs=20,verbose=2,callbacks=[callback])"
   ]
  },
  {
   "cell_type": "code",
   "execution_count": 6,
   "metadata": {},
   "outputs": [
    {
     "name": "stdout",
     "output_type": "stream",
     "text": [
      "44/44 [==============================] - 244s 5s/step - loss: 1.0936 - mean_absolute_error: 0.8126 - mean_absolute_percentage_error: 24.7532\n"
     ]
    },
    {
     "data": {
      "text/html": [
       "<div>\n",
       "<style scoped>\n",
       "    .dataframe tbody tr th:only-of-type {\n",
       "        vertical-align: middle;\n",
       "    }\n",
       "\n",
       "    .dataframe tbody tr th {\n",
       "        vertical-align: top;\n",
       "    }\n",
       "\n",
       "    .dataframe thead th {\n",
       "        text-align: right;\n",
       "    }\n",
       "</style>\n",
       "<table border=\"1\" class=\"dataframe\">\n",
       "  <thead>\n",
       "    <tr style=\"text-align: right;\">\n",
       "      <th></th>\n",
       "      <th>0</th>\n",
       "      <th>1</th>\n",
       "      <th>2</th>\n",
       "    </tr>\n",
       "  </thead>\n",
       "  <tbody>\n",
       "    <tr>\n",
       "      <th>E20 B32</th>\n",
       "      <td>1.093595</td>\n",
       "      <td>0.812643</td>\n",
       "      <td>24.753246</td>\n",
       "    </tr>\n",
       "  </tbody>\n",
       "</table>\n",
       "</div>"
      ],
      "text/plain": [
       "                0         1          2\n",
       "E20 B32  1.093595  0.812643  24.753246"
      ]
     },
     "execution_count": 6,
     "metadata": {},
     "output_type": "execute_result"
    }
   ],
   "source": [
    "results = pd.DataFrame()\n",
    "scores = integrated_model.evaluate(x=[bert_test_samples,side_test_samples],y=test_labels)\n",
    "results[\"E20 B32\"] = scores\n",
    "results.T"
   ]
  }
 ],
 "metadata": {
  "interpreter": {
   "hash": "cf40a414ae5ae66c158cf9436a524eea5be65427779586ca11ada2f94d3fdf0f"
  },
  "kernelspec": {
   "display_name": "Python 3.7.12 64-bit ('conda_bert': conda)",
   "language": "python",
   "name": "python3"
  },
  "language_info": {
   "codemirror_mode": {
    "name": "ipython",
    "version": 3
   },
   "file_extension": ".py",
   "mimetype": "text/x-python",
   "name": "python",
   "nbconvert_exporter": "python",
   "pygments_lexer": "ipython3",
   "version": "3.9.9"
  },
  "orig_nbformat": 4
 },
 "nbformat": 4,
 "nbformat_minor": 2
}
