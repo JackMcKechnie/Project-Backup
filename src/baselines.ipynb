{
 "cells": [
  {
   "cell_type": "code",
   "execution_count": 4,
   "metadata": {},
   "outputs": [],
   "source": [
    "# Imports\n",
    "import pandas as pd\n",
    "from sklearn.model_selection import KFold\n",
    "from sklearn.model_selection import train_test_split\n",
    "from sklearn import linear_model\n",
    "from sklearn.model_selection import cross_validate\n",
    "from sklearn.preprocessing import scale"
   ]
  },
  {
   "cell_type": "code",
   "execution_count": 5,
   "metadata": {},
   "outputs": [],
   "source": [
    "# Import data\n",
    "data = pd.read_csv(\"../data/mturk_experiment_2.csv\",encoding='unicode_escape')\n",
    "feature_names = [\"Informativeness\",\"Implicature\",\"Length in Words\",\"Length in Characters\",\"F-score\",\"I-score\",\"Lexical Density\"]\n",
    "features = data[feature_names]\n",
    "target = data[\"Formality\"]\n",
    "\n",
    "X_train, X_test, y_train, y_test = train_test_split(features, target, test_size=0.2, random_state=1)"
   ]
  },
  {
   "cell_type": "code",
   "execution_count": 6,
   "metadata": {},
   "outputs": [],
   "source": [
    "# Set up K-Folds and scoring\n",
    "cv = KFold(n_splits=10, random_state=1, shuffle=True)\n",
    "scoring = [\"r2\",\"neg_mean_squared_error\",\"neg_median_absolute_error\",\"max_error\"]"
   ]
  },
  {
   "cell_type": "code",
   "execution_count": 7,
   "metadata": {},
   "outputs": [
    {
     "data": {
      "text/plain": [
       "{'fit_time': array([0.01299024, 0.00200677, 0.00185561, 0.0030179 , 0.00300145,\n",
       "        0.00400066, 0.00200152, 0.00302577, 0.00200891, 0.00300527]),\n",
       " 'score_time': array([0.00252771, 0.00243878, 0.00099826, 0.00199246, 0.00198722,\n",
       "        0.00108027, 0.00107336, 0.00109434, 0.00198579, 0.00199962]),\n",
       " 'test_r2': array([0.56952603, 0.55882205, 0.60617977, 0.56048608, 0.51722343,\n",
       "        0.5980286 , 0.57403479, 0.57344594, 0.56994064, 0.5237644 ]),\n",
       " 'test_neg_mean_squared_error': array([-0.54095146, -0.57153626, -0.50594363, -0.54133643, -0.61174158,\n",
       "        -0.53110344, -0.53931864, -0.5373336 , -0.54752164, -0.56809796]),\n",
       " 'test_neg_median_absolute_error': array([-0.49650966, -0.50503012, -0.46680883, -0.51525232, -0.52758131,\n",
       "        -0.50007299, -0.50717377, -0.5307477 , -0.49320295, -0.49973068]),\n",
       " 'test_max_error': array([-2.35355525, -2.32769382, -2.67951447, -2.48484071, -3.83554137,\n",
       "        -2.32437554, -2.89797341, -2.5579469 , -3.9928348 , -2.72826249])}"
      ]
     },
     "execution_count": 7,
     "metadata": {},
     "output_type": "execute_result"
    }
   ],
   "source": [
    "# Linear regression\n",
    "lin_reg = linear_model.LinearRegression()\n",
    "lin_reg_scores = cross_validate(lin_reg, X_train, y_train, cv=cv,scoring=scoring)\n",
    "lin_reg_scores"
   ]
  },
  {
   "cell_type": "code",
   "execution_count": 8,
   "metadata": {},
   "outputs": [
    {
     "data": {
      "text/plain": [
       "{'fit_time': array([0.0098772 , 0.0021081 , 0.00199986, 0.00099993, 0.00204396,\n",
       "        0.00191498, 0.00192475, 0.00099993, 0.00200033, 0.00192451]),\n",
       " 'score_time': array([0.00201678, 0.00099945, 0.00100064, 0.00200009, 0.00204062,\n",
       "        0.00107956, 0.00106931, 0.0010016 , 0.00100064, 0.00202513]),\n",
       " 'test_r2': array([0.56952546, 0.55882348, 0.60618161, 0.56049061, 0.51721175,\n",
       "        0.59803064, 0.57403306, 0.57344741, 0.56993484, 0.52377141]),\n",
       " 'test_neg_mean_squared_error': array([-0.54095217, -0.57153442, -0.50594127, -0.54133085, -0.61175638,\n",
       "        -0.53110074, -0.53932083, -0.53733175, -0.54752903, -0.56808961]),\n",
       " 'test_neg_median_absolute_error': array([-0.49638495, -0.50501619, -0.46664425, -0.51530712, -0.52755323,\n",
       "        -0.50000561, -0.50735819, -0.5306824 , -0.49333987, -0.49979055]),\n",
       " 'test_max_error': array([-2.35370572, -2.32766362, -2.67946116, -2.48527297, -3.83634624,\n",
       "        -2.32432166, -2.89802728, -2.55790846, -3.99380597, -2.72813104])}"
      ]
     },
     "execution_count": 8,
     "metadata": {},
     "output_type": "execute_result"
    }
   ],
   "source": [
    "# Ridge regression\n",
    "ridge_reg = linear_model.Ridge()\n",
    "ridge_reg_scores = cross_validate(ridge_reg, X_train, y_train, cv=cv,scoring=scoring)\n",
    "ridge_reg_scores"
   ]
  },
  {
   "cell_type": "code",
   "execution_count": 9,
   "metadata": {},
   "outputs": [
    {
     "data": {
      "text/plain": [
       "{'fit_time': array([0.00557733, 0.00240254, 0.00297427, 0.00300193, 0.00299191,\n",
       "        0.00197768, 0.00308323, 0.00202274, 0.00186086, 0.00193453]),\n",
       " 'score_time': array([0.00200605, 0.00107288, 0.00096536, 0.0009985 , 0.00108051,\n",
       "        0.00095129, 0.00199366, 0.00107408, 0.00107718, 0.00106382]),\n",
       " 'test_r2': array([0.27301323, 0.3122612 , 0.37413842, 0.30872804, 0.16829899,\n",
       "        0.35658596, 0.30606951, 0.32101272, 0.29013334, 0.29119036]),\n",
       " 'test_neg_mean_squared_error': array([-0.91356174, -0.89095038, -0.80404881, -0.85141944, -1.05387485,\n",
       "        -0.85010875, -0.87859205, -0.85532576, -0.90375283, -0.84553384]),\n",
       " 'test_neg_median_absolute_error': array([-0.65066255, -0.69573015, -0.63155322, -0.66661358, -0.65491924,\n",
       "        -0.6756198 , -0.67895819, -0.67173617, -0.63259848, -0.66627669]),\n",
       " 'test_max_error': array([-5.18173449, -2.92254797, -2.67152116, -3.44544451, -6.56841734,\n",
       "        -2.86457109, -3.49835304, -2.56308821, -5.96159889, -2.47514507])}"
      ]
     },
     "execution_count": 9,
     "metadata": {},
     "output_type": "execute_result"
    }
   ],
   "source": [
    "# Lasso regression\n",
    "lasso_reg = linear_model.Lasso()\n",
    "lasso_reg_scores = cross_validate(lasso_reg, X_train, y_train, cv=cv,scoring=scoring)\n",
    "lasso_reg_scores"
   ]
  },
  {
   "cell_type": "code",
   "execution_count": 10,
   "metadata": {},
   "outputs": [
    {
     "data": {
      "text/plain": [
       "{'fit_time': array([0.00518274, 0.00199938, 0.00193262, 0.00204659, 0.0030005 ,\n",
       "        0.00199819, 0.00198388, 0.00200486, 0.00208473, 0.00190973]),\n",
       " 'score_time': array([0.00100565, 0.00106883, 0.00101519, 0.00193644, 0.00107837,\n",
       "        0.00101471, 0.00099397, 0.0019269 , 0.00100493, 0.0010705 ]),\n",
       " 'test_r2': array([0.27301312, 0.31226127, 0.37413918, 0.30872804, 0.16829878,\n",
       "        0.35658603, 0.30606955, 0.32101276, 0.29013331, 0.29119033]),\n",
       " 'test_neg_mean_squared_error': array([-0.91356189, -0.8909503 , -0.80404783, -0.85141944, -1.05387512,\n",
       "        -0.85010867, -0.878592  , -0.85532572, -0.90375287, -0.84553387]),\n",
       " 'test_neg_median_absolute_error': array([-0.65066312, -0.69572917, -0.63155849, -0.66661341, -0.65491856,\n",
       "        -0.67561988, -0.67895844, -0.67173572, -0.6325981 , -0.66627659]),\n",
       " 'test_max_error': array([-5.1817407 , -2.92254834, -2.67151327, -3.44544646, -6.56842452,\n",
       "        -2.86457367, -3.49835438, -2.5630891 , -5.9616025 , -2.47514421])}"
      ]
     },
     "execution_count": 10,
     "metadata": {},
     "output_type": "execute_result"
    }
   ],
   "source": [
    "# LARS Lasso\n",
    "lars_lasso_reg = linear_model.LassoLars(normalize=False)\n",
    "lars_lasso_reg_scores = cross_validate(lars_lasso_reg, X_train, y_train, cv=cv,scoring=scoring)\n",
    "lars_lasso_reg_scores"
   ]
  },
  {
   "cell_type": "code",
   "execution_count": 11,
   "metadata": {},
   "outputs": [
    {
     "data": {
      "text/plain": [
       "{'fit_time': array([0.0072906 , 0.00390601, 0.00402951, 0.00345826, 0.00364161,\n",
       "        0.00289536, 0.00292635, 0.00344086, 0.00287437, 0.00391889]),\n",
       " 'score_time': array([0.00209379, 0.0010004 , 0.00073433, 0.00100088, 0.00110388,\n",
       "        0.0010767 , 0.00207353, 0.00200987, 0.00108337, 0.0010004 ]),\n",
       " 'test_r2': array([0.56951939, 0.55883407, 0.60619587, 0.56052689, 0.51711185,\n",
       "        0.59804647, 0.5740173 , 0.57345848, 0.56988434, 0.52382791]),\n",
       " 'test_neg_mean_squared_error': array([-0.5409598 , -0.57152069, -0.50592296, -0.54128617, -0.61188296,\n",
       "        -0.53107983, -0.53934079, -0.53731781, -0.54759333, -0.56802221]),\n",
       " 'test_neg_median_absolute_error': array([-0.49533888, -0.50490027, -0.46849362, -0.5157628 , -0.52731069,\n",
       "        -0.49944142, -0.50805326, -0.52946868, -0.49368968, -0.5002839 ]),\n",
       " 'test_max_error': array([-2.35496824, -2.32741272, -2.67901193, -2.48886817, -3.84312076,\n",
       "        -2.32387064, -2.89848025, -2.55758673, -4.00201798, -2.72704767])}"
      ]
     },
     "execution_count": 11,
     "metadata": {},
     "output_type": "execute_result"
    }
   ],
   "source": [
    "# Bayesian Ridge Regression\n",
    "bayesian_ridge_reg = linear_model.BayesianRidge()\n",
    "bayesian_ridge_reg_scores = cross_validate(bayesian_ridge_reg, X_train, y_train, cv=cv,scoring=scoring)\n",
    "bayesian_ridge_reg_scores"
   ]
  },
  {
   "cell_type": "code",
   "execution_count": 12,
   "metadata": {},
   "outputs": [
    {
     "data": {
      "text/plain": [
       "{'fit_time': array([0.00349164, 0.00201225, 0.00209785, 0.00199986, 0.00201797,\n",
       "        0.00193238, 0.00281239, 0.0030005 , 0.00206947, 0.00197792]),\n",
       " 'score_time': array([0.        , 0.0009706 , 0.        , 0.00097585, 0.        ,\n",
       "        0.00103617, 0.00102186, 0.        , 0.        , 0.        ]),\n",
       " 'test_r2': array([0.56049967, 0.54858685, 0.60932219, 0.55864147, 0.50994691,\n",
       "        0.59618806, 0.57184794, 0.56919085, 0.57647557, 0.51113849]),\n",
       " 'test_neg_mean_squared_error': array([-0.43607234, -0.46173429, -0.39628789, -0.4292142 , -0.49028982,\n",
       "        -0.42126079, -0.42801331, -0.42849205, -0.42573493, -0.46044223]),\n",
       " 'test_neg_median_absolute_error': array([-0.45360754, -0.46388507, -0.42352544, -0.460714  , -0.48099808,\n",
       "        -0.45342435, -0.44067935, -0.47844034, -0.44731137, -0.44765043]),\n",
       " 'test_max_error': array([-2.10768136, -2.1586749 , -2.28885042, -2.21352792, -3.23947669,\n",
       "        -2.12126359, -2.43164538, -2.20287699, -2.57294765, -2.4880349 ])}"
      ]
     },
     "execution_count": 12,
     "metadata": {},
     "output_type": "execute_result"
    }
   ],
   "source": [
    "# Stochastic Gradient Descent Regression\n",
    "sgd_reg = linear_model.SGDRegressor()\n",
    "sgd_reg_scores = cross_validate(sgd_reg, scale(X_train), scale(y_train), cv=cv,scoring=scoring)\n",
    "sgd_reg_scores"
   ]
  },
  {
   "cell_type": "code",
   "execution_count": 13,
   "metadata": {},
   "outputs": [
    {
     "data": {
      "text/html": [
       "<div>\n",
       "<style scoped>\n",
       "    .dataframe tbody tr th:only-of-type {\n",
       "        vertical-align: middle;\n",
       "    }\n",
       "\n",
       "    .dataframe tbody tr th {\n",
       "        vertical-align: top;\n",
       "    }\n",
       "\n",
       "    .dataframe thead th {\n",
       "        text-align: right;\n",
       "    }\n",
       "</style>\n",
       "<table border=\"1\" class=\"dataframe\">\n",
       "  <thead>\n",
       "    <tr style=\"text-align: right;\">\n",
       "      <th></th>\n",
       "      <th>R Squared</th>\n",
       "      <th>Negative Mean Squared Error</th>\n",
       "      <th>Negative Mean Absolute Error</th>\n",
       "      <th>Max Error</th>\n",
       "    </tr>\n",
       "  </thead>\n",
       "  <tbody>\n",
       "    <tr>\n",
       "      <th>Linear Regression</th>\n",
       "      <td>0.565145</td>\n",
       "      <td>-0.549488</td>\n",
       "      <td>-0.504211</td>\n",
       "      <td>-2.818254</td>\n",
       "    </tr>\n",
       "    <tr>\n",
       "      <th>Ridge Regression</th>\n",
       "      <td>0.565145</td>\n",
       "      <td>-0.549489</td>\n",
       "      <td>-0.504208</td>\n",
       "      <td>-2.818464</td>\n",
       "    </tr>\n",
       "    <tr>\n",
       "      <th>Lasso Regression</th>\n",
       "      <td>0.300143</td>\n",
       "      <td>-0.884717</td>\n",
       "      <td>-0.662467</td>\n",
       "      <td>-3.815242</td>\n",
       "    </tr>\n",
       "    <tr>\n",
       "      <th>LARS Lasso Regression</th>\n",
       "      <td>0.300143</td>\n",
       "      <td>-0.884717</td>\n",
       "      <td>-0.662467</td>\n",
       "      <td>-3.815244</td>\n",
       "    </tr>\n",
       "    <tr>\n",
       "      <th>Bayesian Ridge Regression</th>\n",
       "      <td>0.565142</td>\n",
       "      <td>-0.549493</td>\n",
       "      <td>-0.504274</td>\n",
       "      <td>-2.820239</td>\n",
       "    </tr>\n",
       "    <tr>\n",
       "      <th>Stochastic Gradient Descent Regression</th>\n",
       "      <td>0.561184</td>\n",
       "      <td>-0.437754</td>\n",
       "      <td>-0.455024</td>\n",
       "      <td>-2.382498</td>\n",
       "    </tr>\n",
       "  </tbody>\n",
       "</table>\n",
       "</div>"
      ],
      "text/plain": [
       "                                        R Squared  \\\n",
       "Linear Regression                        0.565145   \n",
       "Ridge Regression                         0.565145   \n",
       "Lasso Regression                         0.300143   \n",
       "LARS Lasso Regression                    0.300143   \n",
       "Bayesian Ridge Regression                0.565142   \n",
       "Stochastic Gradient Descent Regression   0.561184   \n",
       "\n",
       "                                        Negative Mean Squared Error  \\\n",
       "Linear Regression                                         -0.549488   \n",
       "Ridge Regression                                          -0.549489   \n",
       "Lasso Regression                                          -0.884717   \n",
       "LARS Lasso Regression                                     -0.884717   \n",
       "Bayesian Ridge Regression                                 -0.549493   \n",
       "Stochastic Gradient Descent Regression                    -0.437754   \n",
       "\n",
       "                                        Negative Mean Absolute Error  \\\n",
       "Linear Regression                                          -0.504211   \n",
       "Ridge Regression                                           -0.504208   \n",
       "Lasso Regression                                           -0.662467   \n",
       "LARS Lasso Regression                                      -0.662467   \n",
       "Bayesian Ridge Regression                                  -0.504274   \n",
       "Stochastic Gradient Descent Regression                     -0.455024   \n",
       "\n",
       "                                        Max Error  \n",
       "Linear Regression                       -2.818254  \n",
       "Ridge Regression                        -2.818464  \n",
       "Lasso Regression                        -3.815242  \n",
       "LARS Lasso Regression                   -3.815244  \n",
       "Bayesian Ridge Regression               -2.820239  \n",
       "Stochastic Gradient Descent Regression  -2.382498  "
      ]
     },
     "execution_count": 13,
     "metadata": {},
     "output_type": "execute_result"
    }
   ],
   "source": [
    "# Table function\n",
    "def make_scores(scores):\n",
    "    temp = pd.DataFrame()\n",
    "    out = pd.DataFrame()\n",
    "    temp[\"R Squared\"] = scores[\"test_r2\"]\n",
    "    temp[\"Negative Mean Squared Error\"] = scores[\"test_neg_mean_squared_error\"]\n",
    "    temp[\"Negative Mean Absolute Error\"] = scores[\"test_neg_median_absolute_error\"]\n",
    "    temp[\"Max Error\"] = scores[\"test_max_error\"]\n",
    "    r2 = (temp[\"R Squared\"].sum()/10)\n",
    "    neg_mse = (temp[\"Negative Mean Squared Error\"].sum()/10)\n",
    "    neg_mae = (temp[\"Negative Mean Absolute Error\"].sum()/10)\n",
    "    max_err = (temp[\"Max Error\"].sum()/10)\n",
    "    out = [r2,neg_mse,neg_mae,max_err]\n",
    "    return out\n",
    "\n",
    "# Gather together table\n",
    "\n",
    "table = pd.DataFrame()\n",
    "\n",
    "table[\"Linear Regression\"] = make_scores(lin_reg_scores)\n",
    "table[\"Ridge Regression\"] = make_scores(ridge_reg_scores)\n",
    "table[\"Lasso Regression\"] = make_scores(lasso_reg_scores)\n",
    "table[\"LARS Lasso Regression\"] = make_scores(lars_lasso_reg_scores)\n",
    "table[\"Bayesian Ridge Regression\"] = make_scores(bayesian_ridge_reg_scores)\n",
    "table[\"Stochastic Gradient Descent Regression\"] = make_scores(sgd_reg_scores)\n",
    "\n",
    "\n",
    "table = table.T\n",
    "column_names = [\"R Squared\",\"Negative Mean Squared Error\",\"Negative Mean Absolute Error\",\"Max Error\"]\n",
    "table.columns = column_names\n",
    "\n",
    "table\n",
    "#table.to_csv(\"Baseline Comparisons.csv\")"
   ]
  }
 ],
 "metadata": {
  "interpreter": {
   "hash": "a2292f7dadeec0b36dafabb7d1d8dd7b9b8b8f0665c515bec64e67bf9650aaf0"
  },
  "kernelspec": {
   "display_name": "Python 3.9.7 64-bit (windows store)",
   "name": "python3"
  },
  "language_info": {
   "codemirror_mode": {
    "name": "ipython",
    "version": 3
   },
   "file_extension": ".py",
   "mimetype": "text/x-python",
   "name": "python",
   "nbconvert_exporter": "python",
   "pygments_lexer": "ipython3",
   "version": "3.9.7"
  },
  "orig_nbformat": 4
 },
 "nbformat": 4,
 "nbformat_minor": 2
}
