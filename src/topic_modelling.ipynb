{
 "cells": [
  {
   "cell_type": "code",
   "execution_count": 1,
   "metadata": {},
   "outputs": [],
   "source": [
    "# Imports\n",
    "import pandas as pd\n",
    "import gensim\n",
    "from sklearn.feature_extraction.text import CountVectorizer\n",
    "import matplotlib.pyplot as plt\n",
    "from matplotlib.ticker import StrMethodFormatter"
   ]
  },
  {
   "cell_type": "code",
   "execution_count": 3,
   "metadata": {},
   "outputs": [],
   "source": [
    "data = pd.read_csv(\"..\\data\\mturk_experiment_2.csv\",encoding=\"unicode_escape\")\n",
    "sentences = data[\"Sentence\"]"
   ]
  },
  {
   "cell_type": "code",
   "execution_count": 176,
   "metadata": {},
   "outputs": [],
   "source": [
    "vectoriser = CountVectorizer(min_df=20, max_df=0.2, stop_words='english',token_pattern=\"(?u)\\\\b\\\\w\\\\w\\\\w+\\\\b\")\n",
    "X = vectoriser.fit_transform(sentences)\n",
    "corpus = gensim.matutils.Sparse2Corpus(X,documents_columns=False)\n",
    "id_map = dict((v,k) for k,v in vectoriser.vocabulary_.items())\n",
    "ldamodel = gensim.models.LdaMulticore(corpus=corpus, id2word=id_map,passes=2,random_state=5,num_topics=10,workers=2)"
   ]
  },
  {
   "cell_type": "code",
   "execution_count": 177,
   "metadata": {},
   "outputs": [],
   "source": [
    "topic = []\n",
    "\n",
    "for doc in sentences:\n",
    "    X = vectoriser.transform([doc])\n",
    "    corpus = gensim.matutils.Sparse2Corpus(X, documents_columns=False)\n",
    "    output = list(ldamodel[corpus])[0]\n",
    "    topics = sorted(output, key=lambda x: x[1], reverse=True)\n",
    "    topic.append(topics[0][0])"
   ]
  },
  {
   "cell_type": "code",
   "execution_count": 178,
   "metadata": {},
   "outputs": [],
   "source": [
    "data[\"Topic\"] = topic"
   ]
  },
  {
   "cell_type": "code",
   "execution_count": 179,
   "metadata": {},
   "outputs": [
    {
     "data": {
      "image/png": "[encoded data removed]",
      "text/plain": [
       "<Figure size 432x288 with 1 Axes>"
      ]
     },
     "metadata": {
      "needs_background": "light"
     },
     "output_type": "display_data"
    }
   ],
   "source": [
    "arr = plt.hist(data[\"Topic\"],edgecolor=\"black\",color=\"green\")\n",
    "for i in range(10):\n",
    "    plt.text(arr[1][i]+0.04,arr[0][i]+10,str(arr[0][i]))"
   ]
  }
 ],
 "metadata": {
  "interpreter": {
   "hash": "a2292f7dadeec0b36dafabb7d1d8dd7b9b8b8f0665c515bec64e67bf9650aaf0"
  },
  "kernelspec": {
   "display_name": "Python 3.9.7 64-bit (windows store)",
   "name": "python3"
  },
  "language_info": {
   "codemirror_mode": {
    "name": "ipython",
    "version": 3
   },
   "file_extension": ".py",
   "mimetype": "text/x-python",
   "name": "python",
   "nbconvert_exporter": "python",
   "pygments_lexer": "ipython3",
   "version": "3.9.7"
  },
  "orig_nbformat": 4
 },
 "nbformat": 4,
 "nbformat_minor": 2
}
