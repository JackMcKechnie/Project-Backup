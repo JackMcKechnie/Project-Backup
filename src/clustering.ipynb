{
 "cells": [
  {
   "cell_type": "code",
   "execution_count": 2,
   "metadata": {},
   "outputs": [],
   "source": [
    "# Imports\n",
    "import pandas as pd\n",
    "from sklearn.feature_extraction.text import TfidfVectorizer\n",
    "import matplotlib.pyplot as plt\n",
    "from sklearn.cluster import KMeans\n",
    "import numpy as np"
   ]
  },
  {
   "cell_type": "code",
   "execution_count": 4,
   "metadata": {},
   "outputs": [
    {
     "data": {
      "text/plain": [
       "0       10In High Bay 4 of the Vehicle Assembly Buildi...\n",
       "1       12The oxygen vent arm and hood removed from th...\n",
       "2       13In the Rotation, Processing and Surge Facili...\n",
       "3       14In the Vehicle Assembly Building's High Bay ...\n",
       "4       15In the Vehicle Assembly Building's High Bay ...\n",
       "                              ...                        \n",
       "7027                                Let's hope it's true.\n",
       "7028                     Cheer up, Sony (NYSE: SNE) fans.\n",
       "7029    Wired is one of the few publications that acts...\n",
       "7030    As NewsBusters reported Friday, conservative t...\n",
       "7031                Pumpkins from Simon Willcox on Vimeo.\n",
       "Name: Sentence, Length: 7032, dtype: object"
      ]
     },
     "execution_count": 4,
     "metadata": {},
     "output_type": "execute_result"
    }
   ],
   "source": [
    "# Import sentences\n",
    "original_data = pd.read_csv(\"../data/mturk_experiment_2.csv\",encoding='unicode_escape')\n",
    "data = original_data[\"Sentence\"]\n",
    "data"
   ]
  },
  {
   "cell_type": "code",
   "execution_count": 5,
   "metadata": {},
   "outputs": [],
   "source": [
    "# TF-IDF vectorise\n",
    "vectoriser = TfidfVectorizer()\n",
    "vector = vectoriser.fit_transform(data)"
   ]
  },
  {
   "cell_type": "code",
   "execution_count": 96,
   "metadata": {},
   "outputs": [
    {
     "data": {
      "image/png": "[encoded data removed]",
      "text/plain": [
       "<Figure size 432x288 with 1 Axes>"
      ]
     },
     "metadata": {
      "needs_background": "light"
     },
     "output_type": "display_data"
    }
   ],
   "source": [
    "# Elbow method to get optimal number of clusters\n",
    "distances = []\n",
    "proposed_n = range(2,10)\n",
    "\n",
    "for n in proposed_n:\n",
    "    km = KMeans(n_clusters=n, max_iter=200,n_init=10)\n",
    "    km = km.fit(vector)\n",
    "    distances.append(km.inertia_)\n",
    "\n",
    "plt.plot(proposed_n,distances,'bx-')\n",
    "plt.xlabel(\"Number of Clusters\")\n",
    "plt.ylabel(\"Sum of Squared Distances\")\n",
    "plt.title(\"Elbow Method To Get Optimal Number of Clusters\")\n",
    "plt.show()"
   ]
  },
  {
   "cell_type": "code",
   "execution_count": 6,
   "metadata": {},
   "outputs": [
    {
     "data": {
      "text/plain": [
       "KMeans(max_iter=200, n_clusters=5)"
      ]
     },
     "execution_count": 6,
     "metadata": {},
     "output_type": "execute_result"
    }
   ],
   "source": [
    "# Perform KMeans clustering\n",
    "k = 5\n",
    "model = KMeans(n_clusters=k,init='k-means++',max_iter=200,n_init=10)\n",
    "model.fit(vector)"
   ]
  },
  {
   "cell_type": "code",
   "execution_count": 98,
   "metadata": {},
   "outputs": [
    {
     "data": {
      "text/html": [
       "<div>\n",
       "<style scoped>\n",
       "    .dataframe tbody tr th:only-of-type {\n",
       "        vertical-align: middle;\n",
       "    }\n",
       "\n",
       "    .dataframe tbody tr th {\n",
       "        vertical-align: top;\n",
       "    }\n",
       "\n",
       "    .dataframe thead th {\n",
       "        text-align: right;\n",
       "    }\n",
       "</style>\n",
       "<table border=\"1\" class=\"dataframe\">\n",
       "  <thead>\n",
       "    <tr style=\"text-align: right;\">\n",
       "      <th></th>\n",
       "      <th>Cluster</th>\n",
       "      <th>Formality</th>\n",
       "      <th>Sentence</th>\n",
       "    </tr>\n",
       "  </thead>\n",
       "  <tbody>\n",
       "    <tr>\n",
       "      <th>0</th>\n",
       "      <td>3</td>\n",
       "      <td>6.2</td>\n",
       "      <td>10In High Bay 4 of the Vehicle Assembly Buildi...</td>\n",
       "    </tr>\n",
       "    <tr>\n",
       "      <th>1</th>\n",
       "      <td>3</td>\n",
       "      <td>6.0</td>\n",
       "      <td>12The oxygen vent arm and hood removed from th...</td>\n",
       "    </tr>\n",
       "    <tr>\n",
       "      <th>2</th>\n",
       "      <td>3</td>\n",
       "      <td>5.8</td>\n",
       "      <td>13In the Rotation, Processing and Surge Facili...</td>\n",
       "    </tr>\n",
       "    <tr>\n",
       "      <th>3</th>\n",
       "      <td>3</td>\n",
       "      <td>5.2</td>\n",
       "      <td>14In the Vehicle Assembly Building's High Bay ...</td>\n",
       "    </tr>\n",
       "    <tr>\n",
       "      <th>4</th>\n",
       "      <td>0</td>\n",
       "      <td>4.6</td>\n",
       "      <td>15In the Vehicle Assembly Building's High Bay ...</td>\n",
       "    </tr>\n",
       "    <tr>\n",
       "      <th>...</th>\n",
       "      <td>...</td>\n",
       "      <td>...</td>\n",
       "      <td>...</td>\n",
       "    </tr>\n",
       "    <tr>\n",
       "      <th>7027</th>\n",
       "      <td>1</td>\n",
       "      <td>2.6</td>\n",
       "      <td>Let's hope it's true.</td>\n",
       "    </tr>\n",
       "    <tr>\n",
       "      <th>7028</th>\n",
       "      <td>0</td>\n",
       "      <td>1.8</td>\n",
       "      <td>Cheer up, Sony (NYSE: SNE) fans.</td>\n",
       "    </tr>\n",
       "    <tr>\n",
       "      <th>7029</th>\n",
       "      <td>3</td>\n",
       "      <td>5.4</td>\n",
       "      <td>Wired is one of the few publications that acts...</td>\n",
       "    </tr>\n",
       "    <tr>\n",
       "      <th>7030</th>\n",
       "      <td>0</td>\n",
       "      <td>5.2</td>\n",
       "      <td>As NewsBusters reported Friday, conservative t...</td>\n",
       "    </tr>\n",
       "    <tr>\n",
       "      <th>7031</th>\n",
       "      <td>0</td>\n",
       "      <td>2.6</td>\n",
       "      <td>Pumpkins from Simon Willcox on Vimeo.</td>\n",
       "    </tr>\n",
       "  </tbody>\n",
       "</table>\n",
       "<p>7032 rows × 3 columns</p>\n",
       "</div>"
      ],
      "text/plain": [
       "      Cluster  Formality                                           Sentence\n",
       "0           3        6.2  10In High Bay 4 of the Vehicle Assembly Buildi...\n",
       "1           3        6.0  12The oxygen vent arm and hood removed from th...\n",
       "2           3        5.8  13In the Rotation, Processing and Surge Facili...\n",
       "3           3        5.2  14In the Vehicle Assembly Building's High Bay ...\n",
       "4           0        4.6  15In the Vehicle Assembly Building's High Bay ...\n",
       "...       ...        ...                                                ...\n",
       "7027        1        2.6                              Let's hope it's true.\n",
       "7028        0        1.8                   Cheer up, Sony (NYSE: SNE) fans.\n",
       "7029        3        5.4  Wired is one of the few publications that acts...\n",
       "7030        0        5.2  As NewsBusters reported Friday, conservative t...\n",
       "7031        0        2.6              Pumpkins from Simon Willcox on Vimeo.\n",
       "\n",
       "[7032 rows x 3 columns]"
      ]
     },
     "execution_count": 98,
     "metadata": {},
     "output_type": "execute_result"
    }
   ],
   "source": [
    "labels = model.labels_.tolist()\n",
    "clustered = pd.DataFrame()\n",
    "clustered[\"Cluster\"] = labels\n",
    "clustered[\"Formality\"] = original_data[\"Formality\"]\n",
    "clustered[\"Sentence\"] = data\n",
    "clustered"
   ]
  }
 ],
 "metadata": {
  "interpreter": {
   "hash": "a2292f7dadeec0b36dafabb7d1d8dd7b9b8b8f0665c515bec64e67bf9650aaf0"
  },
  "kernelspec": {
   "display_name": "Python 3.9.7 64-bit (windows store)",
   "name": "python3"
  },
  "language_info": {
   "codemirror_mode": {
    "name": "ipython",
    "version": 3
   },
   "file_extension": ".py",
   "mimetype": "text/x-python",
   "name": "python",
   "nbconvert_exporter": "python",
   "pygments_lexer": "ipython3",
   "version": "3.9.7"
  },
  "orig_nbformat": 4
 },
 "nbformat": 4,
 "nbformat_minor": 2
}
