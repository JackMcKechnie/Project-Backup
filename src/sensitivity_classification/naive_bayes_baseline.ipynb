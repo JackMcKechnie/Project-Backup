{
 "cells": [
  {
   "cell_type": "code",
   "execution_count": 1,
   "metadata": {},
   "outputs": [],
   "source": [
    "# Imports \n",
    "import pandas as pd\n",
    "import numpy as np\n",
    "from sklearn.feature_extraction.text import TfidfVectorizer\n",
    "from sklearn import model_selection, svm\n",
    "from sklearn.metrics import balanced_accuracy_score\n",
    "from sklearn.metrics import fbeta_score\n",
    "from sklearn.metrics import precision_score\n",
    "from sklearn.metrics import make_scorer\n",
    "from imblearn.over_sampling import RandomOverSampler\n",
    "from sklearn.naive_bayes import GaussianNB\n",
    "from imblearn.pipeline import Pipeline, make_pipeline\n",
    "from imblearn.under_sampling import RandomUnderSampler\n",
    "# Set random seed for reproducability\n",
    "np.random.seed(500)"
   ]
  },
  {
   "cell_type": "code",
   "execution_count": 2,
   "metadata": {},
   "outputs": [],
   "source": [
    "# Load in dataset\n",
    "data = pd.read_csv(\"../../data/sensitivity_data/sensitivity_dataset.csv\")\n",
    "data = data[[\"Filename\",\"Date\",\"Sensitivity\",\"Document\"]]\n",
    "\n",
    "# Train / Test split\n",
    "train_x, test_x, train_y, test_y = model_selection.train_test_split(data['Document'],data['Sensitivity'],test_size=0.2,random_state=5)"
   ]
  },
  {
   "cell_type": "code",
   "execution_count": 3,
   "metadata": {},
   "outputs": [],
   "source": [
    "# TF-IDF vectorise\n",
    "\n",
    "Tfidf_vect = TfidfVectorizer(max_features=5000)\n",
    "Tfidf_vect.fit(data[\"Document\"])\n",
    "train_x = Tfidf_vect.transform(train_x)\n",
    "test_x = Tfidf_vect.transform(test_x)"
   ]
  },
  {
   "cell_type": "code",
   "execution_count": 4,
   "metadata": {},
   "outputs": [
    {
     "name": "stdout",
     "output_type": "stream",
     "text": [
      "0.291044776119403 0.63623241570704 0.38235294117647056\n"
     ]
    }
   ],
   "source": [
    "# Gaussian Naieve Bayes predictions\n",
    "gnb = GaussianNB()\n",
    "gnb.fit(train_x.toarray(), train_y)\n",
    "\n",
    "# Predict the labels on validation dataset\n",
    "predictions_gnb = gnb.predict(test_x.toarray())\n",
    "\n",
    "# Get scores\n",
    "\n",
    "precision = precision_score(test_y, predictions_gnb)\n",
    "bac = balanced_accuracy_score(test_y, predictions_gnb)\n",
    "f2 = fbeta_score(test_y, predictions_gnb, beta=2.0)\n",
    "\n",
    "print(precision,bac,f2)"
   ]
  },
  {
   "cell_type": "code",
   "execution_count": 5,
   "metadata": {},
   "outputs": [
    {
     "name": "stdout",
     "output_type": "stream",
     "text": [
      "0.26015199662347005 0.5811281614494528 0.28521555977384894\n"
     ]
    }
   ],
   "source": [
    "scoring = {\n",
    "\"f2_score\" : make_scorer(fbeta_score, beta=2.0),\n",
    "\"precision\" : make_scorer(precision_score),\n",
    "\"bal_acc\" : make_scorer(balanced_accuracy_score)\n",
    "}\n",
    "\n",
    "kfold = model_selection.KFold(n_splits=5)\n",
    "gnb = GaussianNB()\n",
    "\n",
    "results = model_selection.cross_validate(estimator=gnb, X=train_x.toarray(), y=train_y, cv=kfold, scoring=scoring)\n",
    "\n",
    "f2 = np.mean(results['test_f2_score'])\n",
    "precision = np.mean(results['test_precision'])\n",
    "bac = np.mean(results['test_bal_acc'])\n",
    "print(precision,bac,f2)"
   ]
  },
  {
   "cell_type": "code",
   "execution_count": 6,
   "metadata": {},
   "outputs": [
    {
     "name": "stderr",
     "output_type": "stream",
     "text": [
      "C:\\Users\\jack-\\AppData\\Local\\Packages\\PythonSoftwareFoundation.Python.3.9_qbz5n2kfra8p0\\LocalCache\\local-packages\\Python39\\site-packages\\sklearn\\metrics\\_classification.py:1953: UserWarning: y_pred contains classes not in y_true\n",
      "  warnings.warn(\"y_pred contains classes not in y_true\")\n"
     ]
    },
    {
     "name": "stdout",
     "output_type": "stream",
     "text": [
      "0.7080733732875848 0.9228613413361024 0.8768366601011562\n"
     ]
    },
    {
     "name": "stderr",
     "output_type": "stream",
     "text": [
      "C:\\Users\\jack-\\AppData\\Local\\Packages\\PythonSoftwareFoundation.Python.3.9_qbz5n2kfra8p0\\LocalCache\\local-packages\\Python39\\site-packages\\sklearn\\metrics\\_classification.py:1953: UserWarning: y_pred contains classes not in y_true\n",
      "  warnings.warn(\"y_pred contains classes not in y_true\")\n"
     ]
    }
   ],
   "source": [
    "over_sampler = RandomOverSampler(random_state=5)\n",
    "balanced_x, balanced_y = over_sampler.fit_resample(train_x, train_y)\n",
    "\n",
    "scoring = {\n",
    "\"f2_score\" : make_scorer(fbeta_score, beta=2.0),\n",
    "\"precision\" : make_scorer(precision_score),\n",
    "\"bal_acc\" : make_scorer(balanced_accuracy_score)\n",
    "}\n",
    "\n",
    "kfold = model_selection.KFold(n_splits=5)\n",
    "gnb = GaussianNB()\n",
    "\n",
    "results = model_selection.cross_validate(estimator=gnb, X=balanced_x.toarray(), y=balanced_y, cv=kfold, scoring=scoring)\n",
    "\n",
    "f2 = np.mean(results['test_f2_score'])\n",
    "precision = np.mean(results['test_precision'])\n",
    "bac = np.mean(results['test_bal_acc'])\n",
    "print(precision,bac,f2)"
   ]
  },
  {
   "cell_type": "code",
   "execution_count": 7,
   "metadata": {},
   "outputs": [
    {
     "name": "stdout",
     "output_type": "stream",
     "text": [
      "0.28346456692913385 0.6232734696481547 0.3578528827037773\n"
     ]
    }
   ],
   "source": [
    "# Grid search and predict\n",
    "over_sampler = RandomOverSampler(random_state=5)\n",
    "balanced_x, balanced_y = over_sampler.fit_resample(train_x, train_y)\n",
    "\n",
    "kfold = model_selection.KFold(n_splits=5)\n",
    "gnb = GaussianNB()\n",
    "\n",
    "gnb.fit(balanced_x.toarray(),balanced_y)\n",
    "predictions = gnb.predict(test_x.toarray())\n",
    "\n",
    "precision = precision_score(test_y, predictions)\n",
    "bac = balanced_accuracy_score(test_y, predictions)\n",
    "f2 = fbeta_score(test_y, predictions, beta=2.0)\n",
    "print(precision,bac,f2)"
   ]
  },
  {
   "cell_type": "code",
   "execution_count": 6,
   "metadata": {},
   "outputs": [
    {
     "name": "stdout",
     "output_type": "stream",
     "text": [
      "0.19904335126557948 0.607910025075013 0.4174335392039775\n"
     ]
    }
   ],
   "source": [
    "# Best 5-Fold Cross Validation Undersampled Balanced Dataset\n",
    "\n",
    "scoring = {\n",
    "\"f2_score\" : make_scorer(fbeta_score, beta=2.0),\n",
    "\"precision\" : make_scorer(precision_score),\n",
    "\"bal_acc\" : make_scorer(balanced_accuracy_score)\n",
    "}\n",
    "\n",
    "gnb_classifier = make_pipeline(RandomUnderSampler(random_state=42), \n",
    "                              GaussianNB())\n",
    "\n",
    "                             \n",
    "kfold = model_selection.KFold(n_splits=5)\n",
    "results = model_selection.cross_validate(estimator=gnb_classifier, X=train_x.toarray(), y=train_y, cv=kfold, scoring=scoring)\n",
    "\n",
    "f2 = np.mean(results['test_f2_score'])\n",
    "precision = np.mean(results['test_precision'])\n",
    "bac = np.mean(results['test_bal_acc'])\n",
    "print(precision,bac,f2)"
   ]
  }
 ],
 "metadata": {
  "interpreter": {
   "hash": "63b0445583f357de7835dfe39433143822fa4f356fb819a98620aaaf7167dccb"
  },
  "kernelspec": {
   "display_name": "Python 3.8.8 64-bit ('base': conda)",
   "language": "python",
   "name": "python3"
  },
  "language_info": {
   "codemirror_mode": {
    "name": "ipython",
    "version": 3
   },
   "file_extension": ".py",
   "mimetype": "text/x-python",
   "name": "python",
   "nbconvert_exporter": "python",
   "pygments_lexer": "ipython3",
   "version": "3.9.9"
  },
  "orig_nbformat": 4
 },
 "nbformat": 4,
 "nbformat_minor": 2
}
