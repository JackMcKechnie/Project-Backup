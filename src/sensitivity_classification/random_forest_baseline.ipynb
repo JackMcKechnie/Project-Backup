{
 "cells": [
  {
   "cell_type": "code",
   "execution_count": 74,
   "metadata": {},
   "outputs": [],
   "source": [
    "# Imports \n",
    "import pandas as pd\n",
    "import numpy as np\n",
    "from sklearn.feature_extraction.text import TfidfVectorizer\n",
    "from sklearn import model_selection, svm\n",
    "from sklearn.metrics import balanced_accuracy_score\n",
    "from sklearn.metrics import fbeta_score\n",
    "from sklearn.metrics import precision_score\n",
    "from sklearn.metrics import make_scorer\n",
    "from imblearn.over_sampling import RandomOverSampler\n",
    "from sklearn.ensemble import RandomForestClassifier\n",
    "from imblearn.under_sampling import RandomUnderSampler\n",
    "from sklearn.model_selection import GridSearchCV\n",
    "from imblearn.pipeline import Pipeline, make_pipeline\n",
    "from imblearn.over_sampling import SMOTE \n",
    "\n",
    "# Set random seed for reproducability\n",
    "np.random.seed(500)"
   ]
  },
  {
   "cell_type": "code",
   "execution_count": 75,
   "metadata": {},
   "outputs": [],
   "source": [
    "# Load in dataset\n",
    "data = pd.read_csv(\"../../data/sensitivity_data/sensitivity_dataset.csv\")\n",
    "data = data[[\"Filename\",\"Date\",\"Sensitivity\",\"Document\"]]\n",
    "\n",
    "# Train / Test split\n",
    "train_x, test_x, train_y, test_y = model_selection.train_test_split(data['Document'],data['Sensitivity'],test_size=0.2,random_state=5)"
   ]
  },
  {
   "cell_type": "code",
   "execution_count": 76,
   "metadata": {},
   "outputs": [],
   "source": [
    "# TF-IDF vectorise\n",
    "\n",
    "Tfidf_vect = TfidfVectorizer(max_features=5000)\n",
    "Tfidf_vect.fit(data[\"Document\"])\n",
    "train_x = Tfidf_vect.transform(train_x)\n",
    "test_x = Tfidf_vect.transform(test_x)"
   ]
  },
  {
   "cell_type": "code",
   "execution_count": 14,
   "metadata": {},
   "outputs": [
    {
     "name": "stdout",
     "output_type": "stream",
     "text": [
      "0.6666666666666666 0.5395546907397365 0.10309278350515463\n"
     ]
    }
   ],
   "source": [
    "# Random Forest Predictions\n",
    "random_forest = RandomForestClassifier(max_depth=200, random_state=5)\n",
    "random_forest.fit(train_x,train_y)\n",
    "\n",
    "predictions_random_forest = random_forest.predict(test_x)\n",
    "\n",
    "precision = precision_score(test_y, predictions_random_forest)\n",
    "bac = balanced_accuracy_score(test_y, predictions_random_forest)\n",
    "f2 = fbeta_score(test_y, predictions_random_forest, beta=2.0)\n",
    "\n",
    "print(precision,bac,f2)"
   ]
  },
  {
   "cell_type": "code",
   "execution_count": 7,
   "metadata": {},
   "outputs": [
    {
     "name": "stdout",
     "output_type": "stream",
     "text": [
      "0.8914285714285715 0.5325022235884669 0.08105602286956633\n"
     ]
    }
   ],
   "source": [
    "scoring = {\n",
    "\"f2_score\" : make_scorer(fbeta_score, beta=2.0),\n",
    "\"precision\" : make_scorer(precision_score),\n",
    "\"bal_acc\" : make_scorer(balanced_accuracy_score)\n",
    "}\n",
    "\n",
    "kfold = model_selection.KFold(n_splits=5)\n",
    "random_forest = RandomForestClassifier(max_depth=200, random_state=5)\n",
    "\n",
    "results = model_selection.cross_validate(estimator=random_forest, X=train_x, y=train_y, cv=kfold, scoring=scoring)\n",
    "\n",
    "f2 = np.mean(results['test_f2_score'])\n",
    "precision = np.mean(results['test_precision'])\n",
    "bac = np.mean(results['test_bal_acc'])\n",
    "print(precision,bac,f2)"
   ]
  },
  {
   "cell_type": "code",
   "execution_count": 18,
   "metadata": {},
   "outputs": [
    {
     "name": "stdout",
     "output_type": "stream",
     "text": [
      "0.9366493886230728 0.9932355738080961 0.984544927055703\n"
     ]
    }
   ],
   "source": [
    "over_sampler = RandomOverSampler(random_state=5)\n",
    "balanced_x, balanced_y = over_sampler.fit_resample(train_x, train_y)\n",
    "\n",
    "scoring = {\n",
    "\"f2_score\" : make_scorer(fbeta_score, beta=2.0),\n",
    "\"precision\" : make_scorer(precision_score),\n",
    "\"bal_acc\" : make_scorer(balanced_accuracy_score)\n",
    "}\n",
    "\n",
    "kfold = model_selection.KFold(n_splits=5)\n",
    "random_forest = RandomForestClassifier(max_depth=200, random_state=5)\n",
    "\n",
    "results = model_selection.cross_validate(estimator=random_forest, X=balanced_x, y=balanced_y, cv=kfold, scoring=scoring)\n",
    "\n",
    "f2 = np.mean(results['test_f2_score'])\n",
    "precision = np.mean(results['test_precision'])\n",
    "bac = np.mean(results['test_bal_acc'])\n",
    "print(precision,bac,f2)"
   ]
  },
  {
   "cell_type": "code",
   "execution_count": 9,
   "metadata": {},
   "outputs": [],
   "source": [
    "# -----------------------------------------------------\n",
    "# -- TRY RANDOM FORREST WITH AN UNDERSAMPLED DATASET -- \n",
    "# -----------------------------------------------------\n",
    "# -- PERFORMS WORSE THAN THE OVERSAMPLED DATASET ------\n",
    "# -----------------------------------------------------"
   ]
  },
  {
   "cell_type": "code",
   "execution_count": 10,
   "metadata": {},
   "outputs": [
    {
     "name": "stderr",
     "output_type": "stream",
     "text": [
      "C:\\Users\\jack-\\AppData\\Local\\Packages\\PythonSoftwareFoundation.Python.3.9_qbz5n2kfra8p0\\LocalCache\\local-packages\\Python39\\site-packages\\sklearn\\metrics\\_classification.py:1953: UserWarning: y_pred contains classes not in y_true\n",
      "  warnings.warn(\"y_pred contains classes not in y_true\")\n",
      "C:\\Users\\jack-\\AppData\\Local\\Packages\\PythonSoftwareFoundation.Python.3.9_qbz5n2kfra8p0\\LocalCache\\local-packages\\Python39\\site-packages\\sklearn\\metrics\\_classification.py:1953: UserWarning: y_pred contains classes not in y_true\n",
      "  warnings.warn(\"y_pred contains classes not in y_true\")\n",
      "C:\\Users\\jack-\\AppData\\Local\\Packages\\PythonSoftwareFoundation.Python.3.9_qbz5n2kfra8p0\\LocalCache\\local-packages\\Python39\\site-packages\\sklearn\\metrics\\_classification.py:1953: UserWarning: y_pred contains classes not in y_true\n",
      "  warnings.warn(\"y_pred contains classes not in y_true\")\n"
     ]
    },
    {
     "name": "stdout",
     "output_type": "stream",
     "text": [
      "0.5324675324675325 0.37274935666875414 0.2681913519490003\n"
     ]
    },
    {
     "name": "stderr",
     "output_type": "stream",
     "text": [
      "C:\\Users\\jack-\\AppData\\Local\\Packages\\PythonSoftwareFoundation.Python.3.9_qbz5n2kfra8p0\\LocalCache\\local-packages\\Python39\\site-packages\\sklearn\\metrics\\_classification.py:1953: UserWarning: y_pred contains classes not in y_true\n",
      "  warnings.warn(\"y_pred contains classes not in y_true\")\n"
     ]
    }
   ],
   "source": [
    "under_sampler = RandomUnderSampler(random_state=5)\n",
    "balanced_x, balanced_y = under_sampler.fit_resample(train_x, train_y)\n",
    "\n",
    "scoring = {\n",
    "\"f2_score\" : make_scorer(fbeta_score, beta=2.0),\n",
    "\"precision\" : make_scorer(precision_score),\n",
    "\"bal_acc\" : make_scorer(balanced_accuracy_score)\n",
    "}\n",
    "\n",
    "kfold = model_selection.KFold(n_splits=5)\n",
    "random_forest = RandomForestClassifier(max_depth=200, random_state=5)\n",
    "\n",
    "results = model_selection.cross_validate(estimator=random_forest, X=balanced_x, y=balanced_y, cv=kfold, scoring=scoring)\n",
    "\n",
    "f2 = np.mean(results['test_f2_score'])\n",
    "precision = np.mean(results['test_precision'])\n",
    "bac = np.mean(results['test_bal_acc'])\n",
    "print(precision,bac,f2)"
   ]
  },
  {
   "cell_type": "code",
   "execution_count": 11,
   "metadata": {},
   "outputs": [
    {
     "name": "stdout",
     "output_type": "stream",
     "text": [
      "0.7619047619047619 0.5813582570416919 0.20151133501259444\n"
     ]
    }
   ],
   "source": [
    "over_sampler = RandomOverSampler(random_state=5)\n",
    "balanced_x, balanced_y = over_sampler.fit_resample(train_x, train_y)\n",
    "\n",
    "random_forest = RandomForestClassifier(max_depth=200, random_state=5)\n",
    "predictions = random_forest.fit(balanced_x,balanced_y).predict(test_x)\n",
    "precision = precision_score(test_y, predictions)\n",
    "bac = balanced_accuracy_score(test_y, predictions)\n",
    "f2 = fbeta_score(test_y, predictions, beta=2.0)\n",
    "print(precision,bac,f2)"
   ]
  },
  {
   "cell_type": "code",
   "execution_count": 12,
   "metadata": {},
   "outputs": [
    {
     "name": "stdout",
     "output_type": "stream",
     "text": [
      "Fitting 5 folds for each of 288 candidates, totalling 1440 fits\n",
      "{'bootstrap': True, 'max_depth': 80, 'max_features': 3, 'min_samples_leaf': 3, 'min_samples_split': 12, 'n_estimators': 100}\n"
     ]
    }
   ],
   "source": [
    "under_sampler = RandomUnderSampler(random_state=5)\n",
    "balanced_x, balanced_y = under_sampler.fit_resample(train_x, train_y)\n",
    "\n",
    "random_forest = RandomForestClassifier(max_depth=200, random_state=5)\n",
    "param_grid = {\n",
    "    'bootstrap': [True],\n",
    "    'max_depth': [80, 90, 100, 110],\n",
    "    'max_features': [2, 3],\n",
    "    'min_samples_leaf': [3, 4, 5],\n",
    "    'min_samples_split': [8, 10, 12],\n",
    "    'n_estimators': [100, 200, 300, 1000]\n",
    "}\n",
    "kfold = model_selection.KFold(n_splits=5)\n",
    "grid_search = GridSearchCV(estimator = random_forest, param_grid = param_grid, cv = kfold, n_jobs = -1, verbose = 2)\n",
    "grid_search.fit(balanced_x, balanced_y)\n",
    "print(grid_search.best_params_)"
   ]
  },
  {
   "cell_type": "code",
   "execution_count": 28,
   "metadata": {},
   "outputs": [
    {
     "name": "stdout",
     "output_type": "stream",
     "text": [
      "0.7819047619047619 0.5543095796123796 0.1361373498586968\n"
     ]
    }
   ],
   "source": [
    "imba_pipeline = make_pipeline(RandomOverSampler(random_state=42), \n",
    "                              RandomForestClassifier(max_depth=200,random_state=5))\n",
    "                              \n",
    "kfold = model_selection.KFold(n_splits=5)\n",
    "\n",
    "\n",
    "results = model_selection.cross_validate(estimator=imba_pipeline, X=train_x, y=train_y, cv=kfold, scoring=scoring)\n",
    "\n",
    "f2 = np.mean(results['test_f2_score'])\n",
    "precision = np.mean(results['test_precision'])\n",
    "bac = np.mean(results['test_bal_acc'])\n",
    "print(precision,bac,f2)"
   ]
  },
  {
   "cell_type": "code",
   "execution_count": 61,
   "metadata": {},
   "outputs": [
    {
     "name": "stdout",
     "output_type": "stream",
     "text": [
      "0.32620320855614976 0.7300153114931895 0.541740674955595\n"
     ]
    }
   ],
   "source": [
    "# BEST BAC SO FAR \n",
    "\n",
    "imba_pipeline = make_pipeline(RandomOverSampler(random_state=42), \n",
    "                              RandomForestClassifier(max_depth=200,random_state=5))\n",
    "\n",
    "params = {\n",
    "    'n_estimators': [50, 100, 200,400,600],\n",
    "    'max_depth': [4, 6, 10, 12,50,100,200],\n",
    "    'random_state': [5]\n",
    "}\n",
    "\n",
    "new_params = {'randomforestclassifier__' + key: params[key] for key in params}\n",
    "grid_imba = GridSearchCV(imba_pipeline, param_grid=new_params, cv=kfold, scoring='recall',\n",
    "                        return_train_score=True)\n",
    "grid_imba.fit(train_x, train_y)\n",
    "y_test_predict = grid_imba.best_estimator_.named_steps['randomforestclassifier'].predict(test_x)\n",
    "\n",
    "precision = precision_score(test_y, y_test_predict)\n",
    "bac = balanced_accuracy_score(test_y, y_test_predict)\n",
    "f2 = fbeta_score(test_y, y_test_predict, beta=2.0)\n",
    "print(precision,bac,f2)"
   ]
  },
  {
   "cell_type": "code",
   "execution_count": 95,
   "metadata": {},
   "outputs": [
    {
     "name": "stdout",
     "output_type": "stream",
     "text": [
      "0.2857142857142857 0.6929248141886504 0.4895104895104895\n"
     ]
    }
   ],
   "source": [
    "imba_pipeline = make_pipeline(RandomOverSampler(random_state=42), \n",
    "                              RandomForestClassifier(max_depth=200,random_state=5))\n",
    "\n",
    "params = {\n",
    "    'n_estimators': [50, 100, 200],\n",
    "    'max_depth': [4, 6, 10, 12,50,100,200],\n",
    "    'random_state': [5]\n",
    "}\n",
    "\n",
    "new_params = {'randomforestclassifier__' + key: params[key] for key in params}\n",
    "grid_imba = GridSearchCV(imba_pipeline, param_grid=new_params, cv=kfold, scoring='balanced_accuracy',\n",
    "                        return_train_score=True)\n",
    "grid_imba.fit(train_x, train_y)\n",
    "y_test_predict = grid_imba.best_estimator_.named_steps['randomforestclassifier'].predict(test_x)\n",
    "\n",
    "precision = precision_score(test_y, y_test_predict)\n",
    "bac = balanced_accuracy_score(test_y, y_test_predict)\n",
    "f2 = fbeta_score(test_y, y_test_predict, beta=2.0)\n",
    "print(precision,bac,f2)"
   ]
  },
  {
   "cell_type": "code",
   "execution_count": 78,
   "metadata": {},
   "outputs": [
    {
     "name": "stdout",
     "output_type": "stream",
     "text": [
      "0.26848249027237353 0.7260917413633609 0.5450236966824644\n"
     ]
    }
   ],
   "source": [
    "# BEST BASELINE RANDOM FOREST\n",
    "\n",
    "rf_classifier = make_pipeline(RandomUnderSampler(random_state=42), \n",
    "                              RandomForestClassifier(max_depth=4, n_estimators=400,random_state=5))\n",
    "\n",
    "rf_classifier.fit(train_x, train_y)\n",
    "y_test_predict = rf_classifier.predict(test_x)\n",
    "precision = precision_score(test_y, y_test_predict)\n",
    "bac = balanced_accuracy_score(test_y, y_test_predict)\n",
    "f2 = fbeta_score(test_y, y_test_predict, beta=2.0)\n",
    "print(precision,bac,f2)"
   ]
  },
  {
   "cell_type": "code",
   "execution_count": 94,
   "metadata": {},
   "outputs": [
    {
     "name": "stdout",
     "output_type": "stream",
     "text": [
      "0.2647134547458486 0.6998848625521494 0.5240874581709378\n"
     ]
    }
   ],
   "source": [
    "# Best 5-Fold Cross Validation Undersampled Balanced Dataset\n",
    "\n",
    "rf_classifier = make_pipeline(RandomUnderSampler(random_state=42), \n",
    "                              RandomForestClassifier(max_depth=30, n_estimators=10000,random_state=5))\n",
    "\n",
    "                             \n",
    "kfold = model_selection.KFold(n_splits=5)\n",
    "results = model_selection.cross_validate(estimator=rf_classifier, X=train_x, y=train_y, cv=kfold, scoring=scoring)\n",
    "\n",
    "f2 = np.mean(results['test_f2_score'])\n",
    "precision = np.mean(results['test_precision'])\n",
    "bac = np.mean(results['test_bal_acc'])\n",
    "print(precision,bac,f2)"
   ]
  }
 ],
 "metadata": {
  "interpreter": {
   "hash": "9c9dd47ef2611d9efe9f0b1f20d661b4cd1c20c359890e6c12241cb78d48ea03"
  },
  "kernelspec": {
   "display_name": "Python 3.9.8 64-bit (windows store)",
   "language": "python",
   "name": "python3"
  },
  "language_info": {
   "codemirror_mode": {
    "name": "ipython",
    "version": 3
   },
   "file_extension": ".py",
   "mimetype": "text/x-python",
   "name": "python",
   "nbconvert_exporter": "python",
   "pygments_lexer": "ipython3",
   "version": "3.9.9"
  },
  "orig_nbformat": 4
 },
 "nbformat": 4,
 "nbformat_minor": 2
}
