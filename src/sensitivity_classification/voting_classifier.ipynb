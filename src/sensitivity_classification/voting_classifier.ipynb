{
 "cells": [
  {
   "cell_type": "code",
   "execution_count": 3,
   "metadata": {},
   "outputs": [],
   "source": [
    "# Imports\n",
    "import pandas as pd\n",
    "import numpy as np\n",
    "from sklearn.feature_extraction.text import TfidfVectorizer\n",
    "from sklearn import model_selection, svm\n",
    "from sklearn.metrics import balanced_accuracy_score\n",
    "from sklearn.metrics import fbeta_score\n",
    "from sklearn.metrics import precision_score\n",
    "from sklearn.metrics import make_scorer\n",
    "from imblearn.under_sampling import RandomUnderSampler\n",
    "from sklearn.ensemble import RandomForestClassifier\n",
    "from imblearn.pipeline import Pipeline, make_pipeline\n",
    "import tensorflow as tf\n",
    "import tensorflow_text as text\n",
    "from sklearn.model_selection import GridSearchCV\n",
    "from sklearn.svm import SVC\n",
    "from sklearn.preprocessing import MinMaxScaler\n",
    "from mlxtend.feature_selection import ColumnSelector\n",
    "from mlxtend.classifier import EnsembleVoteClassifier\n",
    "from sklearn.preprocessing import MinMaxScaler\n",
    "from sklearn.preprocessing import StandardScaler\n",
    "\n",
    "# Set random seed for reproducability\n",
    "np.random.seed(500)"
   ]
  },
  {
   "cell_type": "code",
   "execution_count": 4,
   "metadata": {},
   "outputs": [],
   "source": [
    "string_data = pd.read_csv(\"../../data/sensitivity_data/sensitivity_dataset.csv\")\n",
    "string_data = string_data[[\"Filename\",\"Date\",\"Document\"]]\n",
    "formalities_data = pd.read_csv(\"all_formalities_preprocessed.csv\")\n",
    "\n",
    "x = pd.concat([string_data,formalities_data],axis=1)\n",
    "y = formalities_data[\"Sensitivity\"]\n",
    "\n",
    "Tfidf_vect = TfidfVectorizer(max_features=5000)\n",
    "document_feature = Tfidf_vect.fit_transform(string_data[\"Document\"])\n",
    "\n",
    "text_feature_df = pd.DataFrame(document_feature.todense(), columns = Tfidf_vect.get_feature_names_out())\n",
    "x = pd.concat([text_feature_df,formalities_data[formalities_data.columns[:-1]]],axis=1)\n",
    "\n",
    "train_x, test_x, train_y, test_y = model_selection.train_test_split(x,y,test_size=0.2,random_state=5)\n",
    "train_x = np.array(train_x)\n",
    "test_x = np.array(test_x)"
   ]
  },
  {
   "cell_type": "code",
   "execution_count": 5,
   "metadata": {},
   "outputs": [],
   "source": [
    "tfidf_cols = np.arange(0,5000)\n",
    "formality_cols = np.array(x.columns[5000:],dtype=np.int)"
   ]
  },
  {
   "cell_type": "code",
   "execution_count": 44,
   "metadata": {},
   "outputs": [],
   "source": [
    "tfidf_pipeline = make_pipeline(ColumnSelector(cols=tfidf_cols),RandomUnderSampler(random_state=42), SVC(C=1.0, kernel='poly', gamma=1, probability=True))\n",
    "formalities_pipeline = make_pipeline(ColumnSelector(cols=formality_cols), RandomUnderSampler(random_state=42), SVC(C=10,gamma=0.001,kernel=\"poly\",probability=True))\n",
    "vote_classifier = EnsembleVoteClassifier(clfs=[tfidf_pipeline,formalities_pipeline],voting='soft')"
   ]
  },
  {
   "cell_type": "code",
   "execution_count": 45,
   "metadata": {},
   "outputs": [],
   "source": [
    "vote_classifier.fit(train_x,train_y)\n",
    "y_test_predict = vote_classifier.predict(test_x)"
   ]
  },
  {
   "cell_type": "code",
   "execution_count": 46,
   "metadata": {},
   "outputs": [
    {
     "name": "stdout",
     "output_type": "stream",
     "text": [
      "0.25868725868725867 0.7124549427413953 0.5275590551181102\n"
     ]
    }
   ],
   "source": [
    "precision = precision_score(test_y, y_test_predict)\n",
    "bac = balanced_accuracy_score(test_y, y_test_predict)\n",
    "f2 = fbeta_score(test_y, y_test_predict, beta=2.0)\n",
    "print(precision,bac,f2)"
   ]
  },
  {
   "cell_type": "code",
   "execution_count": 7,
   "metadata": {},
   "outputs": [],
   "source": [
    "# GRID SEARCH ON VOTING CLASSIFIER"
   ]
  },
  {
   "cell_type": "code",
   "execution_count": 8,
   "metadata": {},
   "outputs": [],
   "source": [
    "tfidf_pipeline = make_pipeline(ColumnSelector(cols=tfidf_cols),RandomUnderSampler(random_state=42), SVC(probability=True))\n",
    "formalities_pipeline = make_pipeline(ColumnSelector(cols=formality_cols), RandomUnderSampler(random_state=42), SVC(probability=True))\n",
    "vote_classifier = EnsembleVoteClassifier(clfs=[tfidf_pipeline,formalities_pipeline],voting='soft')\n",
    "\n",
    "kfold = model_selection.KFold(n_splits=5)\n",
    "\n",
    "params = {'pipeline-1__svc__C': [0.1, 1, 10],\n",
    "              'pipeline-1__svc__gamma': [1, 0.1, 0.01, 0.001],\n",
    "              'pipeline-1__svc__kernel': ['linear','rbf'],\n",
    "              'pipeline-2__svc__C': [1, 10, 100],\n",
    "              'pipeline-2__svc__gamma': [1, 0.1, 0.01, 0.001],\n",
    "              'pipeline-2__svc__kernel': ['linear', 'rbf']}\n",
    "\n",
    "grid = GridSearchCV(estimator=vote_classifier,cv=kfold,param_grid = params, scoring=\"balanced_accuracy\",n_jobs=-1)   \n",
    "grid.fit(train_x,train_y)         "
   ]
  },
  {
   "cell_type": "code",
   "execution_count": null,
   "metadata": {},
   "outputs": [],
   "source": [
    "y_test_predict = grid.best_estimator_.predict(test_x)\n",
    "precision = precision_score(test_y, y_test_predict)\n",
    "bac = balanced_accuracy_score(test_y, y_test_predict)\n",
    "f2 = fbeta_score(test_y, y_test_predict, beta=2.0)\n",
    "print(precision,bac,f2)"
   ]
  },
  {
   "cell_type": "code",
   "execution_count": null,
   "metadata": {},
   "outputs": [],
   "source": [
    "print(grid.best_params_)"
   ]
  },
  {
   "cell_type": "code",
   "execution_count": 47,
   "metadata": {},
   "outputs": [
    {
     "data": {
      "text/plain": [
       "array([], shape=(0, 2), dtype=int64)"
      ]
     },
     "execution_count": 47,
     "metadata": {},
     "output_type": "execute_result"
    }
   ],
   "source": [
    "np.argwhere(np.isnan(train_x))"
   ]
  },
  {
   "cell_type": "code",
   "execution_count": 6,
   "metadata": {},
   "outputs": [
    {
     "name": "stdout",
     "output_type": "stream",
     "text": [
      "0.25339366515837103 0.6741841845034929 0.46901172529313234\n"
     ]
    }
   ],
   "source": [
    "tfidf_pipeline = make_pipeline(ColumnSelector(cols=tfidf_cols),StandardScaler(),RandomUnderSampler(random_state=42), SVC(C=1.0, kernel='poly', gamma=1, probability=True))\n",
    "formalities_pipeline = make_pipeline(ColumnSelector(cols=formality_cols),StandardScaler(), RandomUnderSampler(random_state=42), SVC(C=10,gamma=0.001,kernel=\"poly\",probability=True))\n",
    "vote_classifier = EnsembleVoteClassifier(clfs=[tfidf_pipeline,formalities_pipeline],voting='soft')\n",
    "\n",
    "vote_classifier.fit(train_x,train_y)\n",
    "y_test_predict = vote_classifier.predict(test_x)\n",
    "\n",
    "precision = precision_score(test_y, y_test_predict)\n",
    "bac = balanced_accuracy_score(test_y, y_test_predict)\n",
    "f2 = fbeta_score(test_y, y_test_predict, beta=2.0)\n",
    "print(precision,bac,f2)"
   ]
  }
 ],
 "metadata": {
  "interpreter": {
   "hash": "a2292f7dadeec0b36dafabb7d1d8dd7b9b8b8f0665c515bec64e67bf9650aaf0"
  },
  "kernelspec": {
   "display_name": "Python 3.9.9 64-bit (windows store)",
   "language": "python",
   "name": "python3"
  },
  "language_info": {
   "codemirror_mode": {
    "name": "ipython",
    "version": 3
   },
   "file_extension": ".py",
   "mimetype": "text/x-python",
   "name": "python",
   "nbconvert_exporter": "python",
   "pygments_lexer": "ipython3",
   "version": "3.9.9"
  },
  "orig_nbformat": 4
 },
 "nbformat": 4,
 "nbformat_minor": 2
}
