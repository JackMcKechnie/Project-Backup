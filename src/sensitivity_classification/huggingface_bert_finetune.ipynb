{
 "cells": [
  {
   "cell_type": "code",
   "execution_count": 1,
   "metadata": {},
   "outputs": [],
   "source": [
    "from transformers import TransfoXLTokenizer, TFTransfoXLForSequenceClassification\n",
    "import tensorflow as tf\n",
    "import pandas as pd\n",
    "import numpy as np\n",
    "from sklearn import model_selection\n",
    "from datasets import Dataset\n",
    "from transformers import DataCollatorWithPadding\n",
    "from transformers import create_optimizer\n",
    "from transformers import TFAutoModelForSequenceClassification\n",
    "from transformers import AutoTokenizer\n",
    "from tensorflow.nn import softmax\n",
    "#from imblearn.over_sampling import RandomOverSampler"
   ]
  },
  {
   "cell_type": "code",
   "execution_count": 2,
   "metadata": {},
   "outputs": [],
   "source": [
    "from transformers import AutoTokenizer\n",
    "tokenizer = AutoTokenizer.from_pretrained(\"distilbert-base-cased\")"
   ]
  },
  {
   "cell_type": "code",
   "execution_count": null,
   "metadata": {},
   "outputs": [],
   "source": [
    "data = pd.read_csv(\"../../data/sensitivity_data/sensitivity_dataset.csv\")\n",
    "data = data[[\"Document\",\"Sensitivity\"]]\n",
    "train_x, test_x, train_y, test_y = model_selection.train_test_split(data['Document'],data['Sensitivity'],test_size=0.2,random_state=5)\n",
    "train_x = np.array(train_x)\n",
    "train_y = np.array(train_y)"
   ]
  },
  {
   "cell_type": "code",
   "execution_count": null,
   "metadata": {},
   "outputs": [],
   "source": [
    "################################################\n",
    "## Try to train again with a balanced dataset ##\n",
    "################################################\n",
    "\n",
    "data = pd.read_csv(\"../../data/sensitivity_data/sensitivity_dataset.csv\")\n",
    "data = data[[\"Document\",\"Sensitivity\"]]\n",
    "\n",
    "train_x, test_x, train_y, test_y = model_selection.train_test_split(data['Document'],data['Sensitivity'],test_size=0.2,random_state=5)\n",
    "train_x = pd.DataFrame([train_x,train_y]).T\n",
    "\n",
    "classes_zero = train_x[train_x['Sensitivity'] == 0]\n",
    "classes_one = train_x[train_x['Sensitivity'] == 1]\n",
    "\n",
    "classes_zero = classes_zero.sample(len(classes_one))\n",
    "\n",
    "undersampled_dataset = pd.concat([classes_zero,classes_one])\n",
    "undersampled_dataset = undersampled_dataset.sample(frac=1, random_state=42).reset_index(drop=True)\n",
    "\n",
    "train_x = np.array(undersampled_dataset[\"Document\"])\n",
    "train_y = np.array(undersampled_dataset[\"Sensitivity\"])"
   ]
  },
  {
   "cell_type": "code",
   "execution_count": 3,
   "metadata": {},
   "outputs": [
    {
     "name": "stdout",
     "output_type": "stream",
     "text": [
      "2632 408\n",
      "2632 2632\n"
     ]
    }
   ],
   "source": [
    "############################################################\n",
    "## Try to train again with a oversampled balanced dataset ##\n",
    "############################################################\n",
    "\n",
    "data = pd.read_csv(\"../../data/sensitivity_data/sensitivity_dataset.csv\")\n",
    "data = data[[\"Document\",\"Sensitivity\"]]\n",
    "\n",
    "train_x, test_x, train_y, test_y = model_selection.train_test_split(data['Document'],data['Sensitivity'],test_size=0.2,random_state=5)\n",
    "train_x = pd.DataFrame([train_x,train_y]).T\n",
    "\n",
    "classes_zero = train_x[train_x['Sensitivity'] == 0]\n",
    "classes_one = train_x[train_x['Sensitivity'] == 1]\n",
    "print(len(classes_zero),len(classes_one))\n",
    "\n",
    "classes_one = classes_one.sample(len(classes_zero), replace=True)\n",
    "\n",
    "oversampled_dataset = pd.concat([classes_zero,classes_one])\n",
    "oversampled_dataset = oversampled_dataset.sample(frac=1, random_state=42).reset_index(drop=True)\n",
    "\n",
    "train_x = np.array(oversampled_dataset[\"Document\"])\n",
    "train_y = np.array(oversampled_dataset[\"Sensitivity\"])\n",
    "\n",
    "print(len(classes_zero),len(classes_one))"
   ]
  },
  {
   "cell_type": "code",
   "execution_count": 4,
   "metadata": {},
   "outputs": [
    {
     "name": "stderr",
     "output_type": "stream",
     "text": [
      "100%|██████████| 5264/5264 [00:18<00:00, 285.10ex/s]\n"
     ]
    }
   ],
   "source": [
    "dataset = []\n",
    "for i in range(len(train_x)):\n",
    "    dataset.append({\"label\" : train_y[i], \"text\" : train_x[i]})\n",
    "\n",
    "dataset = pd.DataFrame(dataset)\n",
    "dataset = Dataset.from_pandas(dataset)\n",
    "\n",
    "def preprocess_function(examples):\n",
    "    return tokenizer(examples[\"text\"],padding=False,truncation=True)\n",
    "\n",
    "tokenised_dataset = dataset.map(preprocess_function, batched=False)"
   ]
  },
  {
   "cell_type": "code",
   "execution_count": 5,
   "metadata": {},
   "outputs": [
    {
     "data": {
      "text/plain": [
       "{'label': Value(dtype='int64', id=None),\n",
       " 'text': Value(dtype='string', id=None),\n",
       " 'input_ids': Sequence(feature=Value(dtype='int32', id=None), length=-1, id=None),\n",
       " 'attention_mask': Sequence(feature=Value(dtype='int8', id=None), length=-1, id=None)}"
      ]
     },
     "execution_count": 5,
     "metadata": {},
     "output_type": "execute_result"
    }
   ],
   "source": [
    "tokenised_dataset.features"
   ]
  },
  {
   "cell_type": "code",
   "execution_count": 6,
   "metadata": {},
   "outputs": [],
   "source": [
    "from transformers import DataCollatorWithPadding\n",
    "data_collator = DataCollatorWithPadding(tokenizer, return_tensors=\"tf\")"
   ]
  },
  {
   "cell_type": "code",
   "execution_count": 7,
   "metadata": {},
   "outputs": [
    {
     "name": "stdout",
     "output_type": "stream",
     "text": [
      "329\n"
     ]
    }
   ],
   "source": [
    "tf_train_dataset = tokenised_dataset.to_tf_dataset(\n",
    "    columns=['attention_mask', 'input_ids', 'label'],\n",
    "    label_cols=['label'],\n",
    "    shuffle=True,\n",
    "    batch_size=16,\n",
    "    collate_fn=data_collator,\n",
    ")\n",
    "\n",
    "print(len(tf_train_dataset))"
   ]
  },
  {
   "cell_type": "code",
   "execution_count": 8,
   "metadata": {},
   "outputs": [],
   "source": [
    "from transformers import create_optimizer\n",
    "import tensorflow as tf\n",
    "\n",
    "batch_size = 16\n",
    "num_epochs = 5\n",
    "batches_per_epoch = len(tf_train_dataset) // batch_size\n",
    "total_train_steps = int(batches_per_epoch * num_epochs)\n",
    "optimizer, schedule = create_optimizer(\n",
    "    init_lr=2e-5, \n",
    "    num_warmup_steps=0, \n",
    "    num_train_steps=total_train_steps\n",
    ")"
   ]
  },
  {
   "cell_type": "code",
   "execution_count": 9,
   "metadata": {},
   "outputs": [
    {
     "name": "stderr",
     "output_type": "stream",
     "text": [
      "Some layers from the model checkpoint at distilbert-base-uncased were not used when initializing TFDistilBertForSequenceClassification: ['vocab_projector', 'vocab_layer_norm', 'vocab_transform', 'activation_13']\n",
      "- This IS expected if you are initializing TFDistilBertForSequenceClassification from the checkpoint of a model trained on another task or with another architecture (e.g. initializing a BertForSequenceClassification model from a BertForPreTraining model).\n",
      "- This IS NOT expected if you are initializing TFDistilBertForSequenceClassification from the checkpoint of a model that you expect to be exactly identical (initializing a BertForSequenceClassification model from a BertForSequenceClassification model).\n",
      "Some layers of TFDistilBertForSequenceClassification were not initialized from the model checkpoint at distilbert-base-uncased and are newly initialized: ['dropout_19', 'pre_classifier', 'classifier']\n",
      "You should probably TRAIN this model on a down-stream task to be able to use it for predictions and inference.\n"
     ]
    }
   ],
   "source": [
    "from transformers import TFAutoModelForSequenceClassification\n",
    "model = TFAutoModelForSequenceClassification.from_pretrained(\"distilbert-base-uncased\", num_labels=2)"
   ]
  },
  {
   "cell_type": "code",
   "execution_count": 10,
   "metadata": {},
   "outputs": [],
   "source": [
    "import tensorflow as tf\n",
    "model.compile(loss=\"binary_crossentropy\",optimizer=optimizer)"
   ]
  },
  {
   "cell_type": "code",
   "execution_count": 11,
   "metadata": {},
   "outputs": [
    {
     "name": "stdout",
     "output_type": "stream",
     "text": [
      "Epoch 1/15\n",
      "WARNING:tensorflow:The parameters `output_attentions`, `output_hidden_states` and `use_cache` cannot be updated when calling a model.They have to be set to True/False in the config object (i.e.: `config=XConfig.from_pretrained('name', output_attentions=True)`).\n",
      "WARNING:tensorflow:AutoGraph could not transform <bound method Socket.send of <zmq.Socket(zmq.PUSH) at 0x1df085a8ca0>> and will run it as-is.\n",
      "Please report this to the TensorFlow team. When filing the bug, set the verbosity to 10 (on Linux, `export AUTOGRAPH_VERBOSITY=10`) and attach the full output.\n",
      "Cause: module, class, method, function, traceback, frame, or code object was expected, got cython_function_or_method\n",
      "To silence this warning, decorate the function with @tf.autograph.experimental.do_not_convert\n",
      "WARNING: AutoGraph could not transform <bound method Socket.send of <zmq.Socket(zmq.PUSH) at 0x1df085a8ca0>> and will run it as-is.\n",
      "Please report this to the TensorFlow team. When filing the bug, set the verbosity to 10 (on Linux, `export AUTOGRAPH_VERBOSITY=10`) and attach the full output.\n",
      "Cause: module, class, method, function, traceback, frame, or code object was expected, got cython_function_or_method\n",
      "To silence this warning, decorate the function with @tf.autograph.experimental.do_not_convert\n",
      "WARNING:tensorflow:The parameter `return_dict` cannot be set in graph mode and will always be set to `True`.\n",
      "WARNING:tensorflow:The parameters `output_attentions`, `output_hidden_states` and `use_cache` cannot be updated when calling a model.They have to be set to True/False in the config object (i.e.: `config=XConfig.from_pretrained('name', output_attentions=True)`).\n",
      "WARNING:tensorflow:The parameter `return_dict` cannot be set in graph mode and will always be set to `True`.\n",
      "329/329 [==============================] - 4955s 15s/step - loss: 1.2327 - logits_loss: 0.8636 - loss_loss: 0.3691\n",
      "Epoch 2/15\n",
      "329/329 [==============================] - 4904s 15s/step - loss: 1.1784 - logits_loss: 0.8241 - loss_loss: 0.3543\n",
      "Epoch 3/15\n",
      "329/329 [==============================] - 4934s 15s/step - loss: 1.1790 - logits_loss: 0.8246 - loss_loss: 0.3545\n",
      "Epoch 4/15\n",
      "329/329 [==============================] - 4914s 15s/step - loss: 1.1773 - logits_loss: 0.8238 - loss_loss: 0.3535\n",
      "Epoch 5/15\n",
      "329/329 [==============================] - 4926s 15s/step - loss: 1.1795 - logits_loss: 0.8251 - loss_loss: 0.3545\n",
      "Epoch 6/15\n",
      "329/329 [==============================] - 4964s 15s/step - loss: 1.1753 - logits_loss: 0.8209 - loss_loss: 0.3544\n",
      "Epoch 7/15\n",
      "329/329 [==============================] - 4990s 15s/step - loss: 1.1802 - logits_loss: 0.8251 - loss_loss: 0.3551\n",
      "Epoch 8/15\n",
      "329/329 [==============================] - 4893s 15s/step - loss: 1.1774 - logits_loss: 0.8230 - loss_loss: 0.3544\n",
      "Epoch 9/15\n",
      "329/329 [==============================] - 4851s 15s/step - loss: 1.1748 - logits_loss: 0.8208 - loss_loss: 0.3540\n",
      "Epoch 10/15\n",
      "329/329 [==============================] - 4889s 15s/step - loss: 1.1815 - logits_loss: 0.8269 - loss_loss: 0.3546\n",
      "Epoch 11/15\n",
      "329/329 [==============================] - 4903s 15s/step - loss: 1.1792 - logits_loss: 0.8245 - loss_loss: 0.3547\n",
      "Epoch 12/15\n",
      "329/329 [==============================] - 4961s 15s/step - loss: 1.1762 - logits_loss: 0.8227 - loss_loss: 0.3535\n",
      "Epoch 13/15\n",
      "329/329 [==============================] - 5931s 18s/step - loss: 1.1787 - logits_loss: 0.8245 - loss_loss: 0.3542\n",
      "Epoch 14/15\n",
      "329/329 [==============================] - 6528s 20s/step - loss: 1.1791 - logits_loss: 0.8247 - loss_loss: 0.3544\n",
      "Epoch 15/15\n",
      "329/329 [==============================] - 8920s 27s/step - loss: 1.1773 - logits_loss: 0.8223 - loss_loss: 0.3551\n"
     ]
    },
    {
     "data": {
      "text/plain": [
       "<keras.callbacks.History at 0x1df6821d880>"
      ]
     },
     "execution_count": 11,
     "metadata": {},
     "output_type": "execute_result"
    }
   ],
   "source": [
    "model.fit(tf_train_dataset,epochs=15)"
   ]
  },
  {
   "cell_type": "code",
   "execution_count": 12,
   "metadata": {},
   "outputs": [
    {
     "name": "stderr",
     "output_type": "stream",
     "text": [
      "100%|██████████| 1/1 [00:04<00:00,  4.34s/ba]\n"
     ]
    }
   ],
   "source": [
    "# Make predictions\n",
    "\n",
    "data = pd.read_csv(\"../../data/sensitivity_data/sensitivity_dataset.csv\")\n",
    "data = data[[\"Document\",\"Sensitivity\"]]\n",
    "train_x, test_x, train_y, test_y = model_selection.train_test_split(data['Document'],data['Sensitivity'],test_size=0.2,random_state=5)\n",
    "train_x = np.array(train_x)\n",
    "train_y = np.array(train_y)\n",
    "test_x = np.array(test_x)\n",
    "test_y = np.array(test_y)\n",
    "\n",
    "dataset = []\n",
    "for i in range(len(test_x)):\n",
    "    dataset.append({\"label\" : test_y[i], \"text\" : test_x[i]})\n",
    "\n",
    "dataset = pd.DataFrame(dataset)\n",
    "dataset = Dataset.from_pandas(dataset)\n",
    "\n",
    "def preprocess_function(examples):\n",
    "    return tokenizer(examples[\"text\"],padding=False,truncation=True)\n",
    "\n",
    "tokenised_dataset = dataset.map(preprocess_function, batched=True)\n",
    "\n",
    "tf_test_dataset = tokenised_dataset.to_tf_dataset(\n",
    "    columns=['attention_mask', 'input_ids', 'label'],\n",
    "    label_cols=['label'],\n",
    "    shuffle=True,\n",
    "    batch_size=16,\n",
    "    collate_fn=data_collator,\n",
    ")"
   ]
  },
  {
   "cell_type": "code",
   "execution_count": 13,
   "metadata": {},
   "outputs": [
    {
     "name": "stdout",
     "output_type": "stream",
     "text": [
      "WARNING:tensorflow:The parameters `output_attentions`, `output_hidden_states` and `use_cache` cannot be updated when calling a model.They have to be set to True/False in the config object (i.e.: `config=XConfig.from_pretrained('name', output_attentions=True)`).\n",
      "WARNING:tensorflow:The parameter `return_dict` cannot be set in graph mode and will always be set to `True`.\n"
     ]
    }
   ],
   "source": [
    "output = model.predict(tf_test_dataset)"
   ]
  },
  {
   "cell_type": "code",
   "execution_count": 14,
   "metadata": {},
   "outputs": [],
   "source": [
    "prediction_probs = tf.nn.softmax(output.logits)\n",
    "predictions = []\n",
    "for prob in prediction_probs:\n",
    "    if prob[0] > prob[1]:\n",
    "        predictions.append(0)\n",
    "    else:\n",
    "        predictions.append(1)"
   ]
  },
  {
   "cell_type": "code",
   "execution_count": 15,
   "metadata": {},
   "outputs": [
    {
     "name": "stdout",
     "output_type": "stream",
     "text": [
      "0\n"
     ]
    }
   ],
   "source": [
    "# None of the predictions are 1\n",
    "print(sum(predictions))"
   ]
  }
 ],
 "metadata": {
  "interpreter": {
   "hash": "a2292f7dadeec0b36dafabb7d1d8dd7b9b8b8f0665c515bec64e67bf9650aaf0"
  },
  "kernelspec": {
   "display_name": "Python 3.9.9 64-bit (windows store)",
   "language": "python",
   "name": "python3"
  },
  "language_info": {
   "codemirror_mode": {
    "name": "ipython",
    "version": 3
   },
   "file_extension": ".py",
   "mimetype": "text/x-python",
   "name": "python",
   "nbconvert_exporter": "python",
   "pygments_lexer": "ipython3",
   "version": "3.9.9"
  },
  "orig_nbformat": 4
 },
 "nbformat": 4,
 "nbformat_minor": 2
}
