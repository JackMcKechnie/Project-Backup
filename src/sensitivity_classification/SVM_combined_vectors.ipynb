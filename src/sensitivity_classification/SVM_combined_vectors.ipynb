{
 "cells": [
  {
   "cell_type": "code",
   "execution_count": 2,
   "metadata": {},
   "outputs": [],
   "source": [
    "# Imports \n",
    "import pandas as pd\n",
    "import numpy as np\n",
    "from sklearn.feature_extraction.text import TfidfVectorizer\n",
    "from sklearn import model_selection\n",
    "from sklearn.metrics import balanced_accuracy_score\n",
    "from sklearn.metrics import fbeta_score\n",
    "from sklearn.metrics import precision_score\n",
    "from imblearn.under_sampling import RandomUnderSampler\n",
    "from imblearn.over_sampling import RandomOverSampler\n",
    "from sklearn.model_selection import GridSearchCV\n",
    "from sklearn.svm import SVC\n",
    "from imblearn.pipeline import Pipeline, make_pipeline\n",
    "from sklearn.metrics import make_scorer\n",
    "import math\n",
    "import random"
   ]
  },
  {
   "cell_type": "code",
   "execution_count": 3,
   "metadata": {},
   "outputs": [],
   "source": [
    "# Load in dataset\n",
    "data = pd.read_csv(\"../../data/sensitivity_data/sensitivity_dataset.csv\")\n",
    "data = data[[\"Filename\",\"Date\",\"Sensitivity\",\"Document\"]]"
   ]
  },
  {
   "cell_type": "code",
   "execution_count": 4,
   "metadata": {},
   "outputs": [],
   "source": [
    "# TF-IDF vectorise\n",
    "\n",
    "Tfidf_vect = TfidfVectorizer(max_features=5000000)\n",
    "Tfidf_vect.fit(data[\"Document\"])\n",
    "tf_idfs = Tfidf_vect.transform(data[\"Document\"])\n",
    "tf_idfs = np.array(tf_idfs.todense())"
   ]
  },
  {
   "cell_type": "code",
   "execution_count": null,
   "metadata": {},
   "outputs": [],
   "source": [
    "###########################################\n",
    "## RANDOM RESAMPLING THEN RANDOM SAMPLE  ##\n",
    "###########################################\n",
    "\n",
    "formalities_data = pd.read_csv(\"gensim_formalities.csv\")\n",
    "formalities_data = np.array(formalities_data)\n",
    "for i in range(len(formalities_data)):\n",
    "    arr = formalities_data[i]\n",
    "    non_nans = arr[~np.isnan(arr)]\n",
    "    formalities_data[i] = [random.choice(non_nans) if math.isnan(x) else x for x in arr]\n",
    "\n",
    "formalities_data = pd.DataFrame(formalities_data)\n",
    "random_formalities = np.array(formalities_data.sample(n=10,axis='columns'))\n",
    "\n",
    "combined_dataset = np.hstack((tf_idfs,random_formalities))\n",
    "sensitivities = np.array(data[\"Sensitivity\"])\n",
    "sensitivities = sensitivities.reshape(-1,1)\n",
    "\n",
    "# Train / Test split\n",
    "train_x, test_x, train_y, test_y = model_selection.train_test_split(combined_dataset,sensitivities,test_size=0.2,random_state=5)"
   ]
  },
  {
   "cell_type": "code",
   "execution_count": 5,
   "metadata": {},
   "outputs": [],
   "source": [
    "##############################\n",
    "## REPEAT AND RANDOM SAMPLE ##\n",
    "##############################\n",
    "\n",
    "formalities_data = pd.read_csv(\"gensim_formalities.csv\")\n",
    "formalities_data = np.array(formalities_data)\n",
    "non_nan_formalities_data = []\n",
    "for i in range(len(formalities_data)):\n",
    "    arr = np.array(formalities_data[i][~np.isnan(formalities_data[i])])\n",
    "    arr = np.resize(arr, 1337)\n",
    "    non_nan_formalities_data.append(arr)\n",
    "    \n",
    "\n",
    "\n",
    "formalities_data = pd.DataFrame(non_nan_formalities_data)\n",
    "\n",
    "rand_int = random.randint(0,(1337-100))\n",
    "columns = np.arange(rand_int,(rand_int+100))\n",
    "random_formalities = np.array(formalities_data.iloc[:,columns])\n",
    "\n",
    "\n",
    "combined_dataset = np.hstack((tf_idfs,random_formalities))\n",
    "sensitivities = np.array(data[\"Sensitivity\"])\n",
    "sensitivities = sensitivities.reshape(-1,1)\n",
    "\n",
    "# Train / Test split\n",
    "train_x, test_x, train_y, test_y = model_selection.train_test_split(combined_dataset,sensitivities,test_size=0.2,random_state=5)"
   ]
  },
  {
   "cell_type": "code",
   "execution_count": 6,
   "metadata": {},
   "outputs": [
    {
     "name": "stdout",
     "output_type": "stream",
     "text": [
      "0.14642857142857144 0.5389246865928738 0.3125\n"
     ]
    }
   ],
   "source": [
    "imba_pipeline = make_pipeline(RandomOverSampler(random_state=42), SVC())\n",
    "imba_pipeline.fit(train_x, train_y)\n",
    "y_test_predict = imba_pipeline.predict(test_x)\n",
    "precision = precision_score(test_y, y_test_predict)\n",
    "bac = balanced_accuracy_score(test_y, y_test_predict)\n",
    "f2 = fbeta_score(test_y, y_test_predict, beta=2.0)\n",
    "print(precision,bac,f2)"
   ]
  },
  {
   "cell_type": "code",
   "execution_count": 7,
   "metadata": {},
   "outputs": [],
   "source": [
    "imba_pipeline = make_pipeline(RandomOverSampler(random_state=42), SVC())\n",
    "\n",
    "params = {'C': [0.1, 1, 10, 100, 1000],\n",
    "              'gamma': [1, 0.1, 0.01, 0.001, 0.0001],\n",
    "              'kernel': ['linear', 'poly', 'rbf', 'sigmoid']}\n",
    "\n",
    "kfold = model_selection.KFold(n_splits=5)\n",
    "\n",
    "new_params = {'svc__' + key: params[key] for key in params}\n",
    "grid_imba = GridSearchCV(imba_pipeline, param_grid=new_params, cv=kfold, scoring='balanced_accuracy', return_train_score=True)\n",
    "\n",
    "grid_imba.fit(train_x, train_y)\n",
    "y_test_predict = grid_imba.best_estimator_.named_steps['svc'].predict(test_x)\n",
    "\n",
    "precision = precision_score(test_y, y_test_predict)\n",
    "bac = balanced_accuracy_score(test_y, y_test_predict)\n",
    "f2 = fbeta_score(test_y, y_test_predict, beta=2.0)\n",
    "print(precision,bac,f2)"
   ]
  },
  {
   "cell_type": "code",
   "execution_count": null,
   "metadata": {},
   "outputs": [],
   "source": [
    "scoring = {\n",
    "\"f2_score\" : make_scorer(fbeta_score, beta=2.0),\n",
    "\"precision\" : make_scorer(precision_score),\n",
    "\"bal_acc\" : make_scorer(balanced_accuracy_score)\n",
    "}\n",
    "\n",
    "results = model_selection.cross_validate(estimator=grid_imba.best_estimator_, X=train_x, y=train_y, cv=kfold, scoring=scoring)"
   ]
  },
  {
   "cell_type": "code",
   "execution_count": null,
   "metadata": {},
   "outputs": [
    {
     "name": "stdout",
     "output_type": "stream",
     "text": [
      "0.2019 0.6193 0.4342\n"
     ]
    }
   ],
   "source": [
    "f2 = np.round(np.mean(results['test_f2_score']),4)\n",
    "precision = np.round(np.mean(results['test_precision']),4)\n",
    "bac = np.round(np.mean(results['test_bal_acc']),4)\n",
    "print(precision,bac,f2)"
   ]
  },
  {
   "cell_type": "code",
   "execution_count": null,
   "metadata": {},
   "outputs": [
    {
     "data": {
      "text/plain": [
       "{'svc__C': 10, 'svc__gamma': 1, 'svc__kernel': 'linear'}"
      ]
     },
     "execution_count": 10,
     "metadata": {},
     "output_type": "execute_result"
    }
   ],
   "source": [
    "# CURRENTLY RUNNING REPEAT AND RANDOM SAMPLE ON GENSIM FORMALITIES WITH OVERSAMPLER 23/1/22 20:55\n",
    "grid_imba.best_params_"
   ]
  }
 ],
 "metadata": {
  "interpreter": {
   "hash": "a2292f7dadeec0b36dafabb7d1d8dd7b9b8b8f0665c515bec64e67bf9650aaf0"
  },
  "kernelspec": {
   "display_name": "Python 3.9.9 64-bit (windows store)",
   "language": "python",
   "name": "python3"
  },
  "language_info": {
   "codemirror_mode": {
    "name": "ipython",
    "version": 3
   },
   "file_extension": ".py",
   "mimetype": "text/x-python",
   "name": "python",
   "nbconvert_exporter": "python",
   "pygments_lexer": "ipython3",
   "version": "3.9.10"
  },
  "orig_nbformat": 4
 },
 "nbformat": 4,
 "nbformat_minor": 2
}
