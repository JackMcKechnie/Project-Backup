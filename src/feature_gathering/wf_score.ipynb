{
 "cells": [
  {
   "cell_type": "code",
   "execution_count": 9,
   "metadata": {},
   "outputs": [],
   "source": [
    "import pandas as pd\n",
    "import nltk\n",
    "from nltk.tokenize import RegexpTokenizer"
   ]
  },
  {
   "cell_type": "code",
   "execution_count": 61,
   "metadata": {},
   "outputs": [],
   "source": [
    "# Import SQUINKY sentences\n",
    "squinky = pd.read_csv(\"..\\..\\data\\mturk_experiment_2.csv\",encoding=\"unicode escape\")\n",
    "sentences = pd.DataFrame()\n",
    "sentences[\"Sentence\"] = squinky[\"Sentence\"]\n",
    "\n",
    "test = \"The driver of the crawler-transporter slowly maneuvers the huge vehicle under the mobile launcher platform holding the 327-foot-tall Ares I-X rocket at NASA's Kennedy Space Center in Florida.\"\n",
    "tokenizer = RegexpTokenizer(r'\\w+')\n",
    "test = tokenizer.tokenize(test)\n"
   ]
  },
  {
   "cell_type": "code",
   "execution_count": 63,
   "metadata": {},
   "outputs": [],
   "source": [
    "pos = nltk.pos_tag(test)"
   ]
  },
  {
   "cell_type": "code",
   "execution_count": 64,
   "metadata": {},
   "outputs": [],
   "source": [
    "# Should 'Wh' pronouns be counted as pronouns? Should proper nouns be counted as nouns? Are determiner and article synonyms?\n",
    "noun_tags = [\"NN\",\"NNS\",\"NNP\",\"NNPS\"]\n",
    "adjective_tags = [\"JJ\",\"JJR\",\"JJS\"]\n",
    "article_tags = [\"DT\"]\n",
    "pronoun_tags = [\"PRP\",\"PRP$\",\"WP\",\"WP$\"]\n",
    "verb_tags = [\"VB\",\"VBD\",\"VBG\",\"VBN\",\"VBP\",\"VBZ\"]"
   ]
  },
  {
   "cell_type": "code",
   "execution_count": 65,
   "metadata": {},
   "outputs": [
    {
     "name": "stdout",
     "output_type": "stream",
     "text": [
      "14 3 5 4 0\n"
     ]
    }
   ],
   "source": [
    "noun_count = 0\n",
    "adjective_count = 0\n",
    "article_count = 0\n",
    "pronoun_count = 0\n",
    "verb_count = 0\n",
    "\n",
    "for point in pos:\n",
    "    point = point[1]\n",
    "    if point in noun_tags:\n",
    "        noun_count += 1\n",
    "    if point in adjective_tags:\n",
    "        adjective_count += 1\n",
    "    if point in article_tags:\n",
    "        article_count += 1\n",
    "    if point in pronoun_tags:\n",
    "        pronoun_count += 1\n",
    "    if point in verb_tags:\n",
    "        pronoun_count += 1\n",
    "\n",
    "print(noun_count,adjective_count,article_count,pronoun_count,verb_count)"
   ]
  },
  {
   "cell_type": "code",
   "execution_count": 66,
   "metadata": {},
   "outputs": [
    {
     "data": {
      "text/plain": [
       "4.8638"
      ]
     },
     "execution_count": 66,
     "metadata": {},
     "output_type": "execute_result"
    }
   ],
   "source": [
    "wf_score = 4.9717 + 0.0264 * noun_count + 0.0617 * adjective_count - 0.0742 * article_count - 0.0729 * pronoun_count - 0.0441 * verb_count\n",
    "\n",
    "wf_score"
   ]
  }
 ],
 "metadata": {
  "interpreter": {
   "hash": "a2292f7dadeec0b36dafabb7d1d8dd7b9b8b8f0665c515bec64e67bf9650aaf0"
  },
  "kernelspec": {
   "display_name": "Python 3.9.7 64-bit (windows store)",
   "name": "python3"
  },
  "language_info": {
   "codemirror_mode": {
    "name": "ipython",
    "version": 3
   },
   "file_extension": ".py",
   "mimetype": "text/x-python",
   "name": "python",
   "nbconvert_exporter": "python",
   "pygments_lexer": "ipython3",
   "version": "3.9.7"
  },
  "orig_nbformat": 4
 },
 "nbformat": 4,
 "nbformat_minor": 2
}
