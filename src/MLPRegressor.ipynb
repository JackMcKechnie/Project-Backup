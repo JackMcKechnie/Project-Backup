{
 "cells": [
  {
   "cell_type": "code",
   "execution_count": 9,
   "metadata": {},
   "outputs": [],
   "source": [
    "import pandas as pd\n",
    "from sklearn.model_selection import KFold\n",
    "from sklearn.model_selection import train_test_split\n",
    "from sklearn.model_selection import cross_validate\n",
    "from sklearn.neural_network import MLPRegressor\n",
    "from sklearn.model_selection import GridSearchCV"
   ]
  },
  {
   "cell_type": "code",
   "execution_count": 3,
   "metadata": {},
   "outputs": [],
   "source": [
    "# Import and sort out data\n",
    "data = pd.read_csv(\"..\\data\\mturk_experiment_2.csv\",encoding = 'unicode_escape')\n",
    "feature_names = [\"Informativeness\",\"Implicature\",\"Length in Words\",\"Length in Characters\",\"F-score\",\"I-score\",\"Lexical Density\"]\n",
    "X = data[feature_names]\n",
    "y = data[\"Formality\"]"
   ]
  },
  {
   "cell_type": "code",
   "execution_count": 4,
   "metadata": {},
   "outputs": [],
   "source": [
    "#Split data\n",
    "X_train, X_test, y_train, y_test = train_test_split(X,y,random_state=1)"
   ]
  },
  {
   "cell_type": "code",
   "execution_count": 7,
   "metadata": {},
   "outputs": [
    {
     "data": {
      "text/plain": [
       "0.568966669682306"
      ]
     },
     "execution_count": 7,
     "metadata": {},
     "output_type": "execute_result"
    }
   ],
   "source": [
    "#Perform regression\n",
    "regr = MLPRegressor()\n",
    "model = regr.fit(X_train, y_train)\n",
    "predictions = regr.predict(X_test)\n",
    "regr.score(X_test,y_test)"
   ]
  },
  {
   "cell_type": "code",
   "execution_count": 8,
   "metadata": {},
   "outputs": [
    {
     "data": {
      "text/plain": [
       "{'fit_time': array([1.2392714 , 1.71597195, 1.84816003, 1.3968389 , 1.19974566,\n",
       "        1.49211669, 1.48410678, 1.41377044, 1.08217072, 0.62453508]),\n",
       " 'score_time': array([0.        , 0.00421429, 0.        , 0.00252199, 0.00755882,\n",
       "        0.00798917, 0.        , 0.00798941, 0.        , 0.        ]),\n",
       " 'test_r2': array([0.516256  , 0.51740647, 0.57883077, 0.60129266, 0.49892498,\n",
       "        0.59482078, 0.56030483, 0.5741149 , 0.51300841, 0.5682163 ]),\n",
       " 'test_neg_mean_squared_error': array([-0.62764534, -0.59608693, -0.52667328, -0.52452892, -0.65905749,\n",
       "        -0.49467086, -0.52668569, -0.53921539, -0.62104432, -0.56254152]),\n",
       " 'test_neg_median_absolute_error': array([-0.51971982, -0.51733266, -0.46882715, -0.48963657, -0.56478517,\n",
       "        -0.49389096, -0.46730632, -0.49518318, -0.59782325, -0.49516267]),\n",
       " 'test_max_error': array([-2.5420687 , -2.59880032, -2.89698594, -3.57982248, -2.56814981,\n",
       "        -2.26837571, -2.12708045, -2.93957627, -2.61775358, -2.28268417])}"
      ]
     },
     "execution_count": 8,
     "metadata": {},
     "output_type": "execute_result"
    }
   ],
   "source": [
    "cv = KFold(n_splits=10, random_state=1, shuffle=True)\n",
    "scoring = [\"r2\",\"neg_mean_squared_error\",\"neg_median_absolute_error\",\"max_error\"]\n",
    "scores = cross_validate(regr, X_train, y_train, cv=cv,scoring=scoring,n_jobs=-1)\n",
    "scores"
   ]
  },
  {
   "cell_type": "code",
   "execution_count": 11,
   "metadata": {},
   "outputs": [
    {
     "data": {
      "text/plain": [
       "{'fit_time': array([502.46380186, 493.58867431, 496.62285852, 494.01186013,\n",
       "        489.02825689, 484.8968854 , 488.47909594, 497.12838197,\n",
       "        310.40511799, 329.08186555]),\n",
       " 'score_time': array([0.006212  , 0.03371382, 0.01325345, 0.01392603, 0.02967596,\n",
       "        0.04421949, 0.0300355 , 0.00628614, 0.        , 0.        ]),\n",
       " 'test_r2': array([0.5670016 , 0.51664827, 0.58845763, 0.61835869, 0.52946971,\n",
       "        0.58686779, 0.5394419 , 0.58267361, 0.58701605, 0.57058181]),\n",
       " 'test_neg_mean_squared_error': array([-0.56180424, -0.59702345, -0.51463487, -0.50207731, -0.6188824 ,\n",
       "        -0.50438042, -0.5516762 , -0.52837916, -0.52666482, -0.55945966]),\n",
       " 'test_neg_median_absolute_error': array([-0.5029472 , -0.50702913, -0.45243229, -0.47531025, -0.53131453,\n",
       "        -0.49515699, -0.52066542, -0.49128624, -0.49052304, -0.50681058]),\n",
       " 'test_max_error': array([-2.64116345, -2.56261611, -2.71577815, -2.75880621, -2.30319131,\n",
       "        -2.42514001, -2.2134629 , -3.05745179, -2.39578687, -2.61081887])}"
      ]
     },
     "execution_count": 11,
     "metadata": {},
     "output_type": "execute_result"
    }
   ],
   "source": [
    "param_list = {\"hidden_layer_sizes\": [(1,),(50,)], \"activation\": [\"identity\", \"logistic\", \"tanh\", \"relu\"], \"solver\": [\"lbfgs\", \"sgd\", \"adam\"], \"alpha\": [0.00005,0.0005]}\n",
    "gridCV = GridSearchCV(estimator=regr, param_grid=param_list,n_jobs=-1)\n",
    "scores = cross_validate(gridCV, X_train, y_train, cv=cv,scoring=scoring,n_jobs=-1)\n",
    "scores"
   ]
  }
 ],
 "metadata": {
  "interpreter": {
   "hash": "a2292f7dadeec0b36dafabb7d1d8dd7b9b8b8f0665c515bec64e67bf9650aaf0"
  },
  "kernelspec": {
   "display_name": "Python 3.9.7 64-bit (windows store)",
   "name": "python3"
  },
  "language_info": {
   "codemirror_mode": {
    "name": "ipython",
    "version": 3
   },
   "file_extension": ".py",
   "mimetype": "text/x-python",
   "name": "python",
   "nbconvert_exporter": "python",
   "pygments_lexer": "ipython3",
   "version": "3.9.7"
  },
  "orig_nbformat": 4
 },
 "nbformat": 4,
 "nbformat_minor": 2
}
